{
 "cells": [
  {
   "cell_type": "markdown",
   "id": "96c3b901",
   "metadata": {},
   "source": [
    "# 500 Exercises to Master Python Pandas"
   ]
  },
  {
   "cell_type": "markdown",
   "id": "688e4d44",
   "metadata": {},
   "source": [
    "### 1. Introduction\n",
    "1. Introduction\n",
    "2. Course structure and installation\n",
    "3. Reading data\n",
    "4. Exploring a DataFrame\n",
    "\n",
    "\n",
    "### 2. Data exploration and manipulation\n",
    "5. Data types\n",
    "6. Column operations\n",
    "7. Date manipulation\n",
    "8. String manipulation\n",
    "9. Categorical data\n",
    "\n",
    "### 3. Data filtering\n",
    "10. Missing values\n",
    "11. loc and iloc methods\n",
    "12. Filtering DataFrames\n",
    "\n",
    "### 4. Combining DataFrames\n",
    "13. Combining DataFrames\n",
    "14. Merging DataFrames\n",
    "15. Reshaping DataFrames\n",
    "\n",
    "### 5. Data analysis and visualization\n",
    "16. Data analysis\n",
    "17. Data visualization\n",
    "18. Time series analysis with Pandas\n",
    "\n",
    "### 6. Use cases\n",
    "19. Data cleaning and analysis 1 (obesity dataset)\n",
    "20. Data cleaning and analysis 2 (customer churn dataset)\n",
    "\n",
    "### 7. More learnings\n",
    "21. Python dictionaries with Pandas\n",
    "22. Pandas pipelines\n",
    "23. Styling DataFrames\n",
    "24. Functions not to forget"
   ]
  },
  {
   "cell_type": "markdown",
   "id": "9c467e1d",
   "metadata": {},
   "source": [
    "## Installation"
   ]
  },
  {
   "cell_type": "code",
   "execution_count": 1,
   "id": "4d537158",
   "metadata": {},
   "outputs": [
    {
     "name": "stdout",
     "output_type": "stream",
     "text": [
      "Requirement already satisfied: pandas in /Users/sonery/opt/miniconda3/lib/python3.9/site-packages (2.0.2)\n",
      "Requirement already satisfied: numpy>=1.20.3 in /Users/sonery/opt/miniconda3/lib/python3.9/site-packages (from pandas) (1.23.5)\n",
      "Requirement already satisfied: pytz>=2020.1 in /Users/sonery/opt/miniconda3/lib/python3.9/site-packages (from pandas) (2022.7)\n",
      "Requirement already satisfied: tzdata>=2022.1 in /Users/sonery/opt/miniconda3/lib/python3.9/site-packages (from pandas) (2023.3)\n",
      "Requirement already satisfied: python-dateutil>=2.8.2 in /Users/sonery/opt/miniconda3/lib/python3.9/site-packages (from pandas) (2.8.2)\n",
      "Requirement already satisfied: six>=1.5 in /Users/sonery/opt/miniconda3/lib/python3.9/site-packages (from python-dateutil>=2.8.2->pandas) (1.16.0)\n"
     ]
    }
   ],
   "source": [
    "!pip install pandas"
   ]
  },
  {
   "cell_type": "code",
   "execution_count": 2,
   "id": "072ba82e",
   "metadata": {},
   "outputs": [
    {
     "name": "stdout",
     "output_type": "stream",
     "text": [
      "Requirement already satisfied: pandas==2.0.2 in /Users/sonery/opt/miniconda3/lib/python3.9/site-packages (2.0.2)\n",
      "Requirement already satisfied: numpy>=1.20.3 in /Users/sonery/opt/miniconda3/lib/python3.9/site-packages (from pandas==2.0.2) (1.23.5)\n",
      "Requirement already satisfied: pytz>=2020.1 in /Users/sonery/opt/miniconda3/lib/python3.9/site-packages (from pandas==2.0.2) (2022.7)\n",
      "Requirement already satisfied: python-dateutil>=2.8.2 in /Users/sonery/opt/miniconda3/lib/python3.9/site-packages (from pandas==2.0.2) (2.8.2)\n",
      "Requirement already satisfied: tzdata>=2022.1 in /Users/sonery/opt/miniconda3/lib/python3.9/site-packages (from pandas==2.0.2) (2023.3)\n",
      "Requirement already satisfied: six>=1.5 in /Users/sonery/opt/miniconda3/lib/python3.9/site-packages (from python-dateutil>=2.8.2->pandas==2.0.2) (1.16.0)\n"
     ]
    }
   ],
   "source": [
    "!pip install pandas==2.0.2"
   ]
  },
  {
   "cell_type": "code",
   "execution_count": 3,
   "id": "d406ae50",
   "metadata": {},
   "outputs": [
    {
     "data": {
      "text/plain": [
       "'2.0.2'"
      ]
     },
     "execution_count": 3,
     "metadata": {},
     "output_type": "execute_result"
    }
   ],
   "source": [
    "import pandas as pd\n",
    "pd.__version__"
   ]
  },
  {
   "cell_type": "markdown",
   "id": "f7b3cc30",
   "metadata": {},
   "source": [
    "**As of recording this video:**\n",
    "\n",
    "* Latest version: 2.0.2\n",
    "* Release date: May 28, 2023"
   ]
  },
  {
   "cell_type": "markdown",
   "id": "9e57bdf2",
   "metadata": {},
   "source": [
    "## Exercise distribution"
   ]
  },
  {
   "cell_type": "code",
   "execution_count": 4,
   "id": "bd0370b4",
   "metadata": {},
   "outputs": [
    {
     "name": "stdout",
     "output_type": "stream",
     "text": [
      "This course contains a total of 500 exercises. Happy learning!\n"
     ]
    }
   ],
   "source": [
    "exercises = {\n",
    "    \n",
    "    \"Reading data\": 12,\n",
    "    \"Exploring a DataFrame\": 11,\n",
    "    \"Data types\": 15,\n",
    "    \"Column and row operations\": 34,\n",
    "    \"loc and iloc methods\": 20,\n",
    "    \"Date manipulation\": 30,\n",
    "    \"String manipulation\": 30,\n",
    "    \"Categorical data\": 16,\n",
    "    \"Missing values\": 25,\n",
    "    \"Combining DataFrames\": 19,\n",
    "    \"Merging DataFrames\": 36,\n",
    "    \"Filtering DataFrames\": 52,\n",
    "    \"Data analysis\": 47,\n",
    "    \"Reshaping DataFrames\": 14,\n",
    "    \"Data visualization\": 15,\n",
    "    \"Python dictionaries with Pandas\": 18,\n",
    "    \"Time series analysis with Pandas\": 18,\n",
    "    \"Pandas pipelines\": 10,\n",
    "    \"Data cleaning and analysis 1\": 35,\n",
    "    \"Data cleaning and analysis2\": 18,\n",
    "    \"Styling DataFrames\": 15,\n",
    "    \"Functions not to forget\": 10\n",
    "      \n",
    "}\n",
    "\n",
    "print(f\"This course contains a total of {pd.Series(exercises.values()).sum()} exercises. Happy learning!\")"
   ]
  }
 ],
 "metadata": {
  "kernelspec": {
   "display_name": "Python 3 (ipykernel)",
   "language": "python",
   "name": "python3"
  },
  "language_info": {
   "codemirror_mode": {
    "name": "ipython",
    "version": 3
   },
   "file_extension": ".py",
   "mimetype": "text/x-python",
   "name": "python",
   "nbconvert_exporter": "python",
   "pygments_lexer": "ipython3",
   "version": "3.10.8"
  }
 },
 "nbformat": 4,
 "nbformat_minor": 5
}
