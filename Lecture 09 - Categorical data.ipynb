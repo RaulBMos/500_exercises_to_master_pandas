{
 "cells": [
  {
   "cell_type": "markdown",
   "id": "642b20fb",
   "metadata": {},
   "source": [
    "# Categorical data\n",
    "\n",
    "* Categoricals are a pandas data type corresponding to categorical variables in statistics.\n",
    "* Data type: category\n",
    "* Cat accessor"
   ]
  },
  {
   "cell_type": "markdown",
   "id": "83636539",
   "metadata": {},
   "source": [
    "## Exercise 1 - category data type"
   ]
  },
  {
   "cell_type": "code",
   "execution_count": 1,
   "id": "9338b6e9",
   "metadata": {},
   "outputs": [
    {
     "data": {
      "text/plain": [
       "0      Ford\n",
       "1    Toyota\n",
       "2       BMW\n",
       "dtype: category\n",
       "Categories (3, object): ['BMW', 'Ford', 'Toyota']"
      ]
     },
     "execution_count": 1,
     "metadata": {},
     "output_type": "execute_result"
    }
   ],
   "source": [
    "import pandas as pd\n",
    "\n",
    "brands = pd.Series([\"Ford\", \"Toyota\", \"BMW\"], dtype=\"category\")\n",
    "\n",
    "brands"
   ]
  },
  {
   "cell_type": "code",
   "execution_count": 2,
   "id": "c6bda2e9",
   "metadata": {},
   "outputs": [
    {
     "data": {
      "text/plain": [
       "0      Ford\n",
       "1    Toyota\n",
       "2       BMW\n",
       "dtype: category\n",
       "Categories (3, object): ['BMW', 'Ford', 'Toyota']"
      ]
     },
     "execution_count": 2,
     "metadata": {},
     "output_type": "execute_result"
    }
   ],
   "source": [
    "brands = pd.Series(pd.Categorical([\"Ford\", \"Toyota\", \"BMW\"]))\n",
    "\n",
    "brands"
   ]
  },
  {
   "cell_type": "markdown",
   "id": "521a5122",
   "metadata": {},
   "source": [
    "## Exercise 2 - categories"
   ]
  },
  {
   "cell_type": "code",
   "execution_count": 3,
   "id": "3ad3a4a5",
   "metadata": {},
   "outputs": [
    {
     "data": {
      "text/plain": [
       "0      Ford\n",
       "1    Toyota\n",
       "2       BMW\n",
       "dtype: category\n",
       "Categories (4, object): ['Ford', 'Toyota', 'BMW', 'Nissan']"
      ]
     },
     "execution_count": 3,
     "metadata": {},
     "output_type": "execute_result"
    }
   ],
   "source": [
    "brands = pd.Series(pd.Categorical([\"Ford\", \"Toyota\", \"BMW\"], categories=[\"Ford\", \"Toyota\", \"BMW\", \"Nissan\"]))\n",
    "\n",
    "brands"
   ]
  },
  {
   "cell_type": "markdown",
   "id": "9b7387ad",
   "metadata": {},
   "source": [
    "## Exercise 3 - astype"
   ]
  },
  {
   "cell_type": "code",
   "execution_count": 4,
   "id": "9bf71130",
   "metadata": {},
   "outputs": [
    {
     "data": {
      "text/plain": [
       "0     M\n",
       "1     L\n",
       "2     M\n",
       "3    XL\n",
       "4     S\n",
       "5     M\n",
       "6     M\n",
       "7     S\n",
       "8     L\n",
       "9     L\n",
       "dtype: object"
      ]
     },
     "execution_count": 4,
     "metadata": {},
     "output_type": "execute_result"
    }
   ],
   "source": [
    "sizes = pd.Series([\"M\", \"L\", \"M\", \"XL\", \"S\", \"M\", \"M\", \"S\", \"L\", \"L\"])\n",
    "\n",
    "sizes"
   ]
  },
  {
   "cell_type": "code",
   "execution_count": 5,
   "id": "8d9174d3",
   "metadata": {},
   "outputs": [
    {
     "data": {
      "text/plain": [
       "0     M\n",
       "1     L\n",
       "2     M\n",
       "3    XL\n",
       "4     S\n",
       "5     M\n",
       "6     M\n",
       "7     S\n",
       "8     L\n",
       "9     L\n",
       "dtype: category\n",
       "Categories (4, object): ['L', 'M', 'S', 'XL']"
      ]
     },
     "execution_count": 5,
     "metadata": {},
     "output_type": "execute_result"
    }
   ],
   "source": [
    "sizes = sizes.astype(\"category\")\n",
    "\n",
    "sizes"
   ]
  },
  {
   "cell_type": "markdown",
   "id": "3b56cd09",
   "metadata": {},
   "source": [
    "## Exercise 4 - add categories"
   ]
  },
  {
   "cell_type": "code",
   "execution_count": 6,
   "id": "d519f08f",
   "metadata": {},
   "outputs": [
    {
     "data": {
      "text/plain": [
       "0      Ford\n",
       "1    Toyota\n",
       "2       BMW\n",
       "dtype: category\n",
       "Categories (5, object): ['Ford', 'Toyota', 'BMW', 'Nissan', 'Tesla']"
      ]
     },
     "execution_count": 6,
     "metadata": {},
     "output_type": "execute_result"
    }
   ],
   "source": [
    "brands.cat.add_categories(\"Tesla\")"
   ]
  },
  {
   "cell_type": "code",
   "execution_count": 7,
   "id": "5854b81c",
   "metadata": {},
   "outputs": [
    {
     "data": {
      "text/plain": [
       "0      Ford\n",
       "1    Toyota\n",
       "2       BMW\n",
       "dtype: category\n",
       "Categories (4, object): ['Ford', 'Toyota', 'BMW', 'Nissan']"
      ]
     },
     "execution_count": 7,
     "metadata": {},
     "output_type": "execute_result"
    }
   ],
   "source": [
    "brands"
   ]
  },
  {
   "cell_type": "code",
   "execution_count": 8,
   "id": "3fce6e7d",
   "metadata": {},
   "outputs": [
    {
     "data": {
      "text/plain": [
       "0      Ford\n",
       "1    Toyota\n",
       "2       BMW\n",
       "dtype: category\n",
       "Categories (5, object): ['Ford', 'Toyota', 'BMW', 'Nissan', 'Tesla']"
      ]
     },
     "execution_count": 8,
     "metadata": {},
     "output_type": "execute_result"
    }
   ],
   "source": [
    "brands = brands.cat.add_categories(\"Tesla\")\n",
    "\n",
    "brands"
   ]
  },
  {
   "cell_type": "markdown",
   "id": "fb724def",
   "metadata": {},
   "source": [
    "## Exercise 5 - remove categories"
   ]
  },
  {
   "cell_type": "code",
   "execution_count": 9,
   "id": "71060c98",
   "metadata": {},
   "outputs": [
    {
     "data": {
      "text/plain": [
       "0      Ford\n",
       "1    Toyota\n",
       "2       BMW\n",
       "dtype: category\n",
       "Categories (5, object): ['Ford', 'Toyota', 'BMW', 'Nissan', 'Tesla']"
      ]
     },
     "execution_count": 9,
     "metadata": {},
     "output_type": "execute_result"
    }
   ],
   "source": [
    "brands"
   ]
  },
  {
   "cell_type": "code",
   "execution_count": 10,
   "id": "419f33e4",
   "metadata": {},
   "outputs": [],
   "source": [
    "brands = brands.cat.remove_categories([\"Nissan\", \"Tesla\"])"
   ]
  },
  {
   "cell_type": "code",
   "execution_count": 11,
   "id": "2214c8ca",
   "metadata": {},
   "outputs": [
    {
     "data": {
      "text/plain": [
       "0      Ford\n",
       "1    Toyota\n",
       "2       BMW\n",
       "dtype: category\n",
       "Categories (3, object): ['BMW', 'Ford', 'Toyota']"
      ]
     },
     "execution_count": 11,
     "metadata": {},
     "output_type": "execute_result"
    }
   ],
   "source": [
    "brands"
   ]
  },
  {
   "cell_type": "markdown",
   "id": "434a8a5b",
   "metadata": {},
   "source": [
    "## Exercise 6 - categories"
   ]
  },
  {
   "cell_type": "code",
   "execution_count": 12,
   "id": "f1e461a3",
   "metadata": {},
   "outputs": [
    {
     "data": {
      "text/plain": [
       "0     M\n",
       "1     L\n",
       "2     M\n",
       "3    XL\n",
       "4     S\n",
       "5     M\n",
       "6     M\n",
       "7     S\n",
       "8     L\n",
       "9     L\n",
       "dtype: category\n",
       "Categories (4, object): ['L', 'M', 'S', 'XL']"
      ]
     },
     "execution_count": 12,
     "metadata": {},
     "output_type": "execute_result"
    }
   ],
   "source": [
    "sizes"
   ]
  },
  {
   "cell_type": "code",
   "execution_count": 13,
   "id": "fc82ae25",
   "metadata": {},
   "outputs": [
    {
     "data": {
      "text/plain": [
       "0     M\n",
       "1     L\n",
       "2     M\n",
       "3    XL\n",
       "4     S\n",
       "5     M\n",
       "6     M\n",
       "7     S\n",
       "8     L\n",
       "9     L\n",
       "dtype: category\n",
       "Categories (6, object): ['L', 'M', 'S', 'XL', 'XS', 'XXL']"
      ]
     },
     "execution_count": 13,
     "metadata": {},
     "output_type": "execute_result"
    }
   ],
   "source": [
    "sizes = sizes.cat.add_categories([\"XS\", \"XXL\"])\n",
    "\n",
    "sizes"
   ]
  },
  {
   "cell_type": "code",
   "execution_count": 14,
   "id": "32be57c2",
   "metadata": {},
   "outputs": [
    {
     "data": {
      "text/plain": [
       "Index(['L', 'M', 'S', 'XL', 'XS', 'XXL'], dtype='object')"
      ]
     },
     "execution_count": 14,
     "metadata": {},
     "output_type": "execute_result"
    }
   ],
   "source": [
    "sizes.cat.categories"
   ]
  },
  {
   "cell_type": "markdown",
   "id": "0b07bdb8",
   "metadata": {},
   "source": [
    "## Exercise 7 - unique vs value_counts"
   ]
  },
  {
   "cell_type": "code",
   "execution_count": 15,
   "id": "14e43762",
   "metadata": {},
   "outputs": [
    {
     "data": {
      "text/plain": [
       "['M', 'L', 'XL', 'S']\n",
       "Categories (6, object): ['L', 'M', 'S', 'XL', 'XS', 'XXL']"
      ]
     },
     "execution_count": 15,
     "metadata": {},
     "output_type": "execute_result"
    }
   ],
   "source": [
    "sizes.unique()"
   ]
  },
  {
   "cell_type": "code",
   "execution_count": 16,
   "id": "18c3b10f",
   "metadata": {},
   "outputs": [
    {
     "data": {
      "text/plain": [
       "M      4\n",
       "L      3\n",
       "S      2\n",
       "XL     1\n",
       "XS     0\n",
       "XXL    0\n",
       "Name: count, dtype: int64"
      ]
     },
     "execution_count": 16,
     "metadata": {},
     "output_type": "execute_result"
    }
   ],
   "source": [
    "sizes.value_counts()"
   ]
  },
  {
   "cell_type": "markdown",
   "id": "2172a076",
   "metadata": {},
   "source": [
    "## Exercise 8 - as_ordered"
   ]
  },
  {
   "cell_type": "code",
   "execution_count": 17,
   "id": "fdaf1007",
   "metadata": {},
   "outputs": [
    {
     "data": {
      "text/plain": [
       "0     M\n",
       "1     L\n",
       "2     M\n",
       "3    XL\n",
       "4     S\n",
       "5     M\n",
       "6     M\n",
       "7     S\n",
       "8     L\n",
       "9     L\n",
       "dtype: category\n",
       "Categories (6, object): ['L' < 'M' < 'S' < 'XL' < 'XS' < 'XXL']"
      ]
     },
     "execution_count": 17,
     "metadata": {},
     "output_type": "execute_result"
    }
   ],
   "source": [
    "sizes = sizes.cat.as_ordered()\n",
    "\n",
    "sizes"
   ]
  },
  {
   "cell_type": "markdown",
   "id": "b8ec4859",
   "metadata": {},
   "source": [
    "## Exercise 9 - reorder"
   ]
  },
  {
   "cell_type": "code",
   "execution_count": 18,
   "id": "b3d2b529",
   "metadata": {},
   "outputs": [
    {
     "data": {
      "text/plain": [
       "0     M\n",
       "1     L\n",
       "2     M\n",
       "3    XL\n",
       "4     S\n",
       "5     M\n",
       "6     M\n",
       "7     S\n",
       "8     L\n",
       "9     L\n",
       "dtype: category\n",
       "Categories (6, object): ['XS' < 'S' < 'M' < 'L' < 'XL' < 'XXL']"
      ]
     },
     "execution_count": 18,
     "metadata": {},
     "output_type": "execute_result"
    }
   ],
   "source": [
    "sizes = sizes.cat.reorder_categories([\"XS\", \"S\", \"M\", \"L\", \"XL\", \"XXL\"])\n",
    "\n",
    "sizes"
   ]
  },
  {
   "cell_type": "markdown",
   "id": "ea425118",
   "metadata": {},
   "source": [
    "## Exercise 10 - ordered parameter"
   ]
  },
  {
   "cell_type": "code",
   "execution_count": 19,
   "id": "4d6ea085",
   "metadata": {},
   "outputs": [
    {
     "data": {
      "text/plain": [
       "0    C\n",
       "1    C\n",
       "2    A\n",
       "3    B\n",
       "4    A\n",
       "5    C\n",
       "6    A\n",
       "dtype: category\n",
       "Categories (3, object): ['C' < 'B' < 'A']"
      ]
     },
     "execution_count": 19,
     "metadata": {},
     "output_type": "execute_result"
    }
   ],
   "source": [
    "divisions = pd.Series(pd.Categorical(\n",
    "    \n",
    "    values=[\"C\", \"C\", \"A\", \"B\", \"A\", \"C\", \"A\"], \n",
    "    categories=[\"C\", \"B\", \"A\"], \n",
    "    ordered=True\n",
    "    \n",
    "))\n",
    "\n",
    "divisions"
   ]
  },
  {
   "cell_type": "markdown",
   "id": "97955626",
   "metadata": {},
   "source": [
    "## Exercise 11 - rename categories"
   ]
  },
  {
   "cell_type": "code",
   "execution_count": 20,
   "id": "063cbb59",
   "metadata": {},
   "outputs": [
    {
     "data": {
      "text/plain": [
       "0    group C\n",
       "1    group C\n",
       "2    group A\n",
       "3    group B\n",
       "4    group A\n",
       "5    group C\n",
       "6    group A\n",
       "dtype: category\n",
       "Categories (3, object): ['group C' < 'group B' < 'group A']"
      ]
     },
     "execution_count": 20,
     "metadata": {},
     "output_type": "execute_result"
    }
   ],
   "source": [
    "divisions = divisions.cat.rename_categories([\"group C\", \"group B\", \"group A\"])\n",
    "\n",
    "divisions"
   ]
  },
  {
   "cell_type": "markdown",
   "id": "42489569",
   "metadata": {},
   "source": [
    "## Exercise 12 - in a DataFrame"
   ]
  },
  {
   "cell_type": "code",
   "execution_count": 21,
   "id": "f6dcbb3c",
   "metadata": {},
   "outputs": [
    {
     "data": {
      "text/html": [
       "<div>\n",
       "<style scoped>\n",
       "    .dataframe tbody tr th:only-of-type {\n",
       "        vertical-align: middle;\n",
       "    }\n",
       "\n",
       "    .dataframe tbody tr th {\n",
       "        vertical-align: top;\n",
       "    }\n",
       "\n",
       "    .dataframe thead th {\n",
       "        text-align: right;\n",
       "    }\n",
       "</style>\n",
       "<table border=\"1\" class=\"dataframe\">\n",
       "  <thead>\n",
       "    <tr style=\"text-align: right;\">\n",
       "      <th></th>\n",
       "      <th>id</th>\n",
       "      <th>brand</th>\n",
       "      <th>price</th>\n",
       "    </tr>\n",
       "  </thead>\n",
       "  <tbody>\n",
       "    <tr>\n",
       "      <th>0</th>\n",
       "      <td>1</td>\n",
       "      <td>Ford</td>\n",
       "      <td>10433</td>\n",
       "    </tr>\n",
       "    <tr>\n",
       "      <th>1</th>\n",
       "      <td>2</td>\n",
       "      <td>Toyota</td>\n",
       "      <td>17735</td>\n",
       "    </tr>\n",
       "    <tr>\n",
       "      <th>2</th>\n",
       "      <td>3</td>\n",
       "      <td>BMW</td>\n",
       "      <td>18637</td>\n",
       "    </tr>\n",
       "    <tr>\n",
       "      <th>3</th>\n",
       "      <td>4</td>\n",
       "      <td>Tesla</td>\n",
       "      <td>17007</td>\n",
       "    </tr>\n",
       "    <tr>\n",
       "      <th>4</th>\n",
       "      <td>5</td>\n",
       "      <td>Ford</td>\n",
       "      <td>15849</td>\n",
       "    </tr>\n",
       "  </tbody>\n",
       "</table>\n",
       "</div>"
      ],
      "text/plain": [
       "   id   brand  price\n",
       "0   1    Ford  10433\n",
       "1   2  Toyota  17735\n",
       "2   3     BMW  18637\n",
       "3   4   Tesla  17007\n",
       "4   5    Ford  15849"
      ]
     },
     "execution_count": 21,
     "metadata": {},
     "output_type": "execute_result"
    }
   ],
   "source": [
    "import numpy as np\n",
    "\n",
    "cars = pd.DataFrame({\n",
    "    \n",
    "    \"id\": np.arange(1, 100001),\n",
    "    \"brand\": [\"Ford\", \"Toyota\", \"BMW\", \"Tesla\"] * 25000,\n",
    "    \"price\": np.random.randint(10000, 20000, size=100000)\n",
    "    \n",
    "})\n",
    "\n",
    "cars.head()"
   ]
  },
  {
   "cell_type": "code",
   "execution_count": 22,
   "id": "e91f78f1",
   "metadata": {},
   "outputs": [
    {
     "data": {
      "text/plain": [
       "id        int64\n",
       "brand    object\n",
       "price     int64\n",
       "dtype: object"
      ]
     },
     "execution_count": 22,
     "metadata": {},
     "output_type": "execute_result"
    }
   ],
   "source": [
    "cars.dtypes"
   ]
  },
  {
   "cell_type": "code",
   "execution_count": 23,
   "id": "aadc6673",
   "metadata": {},
   "outputs": [
    {
     "data": {
      "text/html": [
       "<div>\n",
       "<style scoped>\n",
       "    .dataframe tbody tr th:only-of-type {\n",
       "        vertical-align: middle;\n",
       "    }\n",
       "\n",
       "    .dataframe tbody tr th {\n",
       "        vertical-align: top;\n",
       "    }\n",
       "\n",
       "    .dataframe thead th {\n",
       "        text-align: right;\n",
       "    }\n",
       "</style>\n",
       "<table border=\"1\" class=\"dataframe\">\n",
       "  <thead>\n",
       "    <tr style=\"text-align: right;\">\n",
       "      <th></th>\n",
       "      <th>id</th>\n",
       "      <th>brand</th>\n",
       "      <th>price</th>\n",
       "      <th>brand_categorical</th>\n",
       "    </tr>\n",
       "  </thead>\n",
       "  <tbody>\n",
       "    <tr>\n",
       "      <th>0</th>\n",
       "      <td>1</td>\n",
       "      <td>Ford</td>\n",
       "      <td>10433</td>\n",
       "      <td>Ford</td>\n",
       "    </tr>\n",
       "    <tr>\n",
       "      <th>1</th>\n",
       "      <td>2</td>\n",
       "      <td>Toyota</td>\n",
       "      <td>17735</td>\n",
       "      <td>Toyota</td>\n",
       "    </tr>\n",
       "    <tr>\n",
       "      <th>2</th>\n",
       "      <td>3</td>\n",
       "      <td>BMW</td>\n",
       "      <td>18637</td>\n",
       "      <td>BMW</td>\n",
       "    </tr>\n",
       "    <tr>\n",
       "      <th>3</th>\n",
       "      <td>4</td>\n",
       "      <td>Tesla</td>\n",
       "      <td>17007</td>\n",
       "      <td>Tesla</td>\n",
       "    </tr>\n",
       "    <tr>\n",
       "      <th>4</th>\n",
       "      <td>5</td>\n",
       "      <td>Ford</td>\n",
       "      <td>15849</td>\n",
       "      <td>Ford</td>\n",
       "    </tr>\n",
       "  </tbody>\n",
       "</table>\n",
       "</div>"
      ],
      "text/plain": [
       "   id   brand  price brand_categorical\n",
       "0   1    Ford  10433              Ford\n",
       "1   2  Toyota  17735            Toyota\n",
       "2   3     BMW  18637               BMW\n",
       "3   4   Tesla  17007             Tesla\n",
       "4   5    Ford  15849              Ford"
      ]
     },
     "execution_count": 23,
     "metadata": {},
     "output_type": "execute_result"
    }
   ],
   "source": [
    "cars[\"brand_categorical\"] = cars[\"brand\"].astype(\"category\")\n",
    "\n",
    "cars.head()"
   ]
  },
  {
   "cell_type": "code",
   "execution_count": 24,
   "id": "38d0cedf",
   "metadata": {},
   "outputs": [
    {
     "data": {
      "text/plain": [
       "id                      int64\n",
       "brand                  object\n",
       "price                   int64\n",
       "brand_categorical    category\n",
       "dtype: object"
      ]
     },
     "execution_count": 24,
     "metadata": {},
     "output_type": "execute_result"
    }
   ],
   "source": [
    "cars.dtypes"
   ]
  },
  {
   "cell_type": "markdown",
   "id": "ba815718",
   "metadata": {},
   "source": [
    "## Exercise 13 - CategoricalDtype"
   ]
  },
  {
   "cell_type": "code",
   "execution_count": 25,
   "id": "aed40ea4",
   "metadata": {},
   "outputs": [
    {
     "data": {
      "text/html": [
       "<div>\n",
       "<style scoped>\n",
       "    .dataframe tbody tr th:only-of-type {\n",
       "        vertical-align: middle;\n",
       "    }\n",
       "\n",
       "    .dataframe tbody tr th {\n",
       "        vertical-align: top;\n",
       "    }\n",
       "\n",
       "    .dataframe thead th {\n",
       "        text-align: right;\n",
       "    }\n",
       "</style>\n",
       "<table border=\"1\" class=\"dataframe\">\n",
       "  <thead>\n",
       "    <tr style=\"text-align: right;\">\n",
       "      <th></th>\n",
       "      <th>id</th>\n",
       "      <th>brand</th>\n",
       "      <th>price</th>\n",
       "      <th>brand_categorical</th>\n",
       "    </tr>\n",
       "  </thead>\n",
       "  <tbody>\n",
       "    <tr>\n",
       "      <th>0</th>\n",
       "      <td>1</td>\n",
       "      <td>Ford</td>\n",
       "      <td>10433</td>\n",
       "      <td>Ford</td>\n",
       "    </tr>\n",
       "    <tr>\n",
       "      <th>1</th>\n",
       "      <td>2</td>\n",
       "      <td>Toyota</td>\n",
       "      <td>17735</td>\n",
       "      <td>Toyota</td>\n",
       "    </tr>\n",
       "    <tr>\n",
       "      <th>2</th>\n",
       "      <td>3</td>\n",
       "      <td>BMW</td>\n",
       "      <td>18637</td>\n",
       "      <td>BMW</td>\n",
       "    </tr>\n",
       "    <tr>\n",
       "      <th>3</th>\n",
       "      <td>4</td>\n",
       "      <td>Tesla</td>\n",
       "      <td>17007</td>\n",
       "      <td>Tesla</td>\n",
       "    </tr>\n",
       "    <tr>\n",
       "      <th>4</th>\n",
       "      <td>5</td>\n",
       "      <td>Ford</td>\n",
       "      <td>15849</td>\n",
       "      <td>Ford</td>\n",
       "    </tr>\n",
       "  </tbody>\n",
       "</table>\n",
       "</div>"
      ],
      "text/plain": [
       "   id   brand  price brand_categorical\n",
       "0   1    Ford  10433              Ford\n",
       "1   2  Toyota  17735            Toyota\n",
       "2   3     BMW  18637               BMW\n",
       "3   4   Tesla  17007             Tesla\n",
       "4   5    Ford  15849              Ford"
      ]
     },
     "execution_count": 25,
     "metadata": {},
     "output_type": "execute_result"
    }
   ],
   "source": [
    "cars[\"brand_categorical\"] = cars[\"brand\"].astype(pd.CategoricalDtype())\n",
    "\n",
    "cars.head()"
   ]
  },
  {
   "cell_type": "code",
   "execution_count": 26,
   "id": "334d40ce",
   "metadata": {},
   "outputs": [
    {
     "data": {
      "text/plain": [
       "0          Ford\n",
       "1        Toyota\n",
       "2           BMW\n",
       "3         Tesla\n",
       "4          Ford\n",
       "          ...  \n",
       "99995     Tesla\n",
       "99996      Ford\n",
       "99997    Toyota\n",
       "99998       BMW\n",
       "99999     Tesla\n",
       "Name: brand_categorical, Length: 100000, dtype: category\n",
       "Categories (4, object): ['BMW', 'Ford', 'Tesla', 'Toyota']"
      ]
     },
     "execution_count": 26,
     "metadata": {},
     "output_type": "execute_result"
    }
   ],
   "source": [
    "cars[\"brand_categorical\"]"
   ]
  },
  {
   "cell_type": "markdown",
   "id": "5ce3d12d",
   "metadata": {},
   "source": [
    "## Exercise 14 - ordered parameter"
   ]
  },
  {
   "cell_type": "code",
   "execution_count": 27,
   "id": "d3d1be35",
   "metadata": {},
   "outputs": [
    {
     "data": {
      "text/html": [
       "<div>\n",
       "<style scoped>\n",
       "    .dataframe tbody tr th:only-of-type {\n",
       "        vertical-align: middle;\n",
       "    }\n",
       "\n",
       "    .dataframe tbody tr th {\n",
       "        vertical-align: top;\n",
       "    }\n",
       "\n",
       "    .dataframe thead th {\n",
       "        text-align: right;\n",
       "    }\n",
       "</style>\n",
       "<table border=\"1\" class=\"dataframe\">\n",
       "  <thead>\n",
       "    <tr style=\"text-align: right;\">\n",
       "      <th></th>\n",
       "      <th>id</th>\n",
       "      <th>brand</th>\n",
       "      <th>price</th>\n",
       "      <th>brand_categorical</th>\n",
       "    </tr>\n",
       "  </thead>\n",
       "  <tbody>\n",
       "    <tr>\n",
       "      <th>0</th>\n",
       "      <td>1</td>\n",
       "      <td>Ford</td>\n",
       "      <td>10433</td>\n",
       "      <td>Ford</td>\n",
       "    </tr>\n",
       "    <tr>\n",
       "      <th>1</th>\n",
       "      <td>2</td>\n",
       "      <td>Toyota</td>\n",
       "      <td>17735</td>\n",
       "      <td>Toyota</td>\n",
       "    </tr>\n",
       "    <tr>\n",
       "      <th>2</th>\n",
       "      <td>3</td>\n",
       "      <td>BMW</td>\n",
       "      <td>18637</td>\n",
       "      <td>BMW</td>\n",
       "    </tr>\n",
       "    <tr>\n",
       "      <th>3</th>\n",
       "      <td>4</td>\n",
       "      <td>Tesla</td>\n",
       "      <td>17007</td>\n",
       "      <td>Tesla</td>\n",
       "    </tr>\n",
       "    <tr>\n",
       "      <th>4</th>\n",
       "      <td>5</td>\n",
       "      <td>Ford</td>\n",
       "      <td>15849</td>\n",
       "      <td>Ford</td>\n",
       "    </tr>\n",
       "  </tbody>\n",
       "</table>\n",
       "</div>"
      ],
      "text/plain": [
       "   id   brand  price brand_categorical\n",
       "0   1    Ford  10433              Ford\n",
       "1   2  Toyota  17735            Toyota\n",
       "2   3     BMW  18637               BMW\n",
       "3   4   Tesla  17007             Tesla\n",
       "4   5    Ford  15849              Ford"
      ]
     },
     "execution_count": 27,
     "metadata": {},
     "output_type": "execute_result"
    }
   ],
   "source": [
    "cars[\"brand_categorical\"] = cars[\"brand\"].astype(pd.CategoricalDtype(ordered=True))\n",
    "\n",
    "cars.head()"
   ]
  },
  {
   "cell_type": "code",
   "execution_count": 28,
   "id": "6263f60d",
   "metadata": {},
   "outputs": [
    {
     "data": {
      "text/plain": [
       "0          Ford\n",
       "1        Toyota\n",
       "2           BMW\n",
       "3         Tesla\n",
       "4          Ford\n",
       "          ...  \n",
       "99995     Tesla\n",
       "99996      Ford\n",
       "99997    Toyota\n",
       "99998       BMW\n",
       "99999     Tesla\n",
       "Name: brand_categorical, Length: 100000, dtype: category\n",
       "Categories (4, object): ['BMW' < 'Ford' < 'Tesla' < 'Toyota']"
      ]
     },
     "execution_count": 28,
     "metadata": {},
     "output_type": "execute_result"
    }
   ],
   "source": [
    "cars[\"brand_categorical\"]"
   ]
  },
  {
   "cell_type": "markdown",
   "id": "4a14f937",
   "metadata": {},
   "source": [
    "## Exercise 15 - as_unordered"
   ]
  },
  {
   "cell_type": "code",
   "execution_count": 29,
   "id": "e98e90de",
   "metadata": {},
   "outputs": [
    {
     "data": {
      "text/plain": [
       "0          Ford\n",
       "1        Toyota\n",
       "2           BMW\n",
       "3         Tesla\n",
       "4          Ford\n",
       "          ...  \n",
       "99995     Tesla\n",
       "99996      Ford\n",
       "99997    Toyota\n",
       "99998       BMW\n",
       "99999     Tesla\n",
       "Name: brand_categorical, Length: 100000, dtype: category\n",
       "Categories (4, object): ['BMW', 'Ford', 'Tesla', 'Toyota']"
      ]
     },
     "execution_count": 29,
     "metadata": {},
     "output_type": "execute_result"
    }
   ],
   "source": [
    "cars[\"brand_categorical\"] = cars[\"brand_categorical\"].cat.as_unordered()\n",
    "\n",
    "cars[\"brand_categorical\"]"
   ]
  },
  {
   "cell_type": "markdown",
   "id": "86084bcf",
   "metadata": {},
   "source": [
    "## Exercise 16 - memory usage\n",
    "\n",
    "* Memory usage in bytes for object vs category"
   ]
  },
  {
   "cell_type": "code",
   "execution_count": 30,
   "id": "49f4e401",
   "metadata": {},
   "outputs": [
    {
     "data": {
      "text/plain": [
       "Index                   128\n",
       "id                   800000\n",
       "brand                800000\n",
       "price                800000\n",
       "brand_categorical    100204\n",
       "dtype: int64"
      ]
     },
     "execution_count": 30,
     "metadata": {},
     "output_type": "execute_result"
    }
   ],
   "source": [
    "cars.memory_usage()"
   ]
  }
 ],
 "metadata": {
  "kernelspec": {
   "display_name": "Python 3 (ipykernel)",
   "language": "python",
   "name": "python3"
  },
  "language_info": {
   "codemirror_mode": {
    "name": "ipython",
    "version": 3
   },
   "file_extension": ".py",
   "mimetype": "text/x-python",
   "name": "python",
   "nbconvert_exporter": "python",
   "pygments_lexer": "ipython3",
   "version": "3.10.8"
  }
 },
 "nbformat": 4,
 "nbformat_minor": 5
}
