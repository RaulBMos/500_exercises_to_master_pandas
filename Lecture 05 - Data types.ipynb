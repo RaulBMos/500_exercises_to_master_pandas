{
 "cells": [
  {
   "cell_type": "markdown",
   "id": "f36dc99a",
   "metadata": {},
   "source": [
    "# Data types\n",
    "\n",
    "* Some functions and methods are only applicable to certain data types"
   ]
  },
  {
   "cell_type": "code",
   "execution_count": 1,
   "id": "5ed8abe8",
   "metadata": {},
   "outputs": [
    {
     "data": {
      "text/html": [
       "<div>\n",
       "<style scoped>\n",
       "    .dataframe tbody tr th:only-of-type {\n",
       "        vertical-align: middle;\n",
       "    }\n",
       "\n",
       "    .dataframe tbody tr th {\n",
       "        vertical-align: top;\n",
       "    }\n",
       "\n",
       "    .dataframe thead th {\n",
       "        text-align: right;\n",
       "    }\n",
       "</style>\n",
       "<table border=\"1\" class=\"dataframe\">\n",
       "  <thead>\n",
       "    <tr style=\"text-align: right;\">\n",
       "      <th></th>\n",
       "      <th>Date</th>\n",
       "      <th>High</th>\n",
       "      <th>Low</th>\n",
       "      <th>Open</th>\n",
       "      <th>Close</th>\n",
       "      <th>Volume</th>\n",
       "      <th>Adj Close</th>\n",
       "      <th>Stock</th>\n",
       "    </tr>\n",
       "  </thead>\n",
       "  <tbody>\n",
       "    <tr>\n",
       "      <th>0</th>\n",
       "      <td>2022-09-01</td>\n",
       "      <td>158.419998</td>\n",
       "      <td>154.669998</td>\n",
       "      <td>156.639999</td>\n",
       "      <td>157.960007</td>\n",
       "      <td>74229900</td>\n",
       "      <td>157.960007</td>\n",
       "      <td>AAPL</td>\n",
       "    </tr>\n",
       "    <tr>\n",
       "      <th>1</th>\n",
       "      <td>2022-09-02</td>\n",
       "      <td>160.360001</td>\n",
       "      <td>154.970001</td>\n",
       "      <td>159.750000</td>\n",
       "      <td>155.809998</td>\n",
       "      <td>76905200</td>\n",
       "      <td>155.809998</td>\n",
       "      <td>AAPL</td>\n",
       "    </tr>\n",
       "    <tr>\n",
       "      <th>2</th>\n",
       "      <td>2022-09-06</td>\n",
       "      <td>157.089996</td>\n",
       "      <td>153.690002</td>\n",
       "      <td>156.470001</td>\n",
       "      <td>154.529999</td>\n",
       "      <td>73714800</td>\n",
       "      <td>154.529999</td>\n",
       "      <td>AAPL</td>\n",
       "    </tr>\n",
       "    <tr>\n",
       "      <th>3</th>\n",
       "      <td>2022-09-07</td>\n",
       "      <td>156.669998</td>\n",
       "      <td>153.610001</td>\n",
       "      <td>154.820007</td>\n",
       "      <td>155.960007</td>\n",
       "      <td>87449600</td>\n",
       "      <td>155.960007</td>\n",
       "      <td>AAPL</td>\n",
       "    </tr>\n",
       "    <tr>\n",
       "      <th>4</th>\n",
       "      <td>2022-09-08</td>\n",
       "      <td>156.360001</td>\n",
       "      <td>152.679993</td>\n",
       "      <td>154.639999</td>\n",
       "      <td>154.460007</td>\n",
       "      <td>84923800</td>\n",
       "      <td>154.460007</td>\n",
       "      <td>AAPL</td>\n",
       "    </tr>\n",
       "  </tbody>\n",
       "</table>\n",
       "</div>"
      ],
      "text/plain": [
       "         Date        High         Low        Open       Close    Volume  \\\n",
       "0  2022-09-01  158.419998  154.669998  156.639999  157.960007  74229900   \n",
       "1  2022-09-02  160.360001  154.970001  159.750000  155.809998  76905200   \n",
       "2  2022-09-06  157.089996  153.690002  156.470001  154.529999  73714800   \n",
       "3  2022-09-07  156.669998  153.610001  154.820007  155.960007  87449600   \n",
       "4  2022-09-08  156.360001  152.679993  154.639999  154.460007  84923800   \n",
       "\n",
       "    Adj Close Stock  \n",
       "0  157.960007  AAPL  \n",
       "1  155.809998  AAPL  \n",
       "2  154.529999  AAPL  \n",
       "3  155.960007  AAPL  \n",
       "4  154.460007  AAPL  "
      ]
     },
     "execution_count": 1,
     "metadata": {},
     "output_type": "execute_result"
    }
   ],
   "source": [
    "import pandas as pd\n",
    "\n",
    "df = pd.read_csv(\"Data/apple_google_stock_prices_092022.csv\")\n",
    "\n",
    "df.head()"
   ]
  },
  {
   "cell_type": "markdown",
   "id": "e2cb365b",
   "metadata": {},
   "source": [
    "## Exercise 1 - dtype method"
   ]
  },
  {
   "cell_type": "code",
   "execution_count": 2,
   "id": "0b3de265",
   "metadata": {},
   "outputs": [
    {
     "data": {
      "text/plain": [
       "Date          object\n",
       "High         float64\n",
       "Low          float64\n",
       "Open         float64\n",
       "Close        float64\n",
       "Volume         int64\n",
       "Adj Close    float64\n",
       "Stock         object\n",
       "dtype: object"
      ]
     },
     "execution_count": 2,
     "metadata": {},
     "output_type": "execute_result"
    }
   ],
   "source": [
    "df.dtypes"
   ]
  },
  {
   "cell_type": "markdown",
   "id": "b40d0532",
   "metadata": {},
   "source": [
    "## Exercise 2 - dtype method"
   ]
  },
  {
   "cell_type": "code",
   "execution_count": 3,
   "id": "8ea63aa2",
   "metadata": {},
   "outputs": [
    {
     "data": {
      "text/plain": [
       "dtype('float64')"
      ]
     },
     "execution_count": 3,
     "metadata": {},
     "output_type": "execute_result"
    }
   ],
   "source": [
    "df[\"Low\"].dtypes"
   ]
  },
  {
   "cell_type": "code",
   "execution_count": 4,
   "id": "de5d640b",
   "metadata": {},
   "outputs": [
    {
     "data": {
      "text/plain": [
       "numpy.dtype[float64]"
      ]
     },
     "execution_count": 4,
     "metadata": {},
     "output_type": "execute_result"
    }
   ],
   "source": [
    "type(df[\"Low\"].dtypes)"
   ]
  },
  {
   "cell_type": "code",
   "execution_count": 5,
   "id": "e0fe642f",
   "metadata": {},
   "outputs": [
    {
     "data": {
      "text/plain": [
       "Date     object\n",
       "Low     float64\n",
       "dtype: object"
      ]
     },
     "execution_count": 5,
     "metadata": {},
     "output_type": "execute_result"
    }
   ],
   "source": [
    "df[[\"Date\", \"Low\"]].dtypes"
   ]
  },
  {
   "cell_type": "markdown",
   "id": "af84dcec",
   "metadata": {},
   "source": [
    "## Exercise 3 - astype function\n",
    "\n",
    "* Used for changing the data types of columns"
   ]
  },
  {
   "cell_type": "code",
   "execution_count": 6,
   "id": "76d6f62d",
   "metadata": {},
   "outputs": [],
   "source": [
    "df[\"Date\"] = df[\"Date\"].astype(\"datetime64[ns]\")"
   ]
  },
  {
   "cell_type": "code",
   "execution_count": 7,
   "id": "25aa22bc",
   "metadata": {},
   "outputs": [
    {
     "data": {
      "text/plain": [
       "Date         datetime64[ns]\n",
       "High                float64\n",
       "Low                 float64\n",
       "Open                float64\n",
       "Close               float64\n",
       "Volume                int64\n",
       "Adj Close           float64\n",
       "Stock                object\n",
       "dtype: object"
      ]
     },
     "execution_count": 7,
     "metadata": {},
     "output_type": "execute_result"
    }
   ],
   "source": [
    "df.dtypes"
   ]
  },
  {
   "cell_type": "markdown",
   "id": "b44b893b",
   "metadata": {},
   "source": [
    "## Exercise 4 - astype function\n",
    "\n",
    "* Change the data type of multiple columns at once"
   ]
  },
  {
   "cell_type": "code",
   "execution_count": 8,
   "id": "0c6ad833",
   "metadata": {},
   "outputs": [],
   "source": [
    "df = df.astype(\n",
    "    {\n",
    "        \"Volume\": \"float64\",\n",
    "        \"Stock\": \"string\"\n",
    "    }\n",
    ")"
   ]
  },
  {
   "cell_type": "code",
   "execution_count": 9,
   "id": "f8d6eb14",
   "metadata": {},
   "outputs": [
    {
     "data": {
      "text/plain": [
       "Volume           float64\n",
       "Stock     string[python]\n",
       "dtype: object"
      ]
     },
     "execution_count": 9,
     "metadata": {},
     "output_type": "execute_result"
    }
   ],
   "source": [
    "df[[\"Volume\", \"Stock\"]].dtypes"
   ]
  },
  {
   "cell_type": "markdown",
   "id": "7d289d66",
   "metadata": {},
   "source": [
    "## Exercise 5 - select_dtypes function"
   ]
  },
  {
   "cell_type": "code",
   "execution_count": 10,
   "id": "bf3cfb3c",
   "metadata": {},
   "outputs": [
    {
     "data": {
      "text/plain": [
       "Date         datetime64[ns]\n",
       "High                float64\n",
       "Low                 float64\n",
       "Open                float64\n",
       "Close               float64\n",
       "Volume              float64\n",
       "Adj Close           float64\n",
       "Stock        string[python]\n",
       "dtype: object"
      ]
     },
     "execution_count": 10,
     "metadata": {},
     "output_type": "execute_result"
    }
   ],
   "source": [
    "df.dtypes"
   ]
  },
  {
   "cell_type": "code",
   "execution_count": 11,
   "id": "9b8ca3d0",
   "metadata": {},
   "outputs": [
    {
     "data": {
      "text/html": [
       "<div>\n",
       "<style scoped>\n",
       "    .dataframe tbody tr th:only-of-type {\n",
       "        vertical-align: middle;\n",
       "    }\n",
       "\n",
       "    .dataframe tbody tr th {\n",
       "        vertical-align: top;\n",
       "    }\n",
       "\n",
       "    .dataframe thead th {\n",
       "        text-align: right;\n",
       "    }\n",
       "</style>\n",
       "<table border=\"1\" class=\"dataframe\">\n",
       "  <thead>\n",
       "    <tr style=\"text-align: right;\">\n",
       "      <th></th>\n",
       "      <th>High</th>\n",
       "      <th>Low</th>\n",
       "      <th>Open</th>\n",
       "      <th>Close</th>\n",
       "      <th>Volume</th>\n",
       "      <th>Adj Close</th>\n",
       "    </tr>\n",
       "  </thead>\n",
       "  <tbody>\n",
       "    <tr>\n",
       "      <th>0</th>\n",
       "      <td>158.419998</td>\n",
       "      <td>154.669998</td>\n",
       "      <td>156.639999</td>\n",
       "      <td>157.960007</td>\n",
       "      <td>74229900.0</td>\n",
       "      <td>157.960007</td>\n",
       "    </tr>\n",
       "    <tr>\n",
       "      <th>1</th>\n",
       "      <td>160.360001</td>\n",
       "      <td>154.970001</td>\n",
       "      <td>159.750000</td>\n",
       "      <td>155.809998</td>\n",
       "      <td>76905200.0</td>\n",
       "      <td>155.809998</td>\n",
       "    </tr>\n",
       "    <tr>\n",
       "      <th>2</th>\n",
       "      <td>157.089996</td>\n",
       "      <td>153.690002</td>\n",
       "      <td>156.470001</td>\n",
       "      <td>154.529999</td>\n",
       "      <td>73714800.0</td>\n",
       "      <td>154.529999</td>\n",
       "    </tr>\n",
       "    <tr>\n",
       "      <th>3</th>\n",
       "      <td>156.669998</td>\n",
       "      <td>153.610001</td>\n",
       "      <td>154.820007</td>\n",
       "      <td>155.960007</td>\n",
       "      <td>87449600.0</td>\n",
       "      <td>155.960007</td>\n",
       "    </tr>\n",
       "    <tr>\n",
       "      <th>4</th>\n",
       "      <td>156.360001</td>\n",
       "      <td>152.679993</td>\n",
       "      <td>154.639999</td>\n",
       "      <td>154.460007</td>\n",
       "      <td>84923800.0</td>\n",
       "      <td>154.460007</td>\n",
       "    </tr>\n",
       "  </tbody>\n",
       "</table>\n",
       "</div>"
      ],
      "text/plain": [
       "         High         Low        Open       Close      Volume   Adj Close\n",
       "0  158.419998  154.669998  156.639999  157.960007  74229900.0  157.960007\n",
       "1  160.360001  154.970001  159.750000  155.809998  76905200.0  155.809998\n",
       "2  157.089996  153.690002  156.470001  154.529999  73714800.0  154.529999\n",
       "3  156.669998  153.610001  154.820007  155.960007  87449600.0  155.960007\n",
       "4  156.360001  152.679993  154.639999  154.460007  84923800.0  154.460007"
      ]
     },
     "execution_count": 11,
     "metadata": {},
     "output_type": "execute_result"
    }
   ],
   "source": [
    "df.select_dtypes(include=\"float64\").head()"
   ]
  },
  {
   "cell_type": "markdown",
   "id": "bff276d5",
   "metadata": {},
   "source": [
    "## Exercise 6 - select_dtypes function"
   ]
  },
  {
   "cell_type": "code",
   "execution_count": 12,
   "id": "dcf92d77",
   "metadata": {},
   "outputs": [
    {
     "data": {
      "text/html": [
       "<div>\n",
       "<style scoped>\n",
       "    .dataframe tbody tr th:only-of-type {\n",
       "        vertical-align: middle;\n",
       "    }\n",
       "\n",
       "    .dataframe tbody tr th {\n",
       "        vertical-align: top;\n",
       "    }\n",
       "\n",
       "    .dataframe thead th {\n",
       "        text-align: right;\n",
       "    }\n",
       "</style>\n",
       "<table border=\"1\" class=\"dataframe\">\n",
       "  <thead>\n",
       "    <tr style=\"text-align: right;\">\n",
       "      <th></th>\n",
       "      <th>Date</th>\n",
       "      <th>Stock</th>\n",
       "    </tr>\n",
       "  </thead>\n",
       "  <tbody>\n",
       "    <tr>\n",
       "      <th>0</th>\n",
       "      <td>2022-09-01</td>\n",
       "      <td>AAPL</td>\n",
       "    </tr>\n",
       "    <tr>\n",
       "      <th>1</th>\n",
       "      <td>2022-09-02</td>\n",
       "      <td>AAPL</td>\n",
       "    </tr>\n",
       "    <tr>\n",
       "      <th>2</th>\n",
       "      <td>2022-09-06</td>\n",
       "      <td>AAPL</td>\n",
       "    </tr>\n",
       "    <tr>\n",
       "      <th>3</th>\n",
       "      <td>2022-09-07</td>\n",
       "      <td>AAPL</td>\n",
       "    </tr>\n",
       "    <tr>\n",
       "      <th>4</th>\n",
       "      <td>2022-09-08</td>\n",
       "      <td>AAPL</td>\n",
       "    </tr>\n",
       "  </tbody>\n",
       "</table>\n",
       "</div>"
      ],
      "text/plain": [
       "        Date Stock\n",
       "0 2022-09-01  AAPL\n",
       "1 2022-09-02  AAPL\n",
       "2 2022-09-06  AAPL\n",
       "3 2022-09-07  AAPL\n",
       "4 2022-09-08  AAPL"
      ]
     },
     "execution_count": 12,
     "metadata": {},
     "output_type": "execute_result"
    }
   ],
   "source": [
    "df.select_dtypes(exclude=\"float64\").head()"
   ]
  },
  {
   "cell_type": "markdown",
   "id": "2496582e",
   "metadata": {},
   "source": [
    "## Exercise 7 - string data type\n",
    "\n",
    "* Before pandas 1.0, only “object” datatype was used to store strings which cause some drawbacks because non-string data can also be stored using “object” datatype. \n",
    "* Pandas 1.0 introduces a new datatype specific to string data which is StringDtype. \n",
    "* As of now, we can still use object or StringDtype to store strings but in the future, we may be required to only use StringDtype."
   ]
  },
  {
   "cell_type": "code",
   "execution_count": 13,
   "id": "3a5ca0c4",
   "metadata": {},
   "outputs": [
    {
     "data": {
      "text/plain": [
       "0     Jane\n",
       "1     Matt\n",
       "2    Emily\n",
       "3      Joe\n",
       "dtype: object"
      ]
     },
     "execution_count": 13,
     "metadata": {},
     "output_type": "execute_result"
    }
   ],
   "source": [
    "names = pd.Series([\"Jane\", \"Matt\", \"Emily\", \"Joe\"])\n",
    "\n",
    "names"
   ]
  },
  {
   "cell_type": "code",
   "execution_count": 14,
   "id": "c74a16e9",
   "metadata": {},
   "outputs": [
    {
     "data": {
      "text/plain": [
       "0     Jane\n",
       "1     Matt\n",
       "2    Emily\n",
       "3      Joe\n",
       "dtype: string"
      ]
     },
     "execution_count": 14,
     "metadata": {},
     "output_type": "execute_result"
    }
   ],
   "source": [
    "names = pd.Series([\"Jane\", \"Matt\", \"Emily\", \"Joe\"], dtype=\"string\")\n",
    "\n",
    "names"
   ]
  },
  {
   "cell_type": "code",
   "execution_count": 15,
   "id": "a9cb58c1",
   "metadata": {},
   "outputs": [
    {
     "data": {
      "text/plain": [
       "0     Jane\n",
       "1     Matt\n",
       "2    Emily\n",
       "3      Joe\n",
       "dtype: string"
      ]
     },
     "execution_count": 15,
     "metadata": {},
     "output_type": "execute_result"
    }
   ],
   "source": [
    "names = pd.Series([\"Jane\", \"Matt\", \"Emily\", \"Joe\"], dtype=pd.StringDtype())\n",
    "\n",
    "names"
   ]
  },
  {
   "cell_type": "markdown",
   "id": "0f641dd1",
   "metadata": {},
   "source": [
    "## Exercise 8 - Int64Dtype"
   ]
  },
  {
   "cell_type": "code",
   "execution_count": 16,
   "id": "5642885a",
   "metadata": {},
   "outputs": [
    {
     "data": {
      "text/plain": [
       "0    98.0\n",
       "1    74.0\n",
       "2    87.0\n",
       "3     NaN\n",
       "dtype: float64"
      ]
     },
     "execution_count": 16,
     "metadata": {},
     "output_type": "execute_result"
    }
   ],
   "source": [
    "scores = pd.Series([98, 74, 87, None])\n",
    "\n",
    "scores"
   ]
  },
  {
   "cell_type": "code",
   "execution_count": 17,
   "id": "806be36a",
   "metadata": {},
   "outputs": [
    {
     "data": {
      "text/plain": [
       "0      98\n",
       "1      74\n",
       "2      87\n",
       "3    <NA>\n",
       "dtype: Int64"
      ]
     },
     "execution_count": 17,
     "metadata": {},
     "output_type": "execute_result"
    }
   ],
   "source": [
    "scores = pd.Series([98, 74, 87, None], dtype=pd.Int64Dtype())\n",
    "\n",
    "scores"
   ]
  },
  {
   "cell_type": "markdown",
   "id": "1ebba818",
   "metadata": {},
   "source": [
    "## Exercise 9 - categorical data\n",
    "\n",
    "* Categorical data represents a finite set of discrete values.\n",
    "    \n",
    "* So a categorical variable takes on a value from a limited number of values.\n",
    "    \n",
    "* Some examples of categorical data are car brands, dress sizes, and colors.\n",
    "    \n",
    "* Pandas has the category data type for categorical variables"
   ]
  },
  {
   "cell_type": "code",
   "execution_count": 18,
   "id": "ef3a3db5",
   "metadata": {
    "scrolled": true
   },
   "outputs": [
    {
     "data": {
      "text/plain": [
       "0      Ford\n",
       "1    Toyota\n",
       "2       BMW\n",
       "dtype: category\n",
       "Categories (3, object): ['BMW', 'Ford', 'Toyota']"
      ]
     },
     "execution_count": 18,
     "metadata": {},
     "output_type": "execute_result"
    }
   ],
   "source": [
    "brands = pd.Series([\"Ford\", \"Toyota\", \"BMW\"], dtype=\"category\")\n",
    "\n",
    "brands"
   ]
  },
  {
   "cell_type": "markdown",
   "id": "78e19ff9",
   "metadata": {},
   "source": [
    "## Exercise 10 - category data type"
   ]
  },
  {
   "cell_type": "code",
   "execution_count": 19,
   "id": "61fa7da7",
   "metadata": {},
   "outputs": [
    {
     "data": {
      "text/plain": [
       "['Ford', 'Toyota', 'BMW']\n",
       "Categories (3, object): ['BMW', 'Ford', 'Toyota']"
      ]
     },
     "execution_count": 19,
     "metadata": {},
     "output_type": "execute_result"
    }
   ],
   "source": [
    "pd.Categorical([\"Ford\", \"Toyota\", \"BMW\"])"
   ]
  },
  {
   "cell_type": "code",
   "execution_count": 20,
   "id": "5740584f",
   "metadata": {},
   "outputs": [
    {
     "data": {
      "text/plain": [
       "['Ford', 'Toyota', 'BMW']\n",
       "Categories (4, object): ['Ford', 'Toyota', 'BMW', 'Nissan']"
      ]
     },
     "execution_count": 20,
     "metadata": {},
     "output_type": "execute_result"
    }
   ],
   "source": [
    "pd.Categorical([\"Ford\", \"Toyota\", \"BMW\"], categories=[\"Ford\", \"Toyota\", \"BMW\", \"Nissan\"])"
   ]
  },
  {
   "cell_type": "code",
   "execution_count": 21,
   "id": "8dbac015",
   "metadata": {},
   "outputs": [
    {
     "data": {
      "text/html": [
       "<div>\n",
       "<style scoped>\n",
       "    .dataframe tbody tr th:only-of-type {\n",
       "        vertical-align: middle;\n",
       "    }\n",
       "\n",
       "    .dataframe tbody tr th {\n",
       "        vertical-align: top;\n",
       "    }\n",
       "\n",
       "    .dataframe thead th {\n",
       "        text-align: right;\n",
       "    }\n",
       "</style>\n",
       "<table border=\"1\" class=\"dataframe\">\n",
       "  <thead>\n",
       "    <tr style=\"text-align: right;\">\n",
       "      <th></th>\n",
       "      <th>brands</th>\n",
       "      <th>price</th>\n",
       "    </tr>\n",
       "  </thead>\n",
       "  <tbody>\n",
       "    <tr>\n",
       "      <th>0</th>\n",
       "      <td>Ford</td>\n",
       "      <td>18513</td>\n",
       "    </tr>\n",
       "    <tr>\n",
       "      <th>1</th>\n",
       "      <td>Toyota</td>\n",
       "      <td>18164</td>\n",
       "    </tr>\n",
       "    <tr>\n",
       "      <th>2</th>\n",
       "      <td>BMW</td>\n",
       "      <td>17669</td>\n",
       "    </tr>\n",
       "    <tr>\n",
       "      <th>3</th>\n",
       "      <td>Ford</td>\n",
       "      <td>15041</td>\n",
       "    </tr>\n",
       "    <tr>\n",
       "      <th>4</th>\n",
       "      <td>Toyota</td>\n",
       "      <td>17723</td>\n",
       "    </tr>\n",
       "  </tbody>\n",
       "</table>\n",
       "</div>"
      ],
      "text/plain": [
       "   brands  price\n",
       "0    Ford  18513\n",
       "1  Toyota  18164\n",
       "2     BMW  17669\n",
       "3    Ford  15041\n",
       "4  Toyota  17723"
      ]
     },
     "execution_count": 21,
     "metadata": {},
     "output_type": "execute_result"
    }
   ],
   "source": [
    "import numpy as np\n",
    "\n",
    "cars = pd.DataFrame(\n",
    "    \n",
    "    {\n",
    "        \"brands\": pd.Categorical([\"Ford\", \"Toyota\", \"BMW\"] * 100, categories=[\"Ford\", \"Toyota\", \"BMW\"]),\n",
    "        \"price\": np.random.randint(10000, 20000, size=300)\n",
    "    }\n",
    "\n",
    ")\n",
    "\n",
    "cars.head()"
   ]
  },
  {
   "cell_type": "code",
   "execution_count": 22,
   "id": "5224ba2f",
   "metadata": {},
   "outputs": [
    {
     "data": {
      "text/plain": [
       "brands    category\n",
       "price        int64\n",
       "dtype: object"
      ]
     },
     "execution_count": 22,
     "metadata": {},
     "output_type": "execute_result"
    }
   ],
   "source": [
    "cars.dtypes"
   ]
  },
  {
   "cell_type": "markdown",
   "id": "3c5cabfc",
   "metadata": {},
   "source": [
    "## Exercise 11 - category data type"
   ]
  },
  {
   "cell_type": "code",
   "execution_count": 23,
   "id": "70aee17b",
   "metadata": {},
   "outputs": [
    {
     "data": {
      "text/plain": [
       "Index      128\n",
       "brands     432\n",
       "price     2400\n",
       "dtype: int64"
      ]
     },
     "execution_count": 23,
     "metadata": {},
     "output_type": "execute_result"
    }
   ],
   "source": [
    "cars.memory_usage()"
   ]
  },
  {
   "cell_type": "code",
   "execution_count": 24,
   "id": "16d37c71",
   "metadata": {},
   "outputs": [
    {
     "data": {
      "text/plain": [
       "Index      128\n",
       "brands    2400\n",
       "price     2400\n",
       "dtype: int64"
      ]
     },
     "execution_count": 24,
     "metadata": {},
     "output_type": "execute_result"
    }
   ],
   "source": [
    "cars[\"brands\"] = cars[\"brands\"].astype(\"string\")\n",
    "\n",
    "cars.memory_usage()"
   ]
  },
  {
   "cell_type": "code",
   "execution_count": 25,
   "id": "5183fc89",
   "metadata": {},
   "outputs": [
    {
     "data": {
      "text/plain": [
       "Index      128\n",
       "brands    2400\n",
       "price     2400\n",
       "dtype: int64"
      ]
     },
     "execution_count": 25,
     "metadata": {},
     "output_type": "execute_result"
    }
   ],
   "source": [
    "cars[\"brands\"] = cars[\"brands\"].astype(\"object\")\n",
    "\n",
    "cars.memory_usage()"
   ]
  },
  {
   "cell_type": "markdown",
   "id": "62c348bd",
   "metadata": {},
   "source": [
    "## Exercise 12 - category data type"
   ]
  },
  {
   "cell_type": "code",
   "execution_count": 26,
   "id": "0d10a8ff",
   "metadata": {},
   "outputs": [
    {
     "data": {
      "text/html": [
       "<div>\n",
       "<style scoped>\n",
       "    .dataframe tbody tr th:only-of-type {\n",
       "        vertical-align: middle;\n",
       "    }\n",
       "\n",
       "    .dataframe tbody tr th {\n",
       "        vertical-align: top;\n",
       "    }\n",
       "\n",
       "    .dataframe thead th {\n",
       "        text-align: right;\n",
       "    }\n",
       "</style>\n",
       "<table border=\"1\" class=\"dataframe\">\n",
       "  <thead>\n",
       "    <tr style=\"text-align: right;\">\n",
       "      <th></th>\n",
       "      <th>brands</th>\n",
       "      <th>price</th>\n",
       "    </tr>\n",
       "  </thead>\n",
       "  <tbody>\n",
       "    <tr>\n",
       "      <th>0</th>\n",
       "      <td>Ford</td>\n",
       "      <td>10045</td>\n",
       "    </tr>\n",
       "    <tr>\n",
       "      <th>1</th>\n",
       "      <td>Toyota</td>\n",
       "      <td>14686</td>\n",
       "    </tr>\n",
       "    <tr>\n",
       "      <th>2</th>\n",
       "      <td>BMW</td>\n",
       "      <td>18662</td>\n",
       "    </tr>\n",
       "    <tr>\n",
       "      <th>3</th>\n",
       "      <td>Ford</td>\n",
       "      <td>10518</td>\n",
       "    </tr>\n",
       "    <tr>\n",
       "      <th>4</th>\n",
       "      <td>Toyota</td>\n",
       "      <td>17678</td>\n",
       "    </tr>\n",
       "  </tbody>\n",
       "</table>\n",
       "</div>"
      ],
      "text/plain": [
       "   brands  price\n",
       "0    Ford  10045\n",
       "1  Toyota  14686\n",
       "2     BMW  18662\n",
       "3    Ford  10518\n",
       "4  Toyota  17678"
      ]
     },
     "execution_count": 26,
     "metadata": {},
     "output_type": "execute_result"
    }
   ],
   "source": [
    "cars = pd.DataFrame(\n",
    "    \n",
    "    {\n",
    "        \"brands\": pd.Categorical([\"Ford\", \"Toyota\", \"BMW\"] * 100, categories=[\"Ford\", \"Toyota\", \"BMW\"]),\n",
    "        \"price\": np.random.randint(10000, 20000, size=300)\n",
    "    }\n",
    "\n",
    ")\n",
    "\n",
    "cars.head()"
   ]
  },
  {
   "cell_type": "code",
   "execution_count": 27,
   "id": "fa0215d6",
   "metadata": {},
   "outputs": [],
   "source": [
    "# cars.iloc[0, 0] = \"Nissan\"\n",
    "\n",
    "# output\n",
    "# TypeError: Cannot setitem on a Categorical with a new category (Nissan), set the categories first"
   ]
  },
  {
   "cell_type": "code",
   "execution_count": 28,
   "id": "166e6462",
   "metadata": {},
   "outputs": [
    {
     "data": {
      "text/html": [
       "<div>\n",
       "<style scoped>\n",
       "    .dataframe tbody tr th:only-of-type {\n",
       "        vertical-align: middle;\n",
       "    }\n",
       "\n",
       "    .dataframe tbody tr th {\n",
       "        vertical-align: top;\n",
       "    }\n",
       "\n",
       "    .dataframe thead th {\n",
       "        text-align: right;\n",
       "    }\n",
       "</style>\n",
       "<table border=\"1\" class=\"dataframe\">\n",
       "  <thead>\n",
       "    <tr style=\"text-align: right;\">\n",
       "      <th></th>\n",
       "      <th>brands</th>\n",
       "      <th>price</th>\n",
       "    </tr>\n",
       "  </thead>\n",
       "  <tbody>\n",
       "    <tr>\n",
       "      <th>0</th>\n",
       "      <td>Ford</td>\n",
       "      <td>18701</td>\n",
       "    </tr>\n",
       "    <tr>\n",
       "      <th>1</th>\n",
       "      <td>Toyota</td>\n",
       "      <td>11167</td>\n",
       "    </tr>\n",
       "    <tr>\n",
       "      <th>2</th>\n",
       "      <td>BMW</td>\n",
       "      <td>16634</td>\n",
       "    </tr>\n",
       "    <tr>\n",
       "      <th>3</th>\n",
       "      <td>Ford</td>\n",
       "      <td>16424</td>\n",
       "    </tr>\n",
       "    <tr>\n",
       "      <th>4</th>\n",
       "      <td>Toyota</td>\n",
       "      <td>15190</td>\n",
       "    </tr>\n",
       "  </tbody>\n",
       "</table>\n",
       "</div>"
      ],
      "text/plain": [
       "   brands  price\n",
       "0    Ford  18701\n",
       "1  Toyota  11167\n",
       "2     BMW  16634\n",
       "3    Ford  16424\n",
       "4  Toyota  15190"
      ]
     },
     "execution_count": 28,
     "metadata": {},
     "output_type": "execute_result"
    }
   ],
   "source": [
    "cars = pd.DataFrame(\n",
    "    \n",
    "    {\n",
    "        \"brands\": pd.Categorical([\"Ford\", \"Toyota\", \"BMW\"] * 100, categories=[\"Ford\", \"Toyota\", \"BMW\", \"Nissan\"]),\n",
    "        \"price\": np.random.randint(10000, 20000, size=300)\n",
    "    }\n",
    "\n",
    ")\n",
    "\n",
    "cars.head()"
   ]
  },
  {
   "cell_type": "code",
   "execution_count": 29,
   "id": "f4b62b2a",
   "metadata": {},
   "outputs": [
    {
     "data": {
      "text/plain": [
       "brands\n",
       "Ford      100\n",
       "Toyota    100\n",
       "BMW       100\n",
       "Nissan      0\n",
       "Name: count, dtype: int64"
      ]
     },
     "execution_count": 29,
     "metadata": {},
     "output_type": "execute_result"
    }
   ],
   "source": [
    "cars[\"brands\"].value_counts()"
   ]
  },
  {
   "cell_type": "code",
   "execution_count": 30,
   "id": "bc0cb420",
   "metadata": {},
   "outputs": [
    {
     "data": {
      "text/plain": [
       "brands\n",
       "Toyota    100\n",
       "BMW       100\n",
       "Ford       99\n",
       "Nissan      1\n",
       "Name: count, dtype: int64"
      ]
     },
     "execution_count": 30,
     "metadata": {},
     "output_type": "execute_result"
    }
   ],
   "source": [
    "cars.iloc[0, 0] = \"Nissan\"\n",
    "\n",
    "cars[\"brands\"].value_counts()"
   ]
  },
  {
   "cell_type": "markdown",
   "id": "21ef7d3d",
   "metadata": {},
   "source": [
    "## Exercise 13 - add_categories\n",
    "\n",
    "* cat: Accessor object for categorical properties of the Series values"
   ]
  },
  {
   "cell_type": "code",
   "execution_count": 31,
   "id": "b383990e",
   "metadata": {},
   "outputs": [
    {
     "data": {
      "text/plain": [
       "brands\n",
       "Toyota    100\n",
       "BMW       100\n",
       "Ford       99\n",
       "Nissan      1\n",
       "Tesla       0\n",
       "Name: count, dtype: int64"
      ]
     },
     "execution_count": 31,
     "metadata": {},
     "output_type": "execute_result"
    }
   ],
   "source": [
    "cars[\"brands\"] = cars[\"brands\"].cat.add_categories(\"Tesla\")\n",
    "\n",
    "cars[\"brands\"].value_counts()"
   ]
  },
  {
   "cell_type": "markdown",
   "id": "656fe5a0",
   "metadata": {},
   "source": [
    "## Exercise 14 - infer_objects function\n",
    "\n",
    "* Attempt to infer better dtypes for object columns."
   ]
  },
  {
   "cell_type": "code",
   "execution_count": 32,
   "id": "918e2fdd",
   "metadata": {},
   "outputs": [
    {
     "data": {
      "text/plain": [
       "0     1\n",
       "1     2\n",
       "2     5\n",
       "3     3\n",
       "4    11\n",
       "5    20\n",
       "dtype: object"
      ]
     },
     "execution_count": 32,
     "metadata": {},
     "output_type": "execute_result"
    }
   ],
   "source": [
    "ser = pd.Series([1, 2, 5, 3, 11, 20], dtype=\"object\")\n",
    "\n",
    "ser"
   ]
  },
  {
   "cell_type": "code",
   "execution_count": 33,
   "id": "870d1fde",
   "metadata": {},
   "outputs": [
    {
     "data": {
      "text/plain": [
       "0     1\n",
       "1     2\n",
       "2     5\n",
       "3     3\n",
       "4    11\n",
       "5    20\n",
       "dtype: int64"
      ]
     },
     "execution_count": 33,
     "metadata": {},
     "output_type": "execute_result"
    }
   ],
   "source": [
    "ser = ser.infer_objects()\n",
    "\n",
    "ser"
   ]
  },
  {
   "cell_type": "markdown",
   "id": "9289654c",
   "metadata": {},
   "source": [
    "## Exercise 15 - infer_objects function"
   ]
  },
  {
   "cell_type": "code",
   "execution_count": 34,
   "id": "2d19a1c4",
   "metadata": {},
   "outputs": [
    {
     "data": {
      "text/html": [
       "<div>\n",
       "<style scoped>\n",
       "    .dataframe tbody tr th:only-of-type {\n",
       "        vertical-align: middle;\n",
       "    }\n",
       "\n",
       "    .dataframe tbody tr th {\n",
       "        vertical-align: top;\n",
       "    }\n",
       "\n",
       "    .dataframe thead th {\n",
       "        text-align: right;\n",
       "    }\n",
       "</style>\n",
       "<table border=\"1\" class=\"dataframe\">\n",
       "  <thead>\n",
       "    <tr style=\"text-align: right;\">\n",
       "      <th></th>\n",
       "      <th>col1</th>\n",
       "      <th>col2</th>\n",
       "      <th>col3</th>\n",
       "      <th>col4</th>\n",
       "    </tr>\n",
       "  </thead>\n",
       "  <tbody>\n",
       "    <tr>\n",
       "      <th>0</th>\n",
       "      <td>1</td>\n",
       "      <td>Jane</td>\n",
       "      <td>True</td>\n",
       "      <td>1.2</td>\n",
       "    </tr>\n",
       "    <tr>\n",
       "      <th>1</th>\n",
       "      <td>2</td>\n",
       "      <td>Max</td>\n",
       "      <td>True</td>\n",
       "      <td>1.54</td>\n",
       "    </tr>\n",
       "    <tr>\n",
       "      <th>2</th>\n",
       "      <td>3</td>\n",
       "      <td>Matt</td>\n",
       "      <td>False</td>\n",
       "      <td>3.2</td>\n",
       "    </tr>\n",
       "    <tr>\n",
       "      <th>3</th>\n",
       "      <td>4</td>\n",
       "      <td>Emily</td>\n",
       "      <td>True</td>\n",
       "      <td>1.9</td>\n",
       "    </tr>\n",
       "    <tr>\n",
       "      <th>4</th>\n",
       "      <td>5</td>\n",
       "      <td>John</td>\n",
       "      <td>False</td>\n",
       "      <td>4.2</td>\n",
       "    </tr>\n",
       "  </tbody>\n",
       "</table>\n",
       "</div>"
      ],
      "text/plain": [
       "  col1   col2   col3  col4\n",
       "0    1   Jane   True   1.2\n",
       "1    2    Max   True  1.54\n",
       "2    3   Matt  False   3.2\n",
       "3    4  Emily   True   1.9\n",
       "4    5   John  False   4.2"
      ]
     },
     "execution_count": 34,
     "metadata": {},
     "output_type": "execute_result"
    }
   ],
   "source": [
    "df = pd.DataFrame(\n",
    "    \n",
    "    {\n",
    "        \"col1\": [1, 2, 3, 4, 5],\n",
    "        \"col2\": [\"Jane\", \"Max\", \"Matt\", \"Emily\", \"John\"],\n",
    "        \"col3\": [True, True, False, True, False],\n",
    "        \"col4\": [1.2, 1.54, 3.2, 1.9, 4.2]\n",
    "    },\n",
    "    \n",
    "    dtype=\"object\"\n",
    "\n",
    ")\n",
    "\n",
    "df"
   ]
  },
  {
   "cell_type": "code",
   "execution_count": 35,
   "id": "0199ea6c",
   "metadata": {},
   "outputs": [
    {
     "data": {
      "text/plain": [
       "col1    object\n",
       "col2    object\n",
       "col3    object\n",
       "col4    object\n",
       "dtype: object"
      ]
     },
     "execution_count": 35,
     "metadata": {},
     "output_type": "execute_result"
    }
   ],
   "source": [
    "df.dtypes"
   ]
  },
  {
   "cell_type": "code",
   "execution_count": 36,
   "id": "73e57599",
   "metadata": {},
   "outputs": [
    {
     "data": {
      "text/html": [
       "<div>\n",
       "<style scoped>\n",
       "    .dataframe tbody tr th:only-of-type {\n",
       "        vertical-align: middle;\n",
       "    }\n",
       "\n",
       "    .dataframe tbody tr th {\n",
       "        vertical-align: top;\n",
       "    }\n",
       "\n",
       "    .dataframe thead th {\n",
       "        text-align: right;\n",
       "    }\n",
       "</style>\n",
       "<table border=\"1\" class=\"dataframe\">\n",
       "  <thead>\n",
       "    <tr style=\"text-align: right;\">\n",
       "      <th></th>\n",
       "      <th>col1</th>\n",
       "      <th>col2</th>\n",
       "      <th>col3</th>\n",
       "      <th>col4</th>\n",
       "    </tr>\n",
       "  </thead>\n",
       "  <tbody>\n",
       "    <tr>\n",
       "      <th>0</th>\n",
       "      <td>1</td>\n",
       "      <td>Jane</td>\n",
       "      <td>True</td>\n",
       "      <td>1.20</td>\n",
       "    </tr>\n",
       "    <tr>\n",
       "      <th>1</th>\n",
       "      <td>2</td>\n",
       "      <td>Max</td>\n",
       "      <td>True</td>\n",
       "      <td>1.54</td>\n",
       "    </tr>\n",
       "    <tr>\n",
       "      <th>2</th>\n",
       "      <td>3</td>\n",
       "      <td>Matt</td>\n",
       "      <td>False</td>\n",
       "      <td>3.20</td>\n",
       "    </tr>\n",
       "    <tr>\n",
       "      <th>3</th>\n",
       "      <td>4</td>\n",
       "      <td>Emily</td>\n",
       "      <td>True</td>\n",
       "      <td>1.90</td>\n",
       "    </tr>\n",
       "    <tr>\n",
       "      <th>4</th>\n",
       "      <td>5</td>\n",
       "      <td>John</td>\n",
       "      <td>False</td>\n",
       "      <td>4.20</td>\n",
       "    </tr>\n",
       "  </tbody>\n",
       "</table>\n",
       "</div>"
      ],
      "text/plain": [
       "   col1   col2   col3  col4\n",
       "0     1   Jane   True  1.20\n",
       "1     2    Max   True  1.54\n",
       "2     3   Matt  False  3.20\n",
       "3     4  Emily   True  1.90\n",
       "4     5   John  False  4.20"
      ]
     },
     "execution_count": 36,
     "metadata": {},
     "output_type": "execute_result"
    }
   ],
   "source": [
    "df = df.infer_objects()\n",
    "\n",
    "df"
   ]
  },
  {
   "cell_type": "code",
   "execution_count": 37,
   "id": "a321a0b2",
   "metadata": {},
   "outputs": [
    {
     "data": {
      "text/plain": [
       "col1      int64\n",
       "col2     object\n",
       "col3       bool\n",
       "col4    float64\n",
       "dtype: object"
      ]
     },
     "execution_count": 37,
     "metadata": {},
     "output_type": "execute_result"
    }
   ],
   "source": [
    "df.dtypes"
   ]
  },
  {
   "cell_type": "code",
   "execution_count": null,
   "id": "d93cb8c0",
   "metadata": {},
   "outputs": [],
   "source": []
  }
 ],
 "metadata": {
  "kernelspec": {
   "display_name": "Python 3 (ipykernel)",
   "language": "python",
   "name": "python3"
  },
  "language_info": {
   "codemirror_mode": {
    "name": "ipython",
    "version": 3
   },
   "file_extension": ".py",
   "mimetype": "text/x-python",
   "name": "python",
   "nbconvert_exporter": "python",
   "pygments_lexer": "ipython3",
   "version": "3.10.8"
  }
 },
 "nbformat": 4,
 "nbformat_minor": 5
}
