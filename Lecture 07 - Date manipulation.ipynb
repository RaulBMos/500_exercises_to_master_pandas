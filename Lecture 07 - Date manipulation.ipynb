{
 "cells": [
  {
   "cell_type": "markdown",
   "id": "70921b4d",
   "metadata": {},
   "source": [
    "* Time series data contains data points attached to sequential timestamps.\n",
    "* Stock prices over time\n",
    "* Daily, weekly, monthly sales\n",
    "* Periodic measurements in a process\n",
    "* Power or gas consumption rates over time\n",
    "* Pandas is a great library for working on dates and times. It provides numerous functions for the process of analyzing and manipulating time series data."
   ]
  },
  {
   "cell_type": "code",
   "execution_count": 1,
   "id": "0da92d9f",
   "metadata": {},
   "outputs": [
    {
     "data": {
      "text/html": [
       "<div>\n",
       "<style scoped>\n",
       "    .dataframe tbody tr th:only-of-type {\n",
       "        vertical-align: middle;\n",
       "    }\n",
       "\n",
       "    .dataframe tbody tr th {\n",
       "        vertical-align: top;\n",
       "    }\n",
       "\n",
       "    .dataframe thead th {\n",
       "        text-align: right;\n",
       "    }\n",
       "</style>\n",
       "<table border=\"1\" class=\"dataframe\">\n",
       "  <thead>\n",
       "    <tr style=\"text-align: right;\">\n",
       "      <th></th>\n",
       "      <th>purchase_date</th>\n",
       "      <th>sold_date</th>\n",
       "      <th>qty</th>\n",
       "    </tr>\n",
       "  </thead>\n",
       "  <tbody>\n",
       "    <tr>\n",
       "      <th>0</th>\n",
       "      <td>2021-05-31 00:00:00</td>\n",
       "      <td>2021-07-15</td>\n",
       "      <td>316</td>\n",
       "    </tr>\n",
       "    <tr>\n",
       "      <th>1</th>\n",
       "      <td>2021-06-30 07:00:00</td>\n",
       "      <td>2022-01-12</td>\n",
       "      <td>495</td>\n",
       "    </tr>\n",
       "    <tr>\n",
       "      <th>2</th>\n",
       "      <td>2021-07-30 13:00:00</td>\n",
       "      <td>2021-09-14</td>\n",
       "      <td>312</td>\n",
       "    </tr>\n",
       "    <tr>\n",
       "      <th>3</th>\n",
       "      <td>2021-08-31 13:00:00</td>\n",
       "      <td>2022-02-05</td>\n",
       "      <td>416</td>\n",
       "    </tr>\n",
       "    <tr>\n",
       "      <th>4</th>\n",
       "      <td>2021-09-28 07:00:00</td>\n",
       "      <td>2021-12-30</td>\n",
       "      <td>349</td>\n",
       "    </tr>\n",
       "  </tbody>\n",
       "</table>\n",
       "</div>"
      ],
      "text/plain": [
       "         purchase_date   sold_date  qty\n",
       "0  2021-05-31 00:00:00  2021-07-15  316\n",
       "1  2021-06-30 07:00:00  2022-01-12  495\n",
       "2  2021-07-30 13:00:00  2021-09-14  312\n",
       "3  2021-08-31 13:00:00  2022-02-05  416\n",
       "4  2021-09-28 07:00:00  2021-12-30  349"
      ]
     },
     "execution_count": 1,
     "metadata": {},
     "output_type": "execute_result"
    }
   ],
   "source": [
    "import pandas as pd\n",
    "\n",
    "df = pd.read_csv(\"Data/sales.csv\")\n",
    "\n",
    "df.head()"
   ]
  },
  {
   "cell_type": "markdown",
   "id": "c1147e25",
   "metadata": {},
   "source": [
    "## 1. Data types"
   ]
  },
  {
   "cell_type": "markdown",
   "id": "e0c472ea",
   "metadata": {},
   "source": [
    "Data types to represent time series data:\n",
    "\n",
    "* **datetime64[ns]**:  This data type is mainly used for representing timestamps. It can be on the day level such as '2022-05-20' and May 1st, 2022. The precision of a timestamp can even be on a nanosecond level.\n",
    "\n",
    "* **timedelta64[ns]**: This data type can be used for expressing differences in times. The units can be days, hours, minutes, and so on. It can take on both positive and negative values. For instance, if we subtract a future date from today, we will end up having a negative timedelta value.\n",
    "\n",
    "* **period[freq]**: This data type represents fixed durations such as month, quarter, and year. In a sense, it is similar to timedelta but the durations are fixed. For instance, a period[M] data type can take the value of 2022-01 but cannot be 1 month or 2 months."
   ]
  },
  {
   "cell_type": "code",
   "execution_count": 2,
   "id": "9aa884c3",
   "metadata": {},
   "outputs": [
    {
     "data": {
      "text/plain": [
       "purchase_date    object\n",
       "sold_date        object\n",
       "qty               int64\n",
       "dtype: object"
      ]
     },
     "execution_count": 2,
     "metadata": {},
     "output_type": "execute_result"
    }
   ],
   "source": [
    "df.dtypes"
   ]
  },
  {
   "cell_type": "code",
   "execution_count": 3,
   "id": "6a2bcc07",
   "metadata": {},
   "outputs": [
    {
     "data": {
      "text/plain": [
       "purchase_date    datetime64[ns]\n",
       "sold_date        datetime64[ns]\n",
       "qty                       int64\n",
       "dtype: object"
      ]
     },
     "execution_count": 3,
     "metadata": {},
     "output_type": "execute_result"
    }
   ],
   "source": [
    "df = df.astype({\n",
    "    \n",
    "    \"purchase_date\": \"datetime64[ns]\",\n",
    "    \"sold_date\": \"datetime64[ns]\"\n",
    "\n",
    "})\n",
    "\n",
    "df.dtypes"
   ]
  },
  {
   "cell_type": "markdown",
   "id": "07187f90",
   "metadata": {},
   "source": [
    "## 2. Day\n",
    "\n",
    "* Date manipulation functions are available via the dt accessor"
   ]
  },
  {
   "cell_type": "code",
   "execution_count": 4,
   "id": "f5f9d922",
   "metadata": {},
   "outputs": [
    {
     "data": {
      "text/html": [
       "<div>\n",
       "<style scoped>\n",
       "    .dataframe tbody tr th:only-of-type {\n",
       "        vertical-align: middle;\n",
       "    }\n",
       "\n",
       "    .dataframe tbody tr th {\n",
       "        vertical-align: top;\n",
       "    }\n",
       "\n",
       "    .dataframe thead th {\n",
       "        text-align: right;\n",
       "    }\n",
       "</style>\n",
       "<table border=\"1\" class=\"dataframe\">\n",
       "  <thead>\n",
       "    <tr style=\"text-align: right;\">\n",
       "      <th></th>\n",
       "      <th>purchase_date</th>\n",
       "      <th>sold_date</th>\n",
       "      <th>qty</th>\n",
       "    </tr>\n",
       "  </thead>\n",
       "  <tbody>\n",
       "    <tr>\n",
       "      <th>0</th>\n",
       "      <td>2021-05-31 00:00:00</td>\n",
       "      <td>2021-07-15</td>\n",
       "      <td>316</td>\n",
       "    </tr>\n",
       "    <tr>\n",
       "      <th>1</th>\n",
       "      <td>2021-06-30 07:00:00</td>\n",
       "      <td>2022-01-12</td>\n",
       "      <td>495</td>\n",
       "    </tr>\n",
       "    <tr>\n",
       "      <th>2</th>\n",
       "      <td>2021-07-30 13:00:00</td>\n",
       "      <td>2021-09-14</td>\n",
       "      <td>312</td>\n",
       "    </tr>\n",
       "    <tr>\n",
       "      <th>3</th>\n",
       "      <td>2021-08-31 13:00:00</td>\n",
       "      <td>2022-02-05</td>\n",
       "      <td>416</td>\n",
       "    </tr>\n",
       "    <tr>\n",
       "      <th>4</th>\n",
       "      <td>2021-09-28 07:00:00</td>\n",
       "      <td>2021-12-30</td>\n",
       "      <td>349</td>\n",
       "    </tr>\n",
       "  </tbody>\n",
       "</table>\n",
       "</div>"
      ],
      "text/plain": [
       "        purchase_date  sold_date  qty\n",
       "0 2021-05-31 00:00:00 2021-07-15  316\n",
       "1 2021-06-30 07:00:00 2022-01-12  495\n",
       "2 2021-07-30 13:00:00 2021-09-14  312\n",
       "3 2021-08-31 13:00:00 2022-02-05  416\n",
       "4 2021-09-28 07:00:00 2021-12-30  349"
      ]
     },
     "execution_count": 4,
     "metadata": {},
     "output_type": "execute_result"
    }
   ],
   "source": [
    "df"
   ]
  },
  {
   "cell_type": "code",
   "execution_count": 5,
   "id": "f47e3d7d",
   "metadata": {},
   "outputs": [
    {
     "data": {
      "text/plain": [
       "0    15\n",
       "1    12\n",
       "2    14\n",
       "3     5\n",
       "4    30\n",
       "Name: sold_date, dtype: int32"
      ]
     },
     "execution_count": 5,
     "metadata": {},
     "output_type": "execute_result"
    }
   ],
   "source": [
    "df[\"sold_date\"].dt.day"
   ]
  },
  {
   "cell_type": "markdown",
   "id": "1b177cce",
   "metadata": {},
   "source": [
    "## 3. Year"
   ]
  },
  {
   "cell_type": "code",
   "execution_count": 6,
   "id": "5fb95e9d",
   "metadata": {},
   "outputs": [
    {
     "data": {
      "text/plain": [
       "0    2021\n",
       "1    2022\n",
       "2    2021\n",
       "3    2022\n",
       "4    2021\n",
       "Name: sold_date, dtype: int32"
      ]
     },
     "execution_count": 6,
     "metadata": {},
     "output_type": "execute_result"
    }
   ],
   "source": [
    "df[\"sold_date\"].dt.year"
   ]
  },
  {
   "cell_type": "markdown",
   "id": "49d67d95",
   "metadata": {},
   "source": [
    "## 4. Month - 1"
   ]
  },
  {
   "cell_type": "code",
   "execution_count": 7,
   "id": "489311d3",
   "metadata": {},
   "outputs": [
    {
     "data": {
      "text/html": [
       "<div>\n",
       "<style scoped>\n",
       "    .dataframe tbody tr th:only-of-type {\n",
       "        vertical-align: middle;\n",
       "    }\n",
       "\n",
       "    .dataframe tbody tr th {\n",
       "        vertical-align: top;\n",
       "    }\n",
       "\n",
       "    .dataframe thead th {\n",
       "        text-align: right;\n",
       "    }\n",
       "</style>\n",
       "<table border=\"1\" class=\"dataframe\">\n",
       "  <thead>\n",
       "    <tr style=\"text-align: right;\">\n",
       "      <th></th>\n",
       "      <th>purchase_date</th>\n",
       "      <th>sold_date</th>\n",
       "      <th>qty</th>\n",
       "    </tr>\n",
       "  </thead>\n",
       "  <tbody>\n",
       "    <tr>\n",
       "      <th>0</th>\n",
       "      <td>2021-05-31 00:00:00</td>\n",
       "      <td>2021-07-15</td>\n",
       "      <td>316</td>\n",
       "    </tr>\n",
       "    <tr>\n",
       "      <th>1</th>\n",
       "      <td>2021-06-30 07:00:00</td>\n",
       "      <td>2022-01-12</td>\n",
       "      <td>495</td>\n",
       "    </tr>\n",
       "    <tr>\n",
       "      <th>2</th>\n",
       "      <td>2021-07-30 13:00:00</td>\n",
       "      <td>2021-09-14</td>\n",
       "      <td>312</td>\n",
       "    </tr>\n",
       "    <tr>\n",
       "      <th>3</th>\n",
       "      <td>2021-08-31 13:00:00</td>\n",
       "      <td>2022-02-05</td>\n",
       "      <td>416</td>\n",
       "    </tr>\n",
       "    <tr>\n",
       "      <th>4</th>\n",
       "      <td>2021-09-28 07:00:00</td>\n",
       "      <td>2021-12-30</td>\n",
       "      <td>349</td>\n",
       "    </tr>\n",
       "  </tbody>\n",
       "</table>\n",
       "</div>"
      ],
      "text/plain": [
       "        purchase_date  sold_date  qty\n",
       "0 2021-05-31 00:00:00 2021-07-15  316\n",
       "1 2021-06-30 07:00:00 2022-01-12  495\n",
       "2 2021-07-30 13:00:00 2021-09-14  312\n",
       "3 2021-08-31 13:00:00 2022-02-05  416\n",
       "4 2021-09-28 07:00:00 2021-12-30  349"
      ]
     },
     "execution_count": 7,
     "metadata": {},
     "output_type": "execute_result"
    }
   ],
   "source": [
    "df.head()"
   ]
  },
  {
   "cell_type": "code",
   "execution_count": 8,
   "id": "a6c25a5c",
   "metadata": {},
   "outputs": [
    {
     "data": {
      "text/plain": [
       "0     7\n",
       "1     1\n",
       "2     9\n",
       "3     2\n",
       "4    12\n",
       "Name: sold_date, dtype: int32"
      ]
     },
     "execution_count": 8,
     "metadata": {},
     "output_type": "execute_result"
    }
   ],
   "source": [
    "df[\"sold_date\"].dt.month"
   ]
  },
  {
   "cell_type": "markdown",
   "id": "85f5b105",
   "metadata": {},
   "source": [
    "## 5. Month - 2"
   ]
  },
  {
   "cell_type": "code",
   "execution_count": 9,
   "id": "c13c352b",
   "metadata": {},
   "outputs": [
    {
     "data": {
      "text/plain": [
       "0    2021-07\n",
       "1    2022-01\n",
       "2    2021-09\n",
       "3    2022-02\n",
       "4    2021-12\n",
       "Name: sold_date, dtype: period[M]"
      ]
     },
     "execution_count": 9,
     "metadata": {},
     "output_type": "execute_result"
    }
   ],
   "source": [
    "df[\"sold_date\"].dt.to_period(\"M\")"
   ]
  },
  {
   "cell_type": "code",
   "execution_count": 10,
   "id": "42e0e32f",
   "metadata": {},
   "outputs": [
    {
     "data": {
      "text/html": [
       "<div>\n",
       "<style scoped>\n",
       "    .dataframe tbody tr th:only-of-type {\n",
       "        vertical-align: middle;\n",
       "    }\n",
       "\n",
       "    .dataframe tbody tr th {\n",
       "        vertical-align: top;\n",
       "    }\n",
       "\n",
       "    .dataframe thead th {\n",
       "        text-align: right;\n",
       "    }\n",
       "</style>\n",
       "<table border=\"1\" class=\"dataframe\">\n",
       "  <thead>\n",
       "    <tr style=\"text-align: right;\">\n",
       "      <th></th>\n",
       "      <th>purchase_date</th>\n",
       "      <th>sold_date</th>\n",
       "      <th>qty</th>\n",
       "      <th>sold_month</th>\n",
       "    </tr>\n",
       "  </thead>\n",
       "  <tbody>\n",
       "    <tr>\n",
       "      <th>0</th>\n",
       "      <td>2021-05-31 00:00:00</td>\n",
       "      <td>2021-07-15</td>\n",
       "      <td>316</td>\n",
       "      <td>2021-07</td>\n",
       "    </tr>\n",
       "    <tr>\n",
       "      <th>1</th>\n",
       "      <td>2021-06-30 07:00:00</td>\n",
       "      <td>2022-01-12</td>\n",
       "      <td>495</td>\n",
       "      <td>2022-01</td>\n",
       "    </tr>\n",
       "    <tr>\n",
       "      <th>2</th>\n",
       "      <td>2021-07-30 13:00:00</td>\n",
       "      <td>2021-09-14</td>\n",
       "      <td>312</td>\n",
       "      <td>2021-09</td>\n",
       "    </tr>\n",
       "    <tr>\n",
       "      <th>3</th>\n",
       "      <td>2021-08-31 13:00:00</td>\n",
       "      <td>2022-02-05</td>\n",
       "      <td>416</td>\n",
       "      <td>2022-02</td>\n",
       "    </tr>\n",
       "    <tr>\n",
       "      <th>4</th>\n",
       "      <td>2021-09-28 07:00:00</td>\n",
       "      <td>2021-12-30</td>\n",
       "      <td>349</td>\n",
       "      <td>2021-12</td>\n",
       "    </tr>\n",
       "  </tbody>\n",
       "</table>\n",
       "</div>"
      ],
      "text/plain": [
       "        purchase_date  sold_date  qty sold_month\n",
       "0 2021-05-31 00:00:00 2021-07-15  316    2021-07\n",
       "1 2021-06-30 07:00:00 2022-01-12  495    2022-01\n",
       "2 2021-07-30 13:00:00 2021-09-14  312    2021-09\n",
       "3 2021-08-31 13:00:00 2022-02-05  416    2022-02\n",
       "4 2021-09-28 07:00:00 2021-12-30  349    2021-12"
      ]
     },
     "execution_count": 10,
     "metadata": {},
     "output_type": "execute_result"
    }
   ],
   "source": [
    "df[\"sold_month\"] = df[\"sold_date\"].dt.to_period(\"M\")\n",
    "\n",
    "df.head()"
   ]
  },
  {
   "cell_type": "code",
   "execution_count": 11,
   "id": "6b917065",
   "metadata": {},
   "outputs": [
    {
     "data": {
      "text/plain": [
       "purchase_date    datetime64[ns]\n",
       "sold_date        datetime64[ns]\n",
       "qty                       int64\n",
       "sold_month            period[M]\n",
       "dtype: object"
      ]
     },
     "execution_count": 11,
     "metadata": {},
     "output_type": "execute_result"
    }
   ],
   "source": [
    "df.dtypes"
   ]
  },
  {
   "cell_type": "markdown",
   "id": "2eaf279c",
   "metadata": {},
   "source": [
    "## 6. Month name"
   ]
  },
  {
   "cell_type": "code",
   "execution_count": 12,
   "id": "36a4834a",
   "metadata": {},
   "outputs": [
    {
     "data": {
      "text/plain": [
       "0         July\n",
       "1      January\n",
       "2    September\n",
       "3     February\n",
       "4     December\n",
       "Name: sold_date, dtype: object"
      ]
     },
     "execution_count": 12,
     "metadata": {},
     "output_type": "execute_result"
    }
   ],
   "source": [
    "df[\"sold_date\"].dt.month_name()"
   ]
  },
  {
   "cell_type": "markdown",
   "id": "0be2e950",
   "metadata": {},
   "source": [
    "## 7. Weekday"
   ]
  },
  {
   "cell_type": "code",
   "execution_count": 13,
   "id": "8c425116",
   "metadata": {},
   "outputs": [
    {
     "data": {
      "text/html": [
       "<div>\n",
       "<style scoped>\n",
       "    .dataframe tbody tr th:only-of-type {\n",
       "        vertical-align: middle;\n",
       "    }\n",
       "\n",
       "    .dataframe tbody tr th {\n",
       "        vertical-align: top;\n",
       "    }\n",
       "\n",
       "    .dataframe thead th {\n",
       "        text-align: right;\n",
       "    }\n",
       "</style>\n",
       "<table border=\"1\" class=\"dataframe\">\n",
       "  <thead>\n",
       "    <tr style=\"text-align: right;\">\n",
       "      <th></th>\n",
       "      <th>purchase_date</th>\n",
       "      <th>sold_date</th>\n",
       "      <th>qty</th>\n",
       "      <th>sold_month</th>\n",
       "    </tr>\n",
       "  </thead>\n",
       "  <tbody>\n",
       "    <tr>\n",
       "      <th>0</th>\n",
       "      <td>2021-05-31 00:00:00</td>\n",
       "      <td>2021-07-15</td>\n",
       "      <td>316</td>\n",
       "      <td>2021-07</td>\n",
       "    </tr>\n",
       "    <tr>\n",
       "      <th>1</th>\n",
       "      <td>2021-06-30 07:00:00</td>\n",
       "      <td>2022-01-12</td>\n",
       "      <td>495</td>\n",
       "      <td>2022-01</td>\n",
       "    </tr>\n",
       "    <tr>\n",
       "      <th>2</th>\n",
       "      <td>2021-07-30 13:00:00</td>\n",
       "      <td>2021-09-14</td>\n",
       "      <td>312</td>\n",
       "      <td>2021-09</td>\n",
       "    </tr>\n",
       "    <tr>\n",
       "      <th>3</th>\n",
       "      <td>2021-08-31 13:00:00</td>\n",
       "      <td>2022-02-05</td>\n",
       "      <td>416</td>\n",
       "      <td>2022-02</td>\n",
       "    </tr>\n",
       "    <tr>\n",
       "      <th>4</th>\n",
       "      <td>2021-09-28 07:00:00</td>\n",
       "      <td>2021-12-30</td>\n",
       "      <td>349</td>\n",
       "      <td>2021-12</td>\n",
       "    </tr>\n",
       "  </tbody>\n",
       "</table>\n",
       "</div>"
      ],
      "text/plain": [
       "        purchase_date  sold_date  qty sold_month\n",
       "0 2021-05-31 00:00:00 2021-07-15  316    2021-07\n",
       "1 2021-06-30 07:00:00 2022-01-12  495    2022-01\n",
       "2 2021-07-30 13:00:00 2021-09-14  312    2021-09\n",
       "3 2021-08-31 13:00:00 2022-02-05  416    2022-02\n",
       "4 2021-09-28 07:00:00 2021-12-30  349    2021-12"
      ]
     },
     "execution_count": 13,
     "metadata": {},
     "output_type": "execute_result"
    }
   ],
   "source": [
    "df.head()"
   ]
  },
  {
   "cell_type": "code",
   "execution_count": 14,
   "id": "c703ad40",
   "metadata": {},
   "outputs": [
    {
     "data": {
      "text/plain": [
       "0    3\n",
       "1    2\n",
       "2    1\n",
       "3    5\n",
       "4    3\n",
       "Name: sold_date, dtype: int32"
      ]
     },
     "execution_count": 14,
     "metadata": {},
     "output_type": "execute_result"
    }
   ],
   "source": [
    "df[\"sold_date\"].dt.dayofweek"
   ]
  },
  {
   "cell_type": "markdown",
   "id": "91841c0e",
   "metadata": {},
   "source": [
    "<img src=\"Assets/2021-July.png\" class=\"juno_ui_theme_light\" style=\"width:300px\">"
   ]
  },
  {
   "cell_type": "markdown",
   "id": "c2602067",
   "metadata": {},
   "source": [
    "## 8. Day name"
   ]
  },
  {
   "cell_type": "code",
   "execution_count": 15,
   "id": "b61ee329",
   "metadata": {},
   "outputs": [
    {
     "data": {
      "text/plain": [
       "0     Thursday\n",
       "1    Wednesday\n",
       "2      Tuesday\n",
       "3     Saturday\n",
       "4     Thursday\n",
       "Name: sold_date, dtype: object"
      ]
     },
     "execution_count": 15,
     "metadata": {},
     "output_type": "execute_result"
    }
   ],
   "source": [
    "df[\"sold_date\"].dt.day_name()"
   ]
  },
  {
   "cell_type": "markdown",
   "id": "cd46684d",
   "metadata": {},
   "source": [
    "## 6. isocalendar - 1\n",
    "\n",
    "The isocalendar can be used for getting the ISO year, week number, and weekday from a date in a single step. It returns a DataFrame that contains these pieces of information in separate columns."
   ]
  },
  {
   "cell_type": "code",
   "execution_count": 16,
   "id": "ffa22d66",
   "metadata": {},
   "outputs": [
    {
     "data": {
      "text/html": [
       "<div>\n",
       "<style scoped>\n",
       "    .dataframe tbody tr th:only-of-type {\n",
       "        vertical-align: middle;\n",
       "    }\n",
       "\n",
       "    .dataframe tbody tr th {\n",
       "        vertical-align: top;\n",
       "    }\n",
       "\n",
       "    .dataframe thead th {\n",
       "        text-align: right;\n",
       "    }\n",
       "</style>\n",
       "<table border=\"1\" class=\"dataframe\">\n",
       "  <thead>\n",
       "    <tr style=\"text-align: right;\">\n",
       "      <th></th>\n",
       "      <th>purchase_date</th>\n",
       "      <th>sold_date</th>\n",
       "      <th>qty</th>\n",
       "      <th>sold_month</th>\n",
       "    </tr>\n",
       "  </thead>\n",
       "  <tbody>\n",
       "    <tr>\n",
       "      <th>0</th>\n",
       "      <td>2021-05-31 00:00:00</td>\n",
       "      <td>2021-07-15</td>\n",
       "      <td>316</td>\n",
       "      <td>2021-07</td>\n",
       "    </tr>\n",
       "    <tr>\n",
       "      <th>1</th>\n",
       "      <td>2021-06-30 07:00:00</td>\n",
       "      <td>2022-01-12</td>\n",
       "      <td>495</td>\n",
       "      <td>2022-01</td>\n",
       "    </tr>\n",
       "    <tr>\n",
       "      <th>2</th>\n",
       "      <td>2021-07-30 13:00:00</td>\n",
       "      <td>2021-09-14</td>\n",
       "      <td>312</td>\n",
       "      <td>2021-09</td>\n",
       "    </tr>\n",
       "    <tr>\n",
       "      <th>3</th>\n",
       "      <td>2021-08-31 13:00:00</td>\n",
       "      <td>2022-02-05</td>\n",
       "      <td>416</td>\n",
       "      <td>2022-02</td>\n",
       "    </tr>\n",
       "    <tr>\n",
       "      <th>4</th>\n",
       "      <td>2021-09-28 07:00:00</td>\n",
       "      <td>2021-12-30</td>\n",
       "      <td>349</td>\n",
       "      <td>2021-12</td>\n",
       "    </tr>\n",
       "  </tbody>\n",
       "</table>\n",
       "</div>"
      ],
      "text/plain": [
       "        purchase_date  sold_date  qty sold_month\n",
       "0 2021-05-31 00:00:00 2021-07-15  316    2021-07\n",
       "1 2021-06-30 07:00:00 2022-01-12  495    2022-01\n",
       "2 2021-07-30 13:00:00 2021-09-14  312    2021-09\n",
       "3 2021-08-31 13:00:00 2022-02-05  416    2022-02\n",
       "4 2021-09-28 07:00:00 2021-12-30  349    2021-12"
      ]
     },
     "execution_count": 16,
     "metadata": {},
     "output_type": "execute_result"
    }
   ],
   "source": [
    "df.head()"
   ]
  },
  {
   "cell_type": "code",
   "execution_count": 17,
   "id": "cb3c6d23",
   "metadata": {
    "scrolled": true
   },
   "outputs": [
    {
     "data": {
      "text/html": [
       "<div>\n",
       "<style scoped>\n",
       "    .dataframe tbody tr th:only-of-type {\n",
       "        vertical-align: middle;\n",
       "    }\n",
       "\n",
       "    .dataframe tbody tr th {\n",
       "        vertical-align: top;\n",
       "    }\n",
       "\n",
       "    .dataframe thead th {\n",
       "        text-align: right;\n",
       "    }\n",
       "</style>\n",
       "<table border=\"1\" class=\"dataframe\">\n",
       "  <thead>\n",
       "    <tr style=\"text-align: right;\">\n",
       "      <th></th>\n",
       "      <th>year</th>\n",
       "      <th>week</th>\n",
       "      <th>day</th>\n",
       "    </tr>\n",
       "  </thead>\n",
       "  <tbody>\n",
       "    <tr>\n",
       "      <th>0</th>\n",
       "      <td>2021</td>\n",
       "      <td>28</td>\n",
       "      <td>4</td>\n",
       "    </tr>\n",
       "    <tr>\n",
       "      <th>1</th>\n",
       "      <td>2022</td>\n",
       "      <td>2</td>\n",
       "      <td>3</td>\n",
       "    </tr>\n",
       "    <tr>\n",
       "      <th>2</th>\n",
       "      <td>2021</td>\n",
       "      <td>37</td>\n",
       "      <td>2</td>\n",
       "    </tr>\n",
       "    <tr>\n",
       "      <th>3</th>\n",
       "      <td>2022</td>\n",
       "      <td>5</td>\n",
       "      <td>6</td>\n",
       "    </tr>\n",
       "    <tr>\n",
       "      <th>4</th>\n",
       "      <td>2021</td>\n",
       "      <td>52</td>\n",
       "      <td>4</td>\n",
       "    </tr>\n",
       "  </tbody>\n",
       "</table>\n",
       "</div>"
      ],
      "text/plain": [
       "   year  week  day\n",
       "0  2021    28    4\n",
       "1  2022     2    3\n",
       "2  2021    37    2\n",
       "3  2022     5    6\n",
       "4  2021    52    4"
      ]
     },
     "execution_count": 17,
     "metadata": {},
     "output_type": "execute_result"
    }
   ],
   "source": [
    "df[\"sold_date\"].dt.isocalendar()"
   ]
  },
  {
   "cell_type": "markdown",
   "id": "6e7b28c9",
   "metadata": {},
   "source": [
    "* The first value of the sold date column is \"2021-07-15\" which is in the 28th week of 2021 and is the 4th day of the week. The weekday value for Monday is 1 so the 4th day is Thursday.\n",
    "\n",
    "* When using the dayofweek method, the value for Monday is 0 so it returns 3 for Thursday."
   ]
  },
  {
   "cell_type": "code",
   "execution_count": 18,
   "id": "74574e7b",
   "metadata": {},
   "outputs": [
    {
     "data": {
      "text/plain": [
       "0    3\n",
       "1    2\n",
       "2    1\n",
       "3    5\n",
       "4    3\n",
       "Name: sold_date, dtype: int32"
      ]
     },
     "execution_count": 18,
     "metadata": {},
     "output_type": "execute_result"
    }
   ],
   "source": [
    "df[\"sold_date\"].dt.dayofweek"
   ]
  },
  {
   "cell_type": "markdown",
   "id": "443d572f",
   "metadata": {},
   "source": [
    "## 10. isocalendar - 2"
   ]
  },
  {
   "cell_type": "code",
   "execution_count": 19,
   "id": "7e316327",
   "metadata": {},
   "outputs": [
    {
     "data": {
      "text/html": [
       "<div>\n",
       "<style scoped>\n",
       "    .dataframe tbody tr th:only-of-type {\n",
       "        vertical-align: middle;\n",
       "    }\n",
       "\n",
       "    .dataframe tbody tr th {\n",
       "        vertical-align: top;\n",
       "    }\n",
       "\n",
       "    .dataframe thead th {\n",
       "        text-align: right;\n",
       "    }\n",
       "</style>\n",
       "<table border=\"1\" class=\"dataframe\">\n",
       "  <thead>\n",
       "    <tr style=\"text-align: right;\">\n",
       "      <th></th>\n",
       "      <th>year</th>\n",
       "      <th>week</th>\n",
       "      <th>day</th>\n",
       "    </tr>\n",
       "  </thead>\n",
       "  <tbody>\n",
       "    <tr>\n",
       "      <th>0</th>\n",
       "      <td>2021</td>\n",
       "      <td>28</td>\n",
       "      <td>4</td>\n",
       "    </tr>\n",
       "    <tr>\n",
       "      <th>1</th>\n",
       "      <td>2022</td>\n",
       "      <td>2</td>\n",
       "      <td>3</td>\n",
       "    </tr>\n",
       "    <tr>\n",
       "      <th>2</th>\n",
       "      <td>2021</td>\n",
       "      <td>37</td>\n",
       "      <td>2</td>\n",
       "    </tr>\n",
       "    <tr>\n",
       "      <th>3</th>\n",
       "      <td>2022</td>\n",
       "      <td>5</td>\n",
       "      <td>6</td>\n",
       "    </tr>\n",
       "    <tr>\n",
       "      <th>4</th>\n",
       "      <td>2021</td>\n",
       "      <td>52</td>\n",
       "      <td>4</td>\n",
       "    </tr>\n",
       "  </tbody>\n",
       "</table>\n",
       "</div>"
      ],
      "text/plain": [
       "   year  week  day\n",
       "0  2021    28    4\n",
       "1  2022     2    3\n",
       "2  2021    37    2\n",
       "3  2022     5    6\n",
       "4  2021    52    4"
      ]
     },
     "execution_count": 19,
     "metadata": {},
     "output_type": "execute_result"
    }
   ],
   "source": [
    "df[\"sold_date\"].dt.isocalendar()"
   ]
  },
  {
   "cell_type": "code",
   "execution_count": 20,
   "id": "49217b5d",
   "metadata": {},
   "outputs": [
    {
     "data": {
      "text/plain": [
       "0    28\n",
       "1     2\n",
       "2    37\n",
       "3     5\n",
       "4    52\n",
       "Name: week, dtype: UInt32"
      ]
     },
     "execution_count": 20,
     "metadata": {},
     "output_type": "execute_result"
    }
   ],
   "source": [
    "df[\"sold_date\"].dt.isocalendar().week"
   ]
  },
  {
   "cell_type": "markdown",
   "id": "c70939a6",
   "metadata": {},
   "source": [
    "## 11. Hour"
   ]
  },
  {
   "cell_type": "code",
   "execution_count": 21,
   "id": "5ac5f8fa",
   "metadata": {},
   "outputs": [
    {
     "data": {
      "text/html": [
       "<div>\n",
       "<style scoped>\n",
       "    .dataframe tbody tr th:only-of-type {\n",
       "        vertical-align: middle;\n",
       "    }\n",
       "\n",
       "    .dataframe tbody tr th {\n",
       "        vertical-align: top;\n",
       "    }\n",
       "\n",
       "    .dataframe thead th {\n",
       "        text-align: right;\n",
       "    }\n",
       "</style>\n",
       "<table border=\"1\" class=\"dataframe\">\n",
       "  <thead>\n",
       "    <tr style=\"text-align: right;\">\n",
       "      <th></th>\n",
       "      <th>purchase_date</th>\n",
       "      <th>sold_date</th>\n",
       "      <th>qty</th>\n",
       "      <th>sold_month</th>\n",
       "    </tr>\n",
       "  </thead>\n",
       "  <tbody>\n",
       "    <tr>\n",
       "      <th>0</th>\n",
       "      <td>2021-05-31 00:00:00</td>\n",
       "      <td>2021-07-15</td>\n",
       "      <td>316</td>\n",
       "      <td>2021-07</td>\n",
       "    </tr>\n",
       "    <tr>\n",
       "      <th>1</th>\n",
       "      <td>2021-06-30 07:00:00</td>\n",
       "      <td>2022-01-12</td>\n",
       "      <td>495</td>\n",
       "      <td>2022-01</td>\n",
       "    </tr>\n",
       "    <tr>\n",
       "      <th>2</th>\n",
       "      <td>2021-07-30 13:00:00</td>\n",
       "      <td>2021-09-14</td>\n",
       "      <td>312</td>\n",
       "      <td>2021-09</td>\n",
       "    </tr>\n",
       "    <tr>\n",
       "      <th>3</th>\n",
       "      <td>2021-08-31 13:00:00</td>\n",
       "      <td>2022-02-05</td>\n",
       "      <td>416</td>\n",
       "      <td>2022-02</td>\n",
       "    </tr>\n",
       "    <tr>\n",
       "      <th>4</th>\n",
       "      <td>2021-09-28 07:00:00</td>\n",
       "      <td>2021-12-30</td>\n",
       "      <td>349</td>\n",
       "      <td>2021-12</td>\n",
       "    </tr>\n",
       "  </tbody>\n",
       "</table>\n",
       "</div>"
      ],
      "text/plain": [
       "        purchase_date  sold_date  qty sold_month\n",
       "0 2021-05-31 00:00:00 2021-07-15  316    2021-07\n",
       "1 2021-06-30 07:00:00 2022-01-12  495    2022-01\n",
       "2 2021-07-30 13:00:00 2021-09-14  312    2021-09\n",
       "3 2021-08-31 13:00:00 2022-02-05  416    2022-02\n",
       "4 2021-09-28 07:00:00 2021-12-30  349    2021-12"
      ]
     },
     "execution_count": 21,
     "metadata": {},
     "output_type": "execute_result"
    }
   ],
   "source": [
    "df.head()"
   ]
  },
  {
   "cell_type": "code",
   "execution_count": 22,
   "id": "6ca2ef0a",
   "metadata": {},
   "outputs": [
    {
     "data": {
      "text/plain": [
       "0     0\n",
       "1     7\n",
       "2    13\n",
       "3    13\n",
       "4     7\n",
       "Name: purchase_date, dtype: int32"
      ]
     },
     "execution_count": 22,
     "metadata": {},
     "output_type": "execute_result"
    }
   ],
   "source": [
    "df[\"purchase_date\"].dt.hour"
   ]
  },
  {
   "cell_type": "markdown",
   "id": "422ef5c3",
   "metadata": {},
   "source": [
    "## 12. Minute"
   ]
  },
  {
   "cell_type": "code",
   "execution_count": 23,
   "id": "89d8be4c",
   "metadata": {},
   "outputs": [
    {
     "data": {
      "text/plain": [
       "0    0\n",
       "1    0\n",
       "2    0\n",
       "3    0\n",
       "4    0\n",
       "Name: purchase_date, dtype: int32"
      ]
     },
     "execution_count": 23,
     "metadata": {},
     "output_type": "execute_result"
    }
   ],
   "source": [
    "df[\"purchase_date\"].dt.minute"
   ]
  },
  {
   "cell_type": "markdown",
   "id": "b9fd3b5f",
   "metadata": {},
   "source": [
    "* Depending on the precision of the time value, we can use the second, microsecond, and nanosecond methods to extract the relevant part from time."
   ]
  },
  {
   "cell_type": "markdown",
   "id": "7eaac901",
   "metadata": {},
   "source": [
    "## 13. Month end"
   ]
  },
  {
   "cell_type": "code",
   "execution_count": 24,
   "id": "df0e8202",
   "metadata": {},
   "outputs": [
    {
     "data": {
      "text/html": [
       "<div>\n",
       "<style scoped>\n",
       "    .dataframe tbody tr th:only-of-type {\n",
       "        vertical-align: middle;\n",
       "    }\n",
       "\n",
       "    .dataframe tbody tr th {\n",
       "        vertical-align: top;\n",
       "    }\n",
       "\n",
       "    .dataframe thead th {\n",
       "        text-align: right;\n",
       "    }\n",
       "</style>\n",
       "<table border=\"1\" class=\"dataframe\">\n",
       "  <thead>\n",
       "    <tr style=\"text-align: right;\">\n",
       "      <th></th>\n",
       "      <th>purchase_date</th>\n",
       "      <th>sold_date</th>\n",
       "      <th>qty</th>\n",
       "      <th>sold_month</th>\n",
       "    </tr>\n",
       "  </thead>\n",
       "  <tbody>\n",
       "    <tr>\n",
       "      <th>0</th>\n",
       "      <td>2021-05-31 00:00:00</td>\n",
       "      <td>2021-07-15</td>\n",
       "      <td>316</td>\n",
       "      <td>2021-07</td>\n",
       "    </tr>\n",
       "    <tr>\n",
       "      <th>1</th>\n",
       "      <td>2021-06-30 07:00:00</td>\n",
       "      <td>2022-01-12</td>\n",
       "      <td>495</td>\n",
       "      <td>2022-01</td>\n",
       "    </tr>\n",
       "    <tr>\n",
       "      <th>2</th>\n",
       "      <td>2021-07-30 13:00:00</td>\n",
       "      <td>2021-09-14</td>\n",
       "      <td>312</td>\n",
       "      <td>2021-09</td>\n",
       "    </tr>\n",
       "    <tr>\n",
       "      <th>3</th>\n",
       "      <td>2021-08-31 13:00:00</td>\n",
       "      <td>2022-02-05</td>\n",
       "      <td>416</td>\n",
       "      <td>2022-02</td>\n",
       "    </tr>\n",
       "    <tr>\n",
       "      <th>4</th>\n",
       "      <td>2021-09-28 07:00:00</td>\n",
       "      <td>2021-12-30</td>\n",
       "      <td>349</td>\n",
       "      <td>2021-12</td>\n",
       "    </tr>\n",
       "  </tbody>\n",
       "</table>\n",
       "</div>"
      ],
      "text/plain": [
       "        purchase_date  sold_date  qty sold_month\n",
       "0 2021-05-31 00:00:00 2021-07-15  316    2021-07\n",
       "1 2021-06-30 07:00:00 2022-01-12  495    2022-01\n",
       "2 2021-07-30 13:00:00 2021-09-14  312    2021-09\n",
       "3 2021-08-31 13:00:00 2022-02-05  416    2022-02\n",
       "4 2021-09-28 07:00:00 2021-12-30  349    2021-12"
      ]
     },
     "execution_count": 24,
     "metadata": {},
     "output_type": "execute_result"
    }
   ],
   "source": [
    "df.head()"
   ]
  },
  {
   "cell_type": "code",
   "execution_count": 25,
   "id": "5a727795",
   "metadata": {},
   "outputs": [
    {
     "data": {
      "text/plain": [
       "0     True\n",
       "1     True\n",
       "2    False\n",
       "3     True\n",
       "4    False\n",
       "Name: purchase_date, dtype: bool"
      ]
     },
     "execution_count": 25,
     "metadata": {},
     "output_type": "execute_result"
    }
   ],
   "source": [
    "df[\"purchase_date\"].dt.is_month_end"
   ]
  },
  {
   "cell_type": "markdown",
   "id": "b0a5d97f",
   "metadata": {},
   "source": [
    "## 14. Weekend"
   ]
  },
  {
   "cell_type": "code",
   "execution_count": 26,
   "id": "c8e77ca2",
   "metadata": {},
   "outputs": [
    {
     "data": {
      "text/plain": [
       "0     Thursday\n",
       "1    Wednesday\n",
       "2      Tuesday\n",
       "3     Saturday\n",
       "4     Thursday\n",
       "Name: sold_date, dtype: object"
      ]
     },
     "execution_count": 26,
     "metadata": {},
     "output_type": "execute_result"
    }
   ],
   "source": [
    "df[\"sold_date\"].dt.day_name()"
   ]
  },
  {
   "cell_type": "code",
   "execution_count": 27,
   "id": "73a4f998",
   "metadata": {},
   "outputs": [
    {
     "data": {
      "text/plain": [
       "0    False\n",
       "1    False\n",
       "2    False\n",
       "3     True\n",
       "4    False\n",
       "Name: sold_date, dtype: bool"
      ]
     },
     "execution_count": 27,
     "metadata": {},
     "output_type": "execute_result"
    }
   ],
   "source": [
    "df[\"sold_date\"].dt.day_name().isin([\"Saturday\", \"Sunday\"])"
   ]
  },
  {
   "cell_type": "code",
   "execution_count": 28,
   "id": "13bcf6a1",
   "metadata": {},
   "outputs": [
    {
     "data": {
      "text/html": [
       "<div>\n",
       "<style scoped>\n",
       "    .dataframe tbody tr th:only-of-type {\n",
       "        vertical-align: middle;\n",
       "    }\n",
       "\n",
       "    .dataframe tbody tr th {\n",
       "        vertical-align: top;\n",
       "    }\n",
       "\n",
       "    .dataframe thead th {\n",
       "        text-align: right;\n",
       "    }\n",
       "</style>\n",
       "<table border=\"1\" class=\"dataframe\">\n",
       "  <thead>\n",
       "    <tr style=\"text-align: right;\">\n",
       "      <th></th>\n",
       "      <th>purchase_date</th>\n",
       "      <th>sold_date</th>\n",
       "      <th>qty</th>\n",
       "      <th>sold_month</th>\n",
       "    </tr>\n",
       "  </thead>\n",
       "  <tbody>\n",
       "    <tr>\n",
       "      <th>3</th>\n",
       "      <td>2021-08-31 13:00:00</td>\n",
       "      <td>2022-02-05</td>\n",
       "      <td>416</td>\n",
       "      <td>2022-02</td>\n",
       "    </tr>\n",
       "  </tbody>\n",
       "</table>\n",
       "</div>"
      ],
      "text/plain": [
       "        purchase_date  sold_date  qty sold_month\n",
       "3 2021-08-31 13:00:00 2022-02-05  416    2022-02"
      ]
     },
     "execution_count": 28,
     "metadata": {},
     "output_type": "execute_result"
    }
   ],
   "source": [
    "df[df[\"sold_date\"].dt.day_name().isin([\"Saturday\", \"Sunday\"])]"
   ]
  },
  {
   "cell_type": "markdown",
   "id": "958179bc",
   "metadata": {},
   "source": [
    "## 15. Time difference between dates"
   ]
  },
  {
   "cell_type": "code",
   "execution_count": 29,
   "id": "c3490195",
   "metadata": {},
   "outputs": [
    {
     "data": {
      "text/html": [
       "<div>\n",
       "<style scoped>\n",
       "    .dataframe tbody tr th:only-of-type {\n",
       "        vertical-align: middle;\n",
       "    }\n",
       "\n",
       "    .dataframe tbody tr th {\n",
       "        vertical-align: top;\n",
       "    }\n",
       "\n",
       "    .dataframe thead th {\n",
       "        text-align: right;\n",
       "    }\n",
       "</style>\n",
       "<table border=\"1\" class=\"dataframe\">\n",
       "  <thead>\n",
       "    <tr style=\"text-align: right;\">\n",
       "      <th></th>\n",
       "      <th>purchase_date</th>\n",
       "      <th>sold_date</th>\n",
       "      <th>qty</th>\n",
       "      <th>sold_month</th>\n",
       "    </tr>\n",
       "  </thead>\n",
       "  <tbody>\n",
       "    <tr>\n",
       "      <th>0</th>\n",
       "      <td>2021-05-31 00:00:00</td>\n",
       "      <td>2021-07-15</td>\n",
       "      <td>316</td>\n",
       "      <td>2021-07</td>\n",
       "    </tr>\n",
       "    <tr>\n",
       "      <th>1</th>\n",
       "      <td>2021-06-30 07:00:00</td>\n",
       "      <td>2022-01-12</td>\n",
       "      <td>495</td>\n",
       "      <td>2022-01</td>\n",
       "    </tr>\n",
       "    <tr>\n",
       "      <th>2</th>\n",
       "      <td>2021-07-30 13:00:00</td>\n",
       "      <td>2021-09-14</td>\n",
       "      <td>312</td>\n",
       "      <td>2021-09</td>\n",
       "    </tr>\n",
       "    <tr>\n",
       "      <th>3</th>\n",
       "      <td>2021-08-31 13:00:00</td>\n",
       "      <td>2022-02-05</td>\n",
       "      <td>416</td>\n",
       "      <td>2022-02</td>\n",
       "    </tr>\n",
       "    <tr>\n",
       "      <th>4</th>\n",
       "      <td>2021-09-28 07:00:00</td>\n",
       "      <td>2021-12-30</td>\n",
       "      <td>349</td>\n",
       "      <td>2021-12</td>\n",
       "    </tr>\n",
       "  </tbody>\n",
       "</table>\n",
       "</div>"
      ],
      "text/plain": [
       "        purchase_date  sold_date  qty sold_month\n",
       "0 2021-05-31 00:00:00 2021-07-15  316    2021-07\n",
       "1 2021-06-30 07:00:00 2022-01-12  495    2022-01\n",
       "2 2021-07-30 13:00:00 2021-09-14  312    2021-09\n",
       "3 2021-08-31 13:00:00 2022-02-05  416    2022-02\n",
       "4 2021-09-28 07:00:00 2021-12-30  349    2021-12"
      ]
     },
     "execution_count": 29,
     "metadata": {},
     "output_type": "execute_result"
    }
   ],
   "source": [
    "df.head()"
   ]
  },
  {
   "cell_type": "code",
   "execution_count": 30,
   "id": "e891236d",
   "metadata": {},
   "outputs": [
    {
     "data": {
      "text/plain": [
       "0    45 days 00:00:00\n",
       "1   195 days 17:00:00\n",
       "2    45 days 11:00:00\n",
       "3   157 days 11:00:00\n",
       "4    92 days 17:00:00\n",
       "dtype: timedelta64[ns]"
      ]
     },
     "execution_count": 30,
     "metadata": {},
     "output_type": "execute_result"
    }
   ],
   "source": [
    "df[\"sold_date\"] - df[\"purchase_date\"]"
   ]
  },
  {
   "cell_type": "code",
   "execution_count": 31,
   "id": "fc7f7dae",
   "metadata": {},
   "outputs": [
    {
     "data": {
      "text/html": [
       "<div>\n",
       "<style scoped>\n",
       "    .dataframe tbody tr th:only-of-type {\n",
       "        vertical-align: middle;\n",
       "    }\n",
       "\n",
       "    .dataframe tbody tr th {\n",
       "        vertical-align: top;\n",
       "    }\n",
       "\n",
       "    .dataframe thead th {\n",
       "        text-align: right;\n",
       "    }\n",
       "</style>\n",
       "<table border=\"1\" class=\"dataframe\">\n",
       "  <thead>\n",
       "    <tr style=\"text-align: right;\">\n",
       "      <th></th>\n",
       "      <th>purchase_date</th>\n",
       "      <th>sold_date</th>\n",
       "      <th>qty</th>\n",
       "      <th>sold_month</th>\n",
       "      <th>time_difference</th>\n",
       "    </tr>\n",
       "  </thead>\n",
       "  <tbody>\n",
       "    <tr>\n",
       "      <th>0</th>\n",
       "      <td>2021-05-31 00:00:00</td>\n",
       "      <td>2021-07-15</td>\n",
       "      <td>316</td>\n",
       "      <td>2021-07</td>\n",
       "      <td>45 days 00:00:00</td>\n",
       "    </tr>\n",
       "    <tr>\n",
       "      <th>1</th>\n",
       "      <td>2021-06-30 07:00:00</td>\n",
       "      <td>2022-01-12</td>\n",
       "      <td>495</td>\n",
       "      <td>2022-01</td>\n",
       "      <td>195 days 17:00:00</td>\n",
       "    </tr>\n",
       "    <tr>\n",
       "      <th>2</th>\n",
       "      <td>2021-07-30 13:00:00</td>\n",
       "      <td>2021-09-14</td>\n",
       "      <td>312</td>\n",
       "      <td>2021-09</td>\n",
       "      <td>45 days 11:00:00</td>\n",
       "    </tr>\n",
       "    <tr>\n",
       "      <th>3</th>\n",
       "      <td>2021-08-31 13:00:00</td>\n",
       "      <td>2022-02-05</td>\n",
       "      <td>416</td>\n",
       "      <td>2022-02</td>\n",
       "      <td>157 days 11:00:00</td>\n",
       "    </tr>\n",
       "    <tr>\n",
       "      <th>4</th>\n",
       "      <td>2021-09-28 07:00:00</td>\n",
       "      <td>2021-12-30</td>\n",
       "      <td>349</td>\n",
       "      <td>2021-12</td>\n",
       "      <td>92 days 17:00:00</td>\n",
       "    </tr>\n",
       "  </tbody>\n",
       "</table>\n",
       "</div>"
      ],
      "text/plain": [
       "        purchase_date  sold_date  qty sold_month   time_difference\n",
       "0 2021-05-31 00:00:00 2021-07-15  316    2021-07  45 days 00:00:00\n",
       "1 2021-06-30 07:00:00 2022-01-12  495    2022-01 195 days 17:00:00\n",
       "2 2021-07-30 13:00:00 2021-09-14  312    2021-09  45 days 11:00:00\n",
       "3 2021-08-31 13:00:00 2022-02-05  416    2022-02 157 days 11:00:00\n",
       "4 2021-09-28 07:00:00 2021-12-30  349    2021-12  92 days 17:00:00"
      ]
     },
     "execution_count": 31,
     "metadata": {},
     "output_type": "execute_result"
    }
   ],
   "source": [
    "df[\"time_difference\"] = df[\"sold_date\"] - df[\"purchase_date\"]\n",
    "\n",
    "df.head()"
   ]
  },
  {
   "cell_type": "code",
   "execution_count": 32,
   "id": "fcebc044",
   "metadata": {},
   "outputs": [
    {
     "data": {
      "text/plain": [
       "purchase_date       datetime64[ns]\n",
       "sold_date           datetime64[ns]\n",
       "qty                          int64\n",
       "sold_month               period[M]\n",
       "time_difference    timedelta64[ns]\n",
       "dtype: object"
      ]
     },
     "execution_count": 32,
     "metadata": {},
     "output_type": "execute_result"
    }
   ],
   "source": [
    "df.dtypes"
   ]
  },
  {
   "cell_type": "markdown",
   "id": "9195c7c4",
   "metadata": {},
   "source": [
    "## 16. Time difference in days"
   ]
  },
  {
   "cell_type": "code",
   "execution_count": 33,
   "id": "c92bb44c",
   "metadata": {},
   "outputs": [
    {
     "data": {
      "text/plain": [
       "0     45\n",
       "1    195\n",
       "2     45\n",
       "3    157\n",
       "4     92\n",
       "Name: time_difference, dtype: int64"
      ]
     },
     "execution_count": 33,
     "metadata": {},
     "output_type": "execute_result"
    }
   ],
   "source": [
    "df[\"time_difference\"].dt.days"
   ]
  },
  {
   "cell_type": "markdown",
   "id": "70fec81e",
   "metadata": {},
   "source": [
    "## 17. Time difference with Timedelta - 1"
   ]
  },
  {
   "cell_type": "code",
   "execution_count": 34,
   "id": "b38703e8",
   "metadata": {},
   "outputs": [
    {
     "data": {
      "text/html": [
       "<div>\n",
       "<style scoped>\n",
       "    .dataframe tbody tr th:only-of-type {\n",
       "        vertical-align: middle;\n",
       "    }\n",
       "\n",
       "    .dataframe tbody tr th {\n",
       "        vertical-align: top;\n",
       "    }\n",
       "\n",
       "    .dataframe thead th {\n",
       "        text-align: right;\n",
       "    }\n",
       "</style>\n",
       "<table border=\"1\" class=\"dataframe\">\n",
       "  <thead>\n",
       "    <tr style=\"text-align: right;\">\n",
       "      <th></th>\n",
       "      <th>purchase_date</th>\n",
       "      <th>sold_date</th>\n",
       "      <th>qty</th>\n",
       "      <th>sold_month</th>\n",
       "      <th>time_difference</th>\n",
       "    </tr>\n",
       "  </thead>\n",
       "  <tbody>\n",
       "    <tr>\n",
       "      <th>0</th>\n",
       "      <td>2021-05-31 00:00:00</td>\n",
       "      <td>2021-07-15</td>\n",
       "      <td>316</td>\n",
       "      <td>2021-07</td>\n",
       "      <td>45 days 00:00:00</td>\n",
       "    </tr>\n",
       "    <tr>\n",
       "      <th>1</th>\n",
       "      <td>2021-06-30 07:00:00</td>\n",
       "      <td>2022-01-12</td>\n",
       "      <td>495</td>\n",
       "      <td>2022-01</td>\n",
       "      <td>195 days 17:00:00</td>\n",
       "    </tr>\n",
       "    <tr>\n",
       "      <th>2</th>\n",
       "      <td>2021-07-30 13:00:00</td>\n",
       "      <td>2021-09-14</td>\n",
       "      <td>312</td>\n",
       "      <td>2021-09</td>\n",
       "      <td>45 days 11:00:00</td>\n",
       "    </tr>\n",
       "    <tr>\n",
       "      <th>3</th>\n",
       "      <td>2021-08-31 13:00:00</td>\n",
       "      <td>2022-02-05</td>\n",
       "      <td>416</td>\n",
       "      <td>2022-02</td>\n",
       "      <td>157 days 11:00:00</td>\n",
       "    </tr>\n",
       "    <tr>\n",
       "      <th>4</th>\n",
       "      <td>2021-09-28 07:00:00</td>\n",
       "      <td>2021-12-30</td>\n",
       "      <td>349</td>\n",
       "      <td>2021-12</td>\n",
       "      <td>92 days 17:00:00</td>\n",
       "    </tr>\n",
       "  </tbody>\n",
       "</table>\n",
       "</div>"
      ],
      "text/plain": [
       "        purchase_date  sold_date  qty sold_month   time_difference\n",
       "0 2021-05-31 00:00:00 2021-07-15  316    2021-07  45 days 00:00:00\n",
       "1 2021-06-30 07:00:00 2022-01-12  495    2022-01 195 days 17:00:00\n",
       "2 2021-07-30 13:00:00 2021-09-14  312    2021-09  45 days 11:00:00\n",
       "3 2021-08-31 13:00:00 2022-02-05  416    2022-02 157 days 11:00:00\n",
       "4 2021-09-28 07:00:00 2021-12-30  349    2021-12  92 days 17:00:00"
      ]
     },
     "execution_count": 34,
     "metadata": {},
     "output_type": "execute_result"
    }
   ],
   "source": [
    "df.head()"
   ]
  },
  {
   "cell_type": "code",
   "execution_count": 35,
   "id": "31bd6467",
   "metadata": {
    "scrolled": true
   },
   "outputs": [
    {
     "data": {
      "text/plain": [
       "0     45.000000\n",
       "1    195.708333\n",
       "2     45.458333\n",
       "3    157.458333\n",
       "4     92.708333\n",
       "Name: time_difference, dtype: float64"
      ]
     },
     "execution_count": 35,
     "metadata": {},
     "output_type": "execute_result"
    }
   ],
   "source": [
    "df[\"time_difference\"] / pd.Timedelta(days=1)"
   ]
  },
  {
   "cell_type": "markdown",
   "id": "e7705cfa",
   "metadata": {},
   "source": [
    "## 18. Time difference with Timedelta - 2"
   ]
  },
  {
   "cell_type": "code",
   "execution_count": 36,
   "id": "b502fae0",
   "metadata": {},
   "outputs": [
    {
     "data": {
      "text/plain": [
       "0    1080.0\n",
       "1    4697.0\n",
       "2    1091.0\n",
       "3    3779.0\n",
       "4    2225.0\n",
       "Name: time_difference, dtype: float64"
      ]
     },
     "execution_count": 36,
     "metadata": {},
     "output_type": "execute_result"
    }
   ],
   "source": [
    "df[\"time_difference\"] / pd.Timedelta(hours=1)"
   ]
  },
  {
   "cell_type": "markdown",
   "id": "86b2659b",
   "metadata": {},
   "source": [
    "## 19. Time difference with NumPy timedelta - 1\n",
    "\n",
    "* Pandas Timedelta does not support Month and Year"
   ]
  },
  {
   "cell_type": "code",
   "execution_count": 37,
   "id": "e4b0d60a",
   "metadata": {},
   "outputs": [
    {
     "data": {
      "text/html": [
       "<div>\n",
       "<style scoped>\n",
       "    .dataframe tbody tr th:only-of-type {\n",
       "        vertical-align: middle;\n",
       "    }\n",
       "\n",
       "    .dataframe tbody tr th {\n",
       "        vertical-align: top;\n",
       "    }\n",
       "\n",
       "    .dataframe thead th {\n",
       "        text-align: right;\n",
       "    }\n",
       "</style>\n",
       "<table border=\"1\" class=\"dataframe\">\n",
       "  <thead>\n",
       "    <tr style=\"text-align: right;\">\n",
       "      <th></th>\n",
       "      <th>purchase_date</th>\n",
       "      <th>sold_date</th>\n",
       "      <th>qty</th>\n",
       "      <th>sold_month</th>\n",
       "      <th>time_difference</th>\n",
       "    </tr>\n",
       "  </thead>\n",
       "  <tbody>\n",
       "    <tr>\n",
       "      <th>0</th>\n",
       "      <td>2021-05-31 00:00:00</td>\n",
       "      <td>2021-07-15</td>\n",
       "      <td>316</td>\n",
       "      <td>2021-07</td>\n",
       "      <td>45 days 00:00:00</td>\n",
       "    </tr>\n",
       "    <tr>\n",
       "      <th>1</th>\n",
       "      <td>2021-06-30 07:00:00</td>\n",
       "      <td>2022-01-12</td>\n",
       "      <td>495</td>\n",
       "      <td>2022-01</td>\n",
       "      <td>195 days 17:00:00</td>\n",
       "    </tr>\n",
       "    <tr>\n",
       "      <th>2</th>\n",
       "      <td>2021-07-30 13:00:00</td>\n",
       "      <td>2021-09-14</td>\n",
       "      <td>312</td>\n",
       "      <td>2021-09</td>\n",
       "      <td>45 days 11:00:00</td>\n",
       "    </tr>\n",
       "    <tr>\n",
       "      <th>3</th>\n",
       "      <td>2021-08-31 13:00:00</td>\n",
       "      <td>2022-02-05</td>\n",
       "      <td>416</td>\n",
       "      <td>2022-02</td>\n",
       "      <td>157 days 11:00:00</td>\n",
       "    </tr>\n",
       "    <tr>\n",
       "      <th>4</th>\n",
       "      <td>2021-09-28 07:00:00</td>\n",
       "      <td>2021-12-30</td>\n",
       "      <td>349</td>\n",
       "      <td>2021-12</td>\n",
       "      <td>92 days 17:00:00</td>\n",
       "    </tr>\n",
       "  </tbody>\n",
       "</table>\n",
       "</div>"
      ],
      "text/plain": [
       "        purchase_date  sold_date  qty sold_month   time_difference\n",
       "0 2021-05-31 00:00:00 2021-07-15  316    2021-07  45 days 00:00:00\n",
       "1 2021-06-30 07:00:00 2022-01-12  495    2022-01 195 days 17:00:00\n",
       "2 2021-07-30 13:00:00 2021-09-14  312    2021-09  45 days 11:00:00\n",
       "3 2021-08-31 13:00:00 2022-02-05  416    2022-02 157 days 11:00:00\n",
       "4 2021-09-28 07:00:00 2021-12-30  349    2021-12  92 days 17:00:00"
      ]
     },
     "execution_count": 37,
     "metadata": {},
     "output_type": "execute_result"
    }
   ],
   "source": [
    "df.head()"
   ]
  },
  {
   "cell_type": "code",
   "execution_count": 38,
   "id": "847d448c",
   "metadata": {
    "scrolled": true
   },
   "outputs": [
    {
     "data": {
      "text/plain": [
       "0    1.451613\n",
       "1    6.313172\n",
       "2    1.466398\n",
       "3    5.079301\n",
       "4    2.990591\n",
       "Name: time_difference, dtype: float64"
      ]
     },
     "execution_count": 38,
     "metadata": {},
     "output_type": "execute_result"
    }
   ],
   "source": [
    "import numpy as np\n",
    "\n",
    "df[\"time_difference\"] / np.timedelta64(1, 'M')"
   ]
  },
  {
   "cell_type": "markdown",
   "id": "d3f6fa73",
   "metadata": {},
   "source": [
    "## 20. Time difference with NumPy timedelta - 2"
   ]
  },
  {
   "cell_type": "code",
   "execution_count": 39,
   "id": "1d52af23",
   "metadata": {},
   "outputs": [
    {
     "data": {
      "text/plain": [
       "0    0.123288\n",
       "1    0.536187\n",
       "2    0.124543\n",
       "3    0.431393\n",
       "4    0.253995\n",
       "Name: time_difference, dtype: float64"
      ]
     },
     "execution_count": 39,
     "metadata": {},
     "output_type": "execute_result"
    }
   ],
   "source": [
    "df[\"time_difference\"] / np.timedelta64(1, 'Y')"
   ]
  },
  {
   "cell_type": "code",
   "execution_count": 40,
   "id": "1e111202",
   "metadata": {},
   "outputs": [
    {
     "data": {
      "text/plain": [
       "0     45.000000\n",
       "1    195.708333\n",
       "2     45.458333\n",
       "3    157.458333\n",
       "4     92.708333\n",
       "Name: time_difference, dtype: float64"
      ]
     },
     "execution_count": 40,
     "metadata": {},
     "output_type": "execute_result"
    }
   ],
   "source": [
    "df[\"time_difference\"] / np.timedelta64(1, 'D')"
   ]
  },
  {
   "cell_type": "markdown",
   "id": "5e6a4197",
   "metadata": {},
   "source": [
    "## 21. Add interval with DateOffset - 1"
   ]
  },
  {
   "cell_type": "code",
   "execution_count": 41,
   "id": "ce4f2ba4",
   "metadata": {},
   "outputs": [
    {
     "data": {
      "text/html": [
       "<div>\n",
       "<style scoped>\n",
       "    .dataframe tbody tr th:only-of-type {\n",
       "        vertical-align: middle;\n",
       "    }\n",
       "\n",
       "    .dataframe tbody tr th {\n",
       "        vertical-align: top;\n",
       "    }\n",
       "\n",
       "    .dataframe thead th {\n",
       "        text-align: right;\n",
       "    }\n",
       "</style>\n",
       "<table border=\"1\" class=\"dataframe\">\n",
       "  <thead>\n",
       "    <tr style=\"text-align: right;\">\n",
       "      <th></th>\n",
       "      <th>purchase_date</th>\n",
       "      <th>sold_date</th>\n",
       "      <th>qty</th>\n",
       "      <th>sold_month</th>\n",
       "      <th>time_difference</th>\n",
       "    </tr>\n",
       "  </thead>\n",
       "  <tbody>\n",
       "    <tr>\n",
       "      <th>0</th>\n",
       "      <td>2021-05-31 00:00:00</td>\n",
       "      <td>2021-07-15</td>\n",
       "      <td>316</td>\n",
       "      <td>2021-07</td>\n",
       "      <td>45 days 00:00:00</td>\n",
       "    </tr>\n",
       "    <tr>\n",
       "      <th>1</th>\n",
       "      <td>2021-06-30 07:00:00</td>\n",
       "      <td>2022-01-12</td>\n",
       "      <td>495</td>\n",
       "      <td>2022-01</td>\n",
       "      <td>195 days 17:00:00</td>\n",
       "    </tr>\n",
       "    <tr>\n",
       "      <th>2</th>\n",
       "      <td>2021-07-30 13:00:00</td>\n",
       "      <td>2021-09-14</td>\n",
       "      <td>312</td>\n",
       "      <td>2021-09</td>\n",
       "      <td>45 days 11:00:00</td>\n",
       "    </tr>\n",
       "    <tr>\n",
       "      <th>3</th>\n",
       "      <td>2021-08-31 13:00:00</td>\n",
       "      <td>2022-02-05</td>\n",
       "      <td>416</td>\n",
       "      <td>2022-02</td>\n",
       "      <td>157 days 11:00:00</td>\n",
       "    </tr>\n",
       "    <tr>\n",
       "      <th>4</th>\n",
       "      <td>2021-09-28 07:00:00</td>\n",
       "      <td>2021-12-30</td>\n",
       "      <td>349</td>\n",
       "      <td>2021-12</td>\n",
       "      <td>92 days 17:00:00</td>\n",
       "    </tr>\n",
       "  </tbody>\n",
       "</table>\n",
       "</div>"
      ],
      "text/plain": [
       "        purchase_date  sold_date  qty sold_month   time_difference\n",
       "0 2021-05-31 00:00:00 2021-07-15  316    2021-07  45 days 00:00:00\n",
       "1 2021-06-30 07:00:00 2022-01-12  495    2022-01 195 days 17:00:00\n",
       "2 2021-07-30 13:00:00 2021-09-14  312    2021-09  45 days 11:00:00\n",
       "3 2021-08-31 13:00:00 2022-02-05  416    2022-02 157 days 11:00:00\n",
       "4 2021-09-28 07:00:00 2021-12-30  349    2021-12  92 days 17:00:00"
      ]
     },
     "execution_count": 41,
     "metadata": {},
     "output_type": "execute_result"
    }
   ],
   "source": [
    "df.head()"
   ]
  },
  {
   "cell_type": "code",
   "execution_count": 42,
   "id": "bde23741",
   "metadata": {},
   "outputs": [
    {
     "data": {
      "text/plain": [
       "0   2021-07-17\n",
       "1   2022-01-14\n",
       "2   2021-09-16\n",
       "3   2022-02-07\n",
       "4   2022-01-01\n",
       "Name: sold_date, dtype: datetime64[ns]"
      ]
     },
     "execution_count": 42,
     "metadata": {},
     "output_type": "execute_result"
    }
   ],
   "source": [
    "df[\"sold_date\"] + pd.DateOffset(days=2)"
   ]
  },
  {
   "cell_type": "markdown",
   "id": "2bec3f85",
   "metadata": {},
   "source": [
    "## 22. Add interval with DateOffset - 2"
   ]
  },
  {
   "cell_type": "code",
   "execution_count": 43,
   "id": "ccc8b60f",
   "metadata": {},
   "outputs": [
    {
     "data": {
      "text/plain": [
       "0   2021-07-15 04:00:00\n",
       "1   2022-01-12 04:00:00\n",
       "2   2021-09-14 04:00:00\n",
       "3   2022-02-05 04:00:00\n",
       "4   2021-12-30 04:00:00\n",
       "Name: sold_date, dtype: datetime64[ns]"
      ]
     },
     "execution_count": 43,
     "metadata": {},
     "output_type": "execute_result"
    }
   ],
   "source": [
    "df[\"sold_date\"] + pd.DateOffset(hours=4)"
   ]
  },
  {
   "cell_type": "code",
   "execution_count": 44,
   "id": "5bd05943",
   "metadata": {},
   "outputs": [
    {
     "data": {
      "text/html": [
       "<div>\n",
       "<style scoped>\n",
       "    .dataframe tbody tr th:only-of-type {\n",
       "        vertical-align: middle;\n",
       "    }\n",
       "\n",
       "    .dataframe tbody tr th {\n",
       "        vertical-align: top;\n",
       "    }\n",
       "\n",
       "    .dataframe thead th {\n",
       "        text-align: right;\n",
       "    }\n",
       "</style>\n",
       "<table border=\"1\" class=\"dataframe\">\n",
       "  <thead>\n",
       "    <tr style=\"text-align: right;\">\n",
       "      <th></th>\n",
       "      <th>purchase_date</th>\n",
       "      <th>sold_date</th>\n",
       "      <th>qty</th>\n",
       "      <th>sold_month</th>\n",
       "      <th>time_difference</th>\n",
       "    </tr>\n",
       "  </thead>\n",
       "  <tbody>\n",
       "    <tr>\n",
       "      <th>0</th>\n",
       "      <td>2021-05-31 00:00:00</td>\n",
       "      <td>2021-07-15 04:00:00</td>\n",
       "      <td>316</td>\n",
       "      <td>2021-07</td>\n",
       "      <td>45 days 00:00:00</td>\n",
       "    </tr>\n",
       "    <tr>\n",
       "      <th>1</th>\n",
       "      <td>2021-06-30 07:00:00</td>\n",
       "      <td>2022-01-12 04:00:00</td>\n",
       "      <td>495</td>\n",
       "      <td>2022-01</td>\n",
       "      <td>195 days 17:00:00</td>\n",
       "    </tr>\n",
       "    <tr>\n",
       "      <th>2</th>\n",
       "      <td>2021-07-30 13:00:00</td>\n",
       "      <td>2021-09-14 04:00:00</td>\n",
       "      <td>312</td>\n",
       "      <td>2021-09</td>\n",
       "      <td>45 days 11:00:00</td>\n",
       "    </tr>\n",
       "    <tr>\n",
       "      <th>3</th>\n",
       "      <td>2021-08-31 13:00:00</td>\n",
       "      <td>2022-02-05 04:00:00</td>\n",
       "      <td>416</td>\n",
       "      <td>2022-02</td>\n",
       "      <td>157 days 11:00:00</td>\n",
       "    </tr>\n",
       "    <tr>\n",
       "      <th>4</th>\n",
       "      <td>2021-09-28 07:00:00</td>\n",
       "      <td>2021-12-30 04:00:00</td>\n",
       "      <td>349</td>\n",
       "      <td>2021-12</td>\n",
       "      <td>92 days 17:00:00</td>\n",
       "    </tr>\n",
       "  </tbody>\n",
       "</table>\n",
       "</div>"
      ],
      "text/plain": [
       "        purchase_date           sold_date  qty sold_month   time_difference\n",
       "0 2021-05-31 00:00:00 2021-07-15 04:00:00  316    2021-07  45 days 00:00:00\n",
       "1 2021-06-30 07:00:00 2022-01-12 04:00:00  495    2022-01 195 days 17:00:00\n",
       "2 2021-07-30 13:00:00 2021-09-14 04:00:00  312    2021-09  45 days 11:00:00\n",
       "3 2021-08-31 13:00:00 2022-02-05 04:00:00  416    2022-02 157 days 11:00:00\n",
       "4 2021-09-28 07:00:00 2021-12-30 04:00:00  349    2021-12  92 days 17:00:00"
      ]
     },
     "execution_count": 44,
     "metadata": {},
     "output_type": "execute_result"
    }
   ],
   "source": [
    "df[\"sold_date\"] = df[\"sold_date\"] + pd.DateOffset(hours=4)\n",
    "\n",
    "df.head()"
   ]
  },
  {
   "cell_type": "markdown",
   "id": "f86bba70",
   "metadata": {},
   "source": [
    "## 23. Add interval with DateOffset - 3"
   ]
  },
  {
   "cell_type": "code",
   "execution_count": 45,
   "id": "bc0ff51f",
   "metadata": {},
   "outputs": [
    {
     "data": {
      "text/html": [
       "<div>\n",
       "<style scoped>\n",
       "    .dataframe tbody tr th:only-of-type {\n",
       "        vertical-align: middle;\n",
       "    }\n",
       "\n",
       "    .dataframe tbody tr th {\n",
       "        vertical-align: top;\n",
       "    }\n",
       "\n",
       "    .dataframe thead th {\n",
       "        text-align: right;\n",
       "    }\n",
       "</style>\n",
       "<table border=\"1\" class=\"dataframe\">\n",
       "  <thead>\n",
       "    <tr style=\"text-align: right;\">\n",
       "      <th></th>\n",
       "      <th>purchase_date</th>\n",
       "      <th>sold_date</th>\n",
       "      <th>qty</th>\n",
       "      <th>sold_month</th>\n",
       "      <th>time_difference</th>\n",
       "    </tr>\n",
       "  </thead>\n",
       "  <tbody>\n",
       "    <tr>\n",
       "      <th>0</th>\n",
       "      <td>2021-05-31 00:30:00</td>\n",
       "      <td>2021-07-15 04:00:00</td>\n",
       "      <td>316</td>\n",
       "      <td>2021-07</td>\n",
       "      <td>45 days 00:00:00</td>\n",
       "    </tr>\n",
       "    <tr>\n",
       "      <th>1</th>\n",
       "      <td>2021-06-30 07:30:00</td>\n",
       "      <td>2022-01-12 04:00:00</td>\n",
       "      <td>495</td>\n",
       "      <td>2022-01</td>\n",
       "      <td>195 days 17:00:00</td>\n",
       "    </tr>\n",
       "    <tr>\n",
       "      <th>2</th>\n",
       "      <td>2021-07-30 13:30:00</td>\n",
       "      <td>2021-09-14 04:00:00</td>\n",
       "      <td>312</td>\n",
       "      <td>2021-09</td>\n",
       "      <td>45 days 11:00:00</td>\n",
       "    </tr>\n",
       "    <tr>\n",
       "      <th>3</th>\n",
       "      <td>2021-08-31 13:30:00</td>\n",
       "      <td>2022-02-05 04:00:00</td>\n",
       "      <td>416</td>\n",
       "      <td>2022-02</td>\n",
       "      <td>157 days 11:00:00</td>\n",
       "    </tr>\n",
       "    <tr>\n",
       "      <th>4</th>\n",
       "      <td>2021-09-28 07:30:00</td>\n",
       "      <td>2021-12-30 04:00:00</td>\n",
       "      <td>349</td>\n",
       "      <td>2021-12</td>\n",
       "      <td>92 days 17:00:00</td>\n",
       "    </tr>\n",
       "  </tbody>\n",
       "</table>\n",
       "</div>"
      ],
      "text/plain": [
       "        purchase_date           sold_date  qty sold_month   time_difference\n",
       "0 2021-05-31 00:30:00 2021-07-15 04:00:00  316    2021-07  45 days 00:00:00\n",
       "1 2021-06-30 07:30:00 2022-01-12 04:00:00  495    2022-01 195 days 17:00:00\n",
       "2 2021-07-30 13:30:00 2021-09-14 04:00:00  312    2021-09  45 days 11:00:00\n",
       "3 2021-08-31 13:30:00 2022-02-05 04:00:00  416    2022-02 157 days 11:00:00\n",
       "4 2021-09-28 07:30:00 2021-12-30 04:00:00  349    2021-12  92 days 17:00:00"
      ]
     },
     "execution_count": 45,
     "metadata": {},
     "output_type": "execute_result"
    }
   ],
   "source": [
    "df[\"purchase_date\"] = df[\"purchase_date\"] + pd.DateOffset(minutes=30)\n",
    "\n",
    "df.head()"
   ]
  },
  {
   "cell_type": "code",
   "execution_count": 46,
   "id": "03bc204f",
   "metadata": {},
   "outputs": [
    {
     "data": {
      "text/html": [
       "<div>\n",
       "<style scoped>\n",
       "    .dataframe tbody tr th:only-of-type {\n",
       "        vertical-align: middle;\n",
       "    }\n",
       "\n",
       "    .dataframe tbody tr th {\n",
       "        vertical-align: top;\n",
       "    }\n",
       "\n",
       "    .dataframe thead th {\n",
       "        text-align: right;\n",
       "    }\n",
       "</style>\n",
       "<table border=\"1\" class=\"dataframe\">\n",
       "  <thead>\n",
       "    <tr style=\"text-align: right;\">\n",
       "      <th></th>\n",
       "      <th>purchase_date</th>\n",
       "      <th>sold_date</th>\n",
       "      <th>qty</th>\n",
       "      <th>sold_month</th>\n",
       "      <th>time_difference</th>\n",
       "    </tr>\n",
       "  </thead>\n",
       "  <tbody>\n",
       "    <tr>\n",
       "      <th>0</th>\n",
       "      <td>2021-05-31 00:30:00</td>\n",
       "      <td>2021-07-15 04:00:00</td>\n",
       "      <td>316</td>\n",
       "      <td>2021-07</td>\n",
       "      <td>45 days 03:30:00</td>\n",
       "    </tr>\n",
       "    <tr>\n",
       "      <th>1</th>\n",
       "      <td>2021-06-30 07:30:00</td>\n",
       "      <td>2022-01-12 04:00:00</td>\n",
       "      <td>495</td>\n",
       "      <td>2022-01</td>\n",
       "      <td>195 days 20:30:00</td>\n",
       "    </tr>\n",
       "    <tr>\n",
       "      <th>2</th>\n",
       "      <td>2021-07-30 13:30:00</td>\n",
       "      <td>2021-09-14 04:00:00</td>\n",
       "      <td>312</td>\n",
       "      <td>2021-09</td>\n",
       "      <td>45 days 14:30:00</td>\n",
       "    </tr>\n",
       "    <tr>\n",
       "      <th>3</th>\n",
       "      <td>2021-08-31 13:30:00</td>\n",
       "      <td>2022-02-05 04:00:00</td>\n",
       "      <td>416</td>\n",
       "      <td>2022-02</td>\n",
       "      <td>157 days 14:30:00</td>\n",
       "    </tr>\n",
       "    <tr>\n",
       "      <th>4</th>\n",
       "      <td>2021-09-28 07:30:00</td>\n",
       "      <td>2021-12-30 04:00:00</td>\n",
       "      <td>349</td>\n",
       "      <td>2021-12</td>\n",
       "      <td>92 days 20:30:00</td>\n",
       "    </tr>\n",
       "  </tbody>\n",
       "</table>\n",
       "</div>"
      ],
      "text/plain": [
       "        purchase_date           sold_date  qty sold_month   time_difference\n",
       "0 2021-05-31 00:30:00 2021-07-15 04:00:00  316    2021-07  45 days 03:30:00\n",
       "1 2021-06-30 07:30:00 2022-01-12 04:00:00  495    2022-01 195 days 20:30:00\n",
       "2 2021-07-30 13:30:00 2021-09-14 04:00:00  312    2021-09  45 days 14:30:00\n",
       "3 2021-08-31 13:30:00 2022-02-05 04:00:00  416    2022-02 157 days 14:30:00\n",
       "4 2021-09-28 07:30:00 2021-12-30 04:00:00  349    2021-12  92 days 20:30:00"
      ]
     },
     "execution_count": 46,
     "metadata": {},
     "output_type": "execute_result"
    }
   ],
   "source": [
    "df[\"time_difference\"] = df[\"sold_date\"] - df[\"purchase_date\"]\n",
    "\n",
    "df.head()"
   ]
  },
  {
   "cell_type": "markdown",
   "id": "a954abef",
   "metadata": {},
   "source": [
    "## 24. Subtraction with DateOffset\n",
    "\n",
    "* In order to do subtract instead of adding, we can either do subtraction or use a negative value inside the function."
   ]
  },
  {
   "cell_type": "code",
   "execution_count": 47,
   "id": "a74a7b9c",
   "metadata": {},
   "outputs": [
    {
     "data": {
      "text/plain": [
       "0   2021-05-30 19:30:00\n",
       "1   2021-06-30 02:30:00\n",
       "2   2021-07-30 08:30:00\n",
       "3   2021-08-31 08:30:00\n",
       "4   2021-09-28 02:30:00\n",
       "Name: purchase_date, dtype: datetime64[ns]"
      ]
     },
     "execution_count": 47,
     "metadata": {},
     "output_type": "execute_result"
    }
   ],
   "source": [
    "df[\"purchase_date\"] - pd.DateOffset(hours=5)"
   ]
  },
  {
   "cell_type": "code",
   "execution_count": 48,
   "id": "bebcc507",
   "metadata": {},
   "outputs": [
    {
     "data": {
      "text/plain": [
       "0   2021-05-30 19:30:00\n",
       "1   2021-06-30 02:30:00\n",
       "2   2021-07-30 08:30:00\n",
       "3   2021-08-31 08:30:00\n",
       "4   2021-09-28 02:30:00\n",
       "Name: purchase_date, dtype: datetime64[ns]"
      ]
     },
     "execution_count": 48,
     "metadata": {},
     "output_type": "execute_result"
    }
   ],
   "source": [
    "df[\"purchase_date\"] + pd.DateOffset(hours=-5)"
   ]
  },
  {
   "cell_type": "markdown",
   "id": "b5cde33f",
   "metadata": {},
   "source": [
    "The DateOffset function supports the following units:\n",
    "\n",
    "* years\n",
    "* months\n",
    "* weeks\n",
    "* days\n",
    "* hours\n",
    "* minutes\n",
    "* seconds\n",
    "* microseconds\n",
    "* nanoseconds"
   ]
  },
  {
   "cell_type": "markdown",
   "id": "6db8d52d",
   "metadata": {},
   "source": [
    "## 25. Add interval with Timedelta - 1"
   ]
  },
  {
   "cell_type": "code",
   "execution_count": 49,
   "id": "c16a7ada",
   "metadata": {},
   "outputs": [
    {
     "data": {
      "text/html": [
       "<div>\n",
       "<style scoped>\n",
       "    .dataframe tbody tr th:only-of-type {\n",
       "        vertical-align: middle;\n",
       "    }\n",
       "\n",
       "    .dataframe tbody tr th {\n",
       "        vertical-align: top;\n",
       "    }\n",
       "\n",
       "    .dataframe thead th {\n",
       "        text-align: right;\n",
       "    }\n",
       "</style>\n",
       "<table border=\"1\" class=\"dataframe\">\n",
       "  <thead>\n",
       "    <tr style=\"text-align: right;\">\n",
       "      <th></th>\n",
       "      <th>purchase_date</th>\n",
       "      <th>sold_date</th>\n",
       "      <th>qty</th>\n",
       "      <th>sold_month</th>\n",
       "      <th>time_difference</th>\n",
       "    </tr>\n",
       "  </thead>\n",
       "  <tbody>\n",
       "    <tr>\n",
       "      <th>0</th>\n",
       "      <td>2021-05-31 00:30:00</td>\n",
       "      <td>2021-07-15 04:00:00</td>\n",
       "      <td>316</td>\n",
       "      <td>2021-07</td>\n",
       "      <td>45 days 03:30:00</td>\n",
       "    </tr>\n",
       "    <tr>\n",
       "      <th>1</th>\n",
       "      <td>2021-06-30 07:30:00</td>\n",
       "      <td>2022-01-12 04:00:00</td>\n",
       "      <td>495</td>\n",
       "      <td>2022-01</td>\n",
       "      <td>195 days 20:30:00</td>\n",
       "    </tr>\n",
       "    <tr>\n",
       "      <th>2</th>\n",
       "      <td>2021-07-30 13:30:00</td>\n",
       "      <td>2021-09-14 04:00:00</td>\n",
       "      <td>312</td>\n",
       "      <td>2021-09</td>\n",
       "      <td>45 days 14:30:00</td>\n",
       "    </tr>\n",
       "    <tr>\n",
       "      <th>3</th>\n",
       "      <td>2021-08-31 13:30:00</td>\n",
       "      <td>2022-02-05 04:00:00</td>\n",
       "      <td>416</td>\n",
       "      <td>2022-02</td>\n",
       "      <td>157 days 14:30:00</td>\n",
       "    </tr>\n",
       "    <tr>\n",
       "      <th>4</th>\n",
       "      <td>2021-09-28 07:30:00</td>\n",
       "      <td>2021-12-30 04:00:00</td>\n",
       "      <td>349</td>\n",
       "      <td>2021-12</td>\n",
       "      <td>92 days 20:30:00</td>\n",
       "    </tr>\n",
       "  </tbody>\n",
       "</table>\n",
       "</div>"
      ],
      "text/plain": [
       "        purchase_date           sold_date  qty sold_month   time_difference\n",
       "0 2021-05-31 00:30:00 2021-07-15 04:00:00  316    2021-07  45 days 03:30:00\n",
       "1 2021-06-30 07:30:00 2022-01-12 04:00:00  495    2022-01 195 days 20:30:00\n",
       "2 2021-07-30 13:30:00 2021-09-14 04:00:00  312    2021-09  45 days 14:30:00\n",
       "3 2021-08-31 13:30:00 2022-02-05 04:00:00  416    2022-02 157 days 14:30:00\n",
       "4 2021-09-28 07:30:00 2021-12-30 04:00:00  349    2021-12  92 days 20:30:00"
      ]
     },
     "execution_count": 49,
     "metadata": {},
     "output_type": "execute_result"
    }
   ],
   "source": [
    "df.head()"
   ]
  },
  {
   "cell_type": "code",
   "execution_count": 50,
   "id": "d425f0a0",
   "metadata": {},
   "outputs": [
    {
     "data": {
      "text/plain": [
       "0   2021-07-25 04:00:00\n",
       "1   2022-01-22 04:00:00\n",
       "2   2021-09-24 04:00:00\n",
       "3   2022-02-15 04:00:00\n",
       "4   2022-01-09 04:00:00\n",
       "Name: sold_date, dtype: datetime64[ns]"
      ]
     },
     "execution_count": 50,
     "metadata": {},
     "output_type": "execute_result"
    }
   ],
   "source": [
    "df[\"sold_date\"] + pd.Timedelta(value=10, unit=\"D\")"
   ]
  },
  {
   "cell_type": "markdown",
   "id": "bc0f3ff9",
   "metadata": {},
   "source": [
    "## 26. Add interval with Timedelta - 2"
   ]
  },
  {
   "cell_type": "code",
   "execution_count": 51,
   "id": "be760ab3",
   "metadata": {},
   "outputs": [
    {
     "data": {
      "text/plain": [
       "0   2021-05-31 05:30:00\n",
       "1   2021-06-30 12:30:00\n",
       "2   2021-07-30 18:30:00\n",
       "3   2021-08-31 18:30:00\n",
       "4   2021-09-28 12:30:00\n",
       "Name: purchase_date, dtype: datetime64[ns]"
      ]
     },
     "execution_count": 51,
     "metadata": {},
     "output_type": "execute_result"
    }
   ],
   "source": [
    "df[\"purchase_date\"] + pd.Timedelta(value=5, unit=\"H\")"
   ]
  },
  {
   "cell_type": "markdown",
   "id": "76c3b93d",
   "metadata": {},
   "source": [
    "The TimeDelta function supports the following units:\n",
    "* W and w represent a week\n",
    "* D and d represent a day\n",
    "* H and h represent an hour\n",
    "* T and t represent a minute\n",
    "* S and s represent a second\n",
    "* L and l represent a millisecond\n",
    "* U and u represent a microsecond\n",
    "* N and n represent a nanosecond"
   ]
  },
  {
   "cell_type": "markdown",
   "id": "12edd6c5",
   "metadata": {},
   "source": [
    "## 27. The to_datetime function - 1\n",
    "\n",
    "* The to_datetime function can be used for converting a scalar, Pandas Series, or Pandas DataFrame to a datetime object."
   ]
  },
  {
   "cell_type": "code",
   "execution_count": 52,
   "id": "8f3ebc09",
   "metadata": {},
   "outputs": [
    {
     "data": {
      "text/html": [
       "<div>\n",
       "<style scoped>\n",
       "    .dataframe tbody tr th:only-of-type {\n",
       "        vertical-align: middle;\n",
       "    }\n",
       "\n",
       "    .dataframe tbody tr th {\n",
       "        vertical-align: top;\n",
       "    }\n",
       "\n",
       "    .dataframe thead th {\n",
       "        text-align: right;\n",
       "    }\n",
       "</style>\n",
       "<table border=\"1\" class=\"dataframe\">\n",
       "  <thead>\n",
       "    <tr style=\"text-align: right;\">\n",
       "      <th></th>\n",
       "      <th>year</th>\n",
       "      <th>month</th>\n",
       "      <th>day</th>\n",
       "    </tr>\n",
       "  </thead>\n",
       "  <tbody>\n",
       "    <tr>\n",
       "      <th>0</th>\n",
       "      <td>2021</td>\n",
       "      <td>12</td>\n",
       "      <td>28</td>\n",
       "    </tr>\n",
       "    <tr>\n",
       "      <th>1</th>\n",
       "      <td>2022</td>\n",
       "      <td>4</td>\n",
       "      <td>19</td>\n",
       "    </tr>\n",
       "  </tbody>\n",
       "</table>\n",
       "</div>"
      ],
      "text/plain": [
       "   year  month  day\n",
       "0  2021     12   28\n",
       "1  2022      4   19"
      ]
     },
     "execution_count": 52,
     "metadata": {},
     "output_type": "execute_result"
    }
   ],
   "source": [
    "sample_df = pd.DataFrame({\n",
    "    \"year\": [2021, 2022],\n",
    "    \"month\": [12, 4],\n",
    "    \"day\": [28, 19]\n",
    "})\n",
    "\n",
    "sample_df"
   ]
  },
  {
   "cell_type": "code",
   "execution_count": 53,
   "id": "a591ee22",
   "metadata": {},
   "outputs": [
    {
     "data": {
      "text/html": [
       "<div>\n",
       "<style scoped>\n",
       "    .dataframe tbody tr th:only-of-type {\n",
       "        vertical-align: middle;\n",
       "    }\n",
       "\n",
       "    .dataframe tbody tr th {\n",
       "        vertical-align: top;\n",
       "    }\n",
       "\n",
       "    .dataframe thead th {\n",
       "        text-align: right;\n",
       "    }\n",
       "</style>\n",
       "<table border=\"1\" class=\"dataframe\">\n",
       "  <thead>\n",
       "    <tr style=\"text-align: right;\">\n",
       "      <th></th>\n",
       "      <th>year</th>\n",
       "      <th>month</th>\n",
       "      <th>day</th>\n",
       "      <th>date</th>\n",
       "    </tr>\n",
       "  </thead>\n",
       "  <tbody>\n",
       "    <tr>\n",
       "      <th>0</th>\n",
       "      <td>2021</td>\n",
       "      <td>12</td>\n",
       "      <td>28</td>\n",
       "      <td>2021-12-28</td>\n",
       "    </tr>\n",
       "    <tr>\n",
       "      <th>1</th>\n",
       "      <td>2022</td>\n",
       "      <td>4</td>\n",
       "      <td>19</td>\n",
       "      <td>2022-04-19</td>\n",
       "    </tr>\n",
       "  </tbody>\n",
       "</table>\n",
       "</div>"
      ],
      "text/plain": [
       "   year  month  day       date\n",
       "0  2021     12   28 2021-12-28\n",
       "1  2022      4   19 2022-04-19"
      ]
     },
     "execution_count": 53,
     "metadata": {},
     "output_type": "execute_result"
    }
   ],
   "source": [
    "sample_df[\"date\"] = pd.to_datetime(sample_df)\n",
    "\n",
    "sample_df"
   ]
  },
  {
   "cell_type": "code",
   "execution_count": 54,
   "id": "ce53fee2",
   "metadata": {
    "scrolled": true
   },
   "outputs": [
    {
     "data": {
      "text/plain": [
       "year              int64\n",
       "month             int64\n",
       "day               int64\n",
       "date     datetime64[ns]\n",
       "dtype: object"
      ]
     },
     "execution_count": 54,
     "metadata": {},
     "output_type": "execute_result"
    }
   ],
   "source": [
    "sample_df.dtypes"
   ]
  },
  {
   "cell_type": "markdown",
   "id": "2045ac87",
   "metadata": {},
   "source": [
    "## 28. The to_datetime function - 2"
   ]
  },
  {
   "cell_type": "code",
   "execution_count": 55,
   "id": "fc44694a",
   "metadata": {},
   "outputs": [
    {
     "data": {
      "text/plain": [
       "Timestamp('2022-11-28 00:00:00')"
      ]
     },
     "execution_count": 55,
     "metadata": {},
     "output_type": "execute_result"
    }
   ],
   "source": [
    "pd.to_datetime(\"2022-11-28\")"
   ]
  },
  {
   "cell_type": "code",
   "execution_count": 56,
   "id": "cb7e9d5b",
   "metadata": {},
   "outputs": [
    {
     "data": {
      "text/html": [
       "<div>\n",
       "<style scoped>\n",
       "    .dataframe tbody tr th:only-of-type {\n",
       "        vertical-align: middle;\n",
       "    }\n",
       "\n",
       "    .dataframe tbody tr th {\n",
       "        vertical-align: top;\n",
       "    }\n",
       "\n",
       "    .dataframe thead th {\n",
       "        text-align: right;\n",
       "    }\n",
       "</style>\n",
       "<table border=\"1\" class=\"dataframe\">\n",
       "  <thead>\n",
       "    <tr style=\"text-align: right;\">\n",
       "      <th></th>\n",
       "      <th>year</th>\n",
       "      <th>month</th>\n",
       "      <th>day</th>\n",
       "      <th>date</th>\n",
       "      <th>new_date</th>\n",
       "    </tr>\n",
       "  </thead>\n",
       "  <tbody>\n",
       "    <tr>\n",
       "      <th>0</th>\n",
       "      <td>2021</td>\n",
       "      <td>12</td>\n",
       "      <td>28</td>\n",
       "      <td>2021-12-28</td>\n",
       "      <td>2022-11-28</td>\n",
       "    </tr>\n",
       "    <tr>\n",
       "      <th>1</th>\n",
       "      <td>2022</td>\n",
       "      <td>4</td>\n",
       "      <td>19</td>\n",
       "      <td>2022-04-19</td>\n",
       "      <td>2022-11-28</td>\n",
       "    </tr>\n",
       "  </tbody>\n",
       "</table>\n",
       "</div>"
      ],
      "text/plain": [
       "   year  month  day       date   new_date\n",
       "0  2021     12   28 2021-12-28 2022-11-28\n",
       "1  2022      4   19 2022-04-19 2022-11-28"
      ]
     },
     "execution_count": 56,
     "metadata": {},
     "output_type": "execute_result"
    }
   ],
   "source": [
    "new_date = pd.to_datetime(\"2022-11-28\")\n",
    "\n",
    "sample_df[\"new_date\"] = new_date\n",
    "\n",
    "sample_df"
   ]
  },
  {
   "cell_type": "code",
   "execution_count": 57,
   "id": "e543d7f6",
   "metadata": {},
   "outputs": [
    {
     "data": {
      "text/plain": [
       "year                 int64\n",
       "month                int64\n",
       "day                  int64\n",
       "date        datetime64[ns]\n",
       "new_date    datetime64[ns]\n",
       "dtype: object"
      ]
     },
     "execution_count": 57,
     "metadata": {},
     "output_type": "execute_result"
    }
   ],
   "source": [
    "sample_df.dtypes"
   ]
  },
  {
   "cell_type": "markdown",
   "id": "75ec62b2",
   "metadata": {},
   "source": [
    "## 29. The date_range function - 1"
   ]
  },
  {
   "cell_type": "code",
   "execution_count": 58,
   "id": "6f4afd43",
   "metadata": {},
   "outputs": [
    {
     "data": {
      "text/plain": [
       "DatetimeIndex(['2021-12-28', '2021-12-29', '2021-12-30', '2021-12-31',\n",
       "               '2022-01-01'],\n",
       "              dtype='datetime64[ns]', freq='D')"
      ]
     },
     "execution_count": 58,
     "metadata": {},
     "output_type": "execute_result"
    }
   ],
   "source": [
    "pd.date_range(start=\"2021-12-28\", periods=5, freq=\"D\")"
   ]
  },
  {
   "cell_type": "code",
   "execution_count": 59,
   "id": "256a452f",
   "metadata": {},
   "outputs": [
    {
     "data": {
      "text/html": [
       "<div>\n",
       "<style scoped>\n",
       "    .dataframe tbody tr th:only-of-type {\n",
       "        vertical-align: middle;\n",
       "    }\n",
       "\n",
       "    .dataframe tbody tr th {\n",
       "        vertical-align: top;\n",
       "    }\n",
       "\n",
       "    .dataframe thead th {\n",
       "        text-align: right;\n",
       "    }\n",
       "</style>\n",
       "<table border=\"1\" class=\"dataframe\">\n",
       "  <thead>\n",
       "    <tr style=\"text-align: right;\">\n",
       "      <th></th>\n",
       "      <th>Date</th>\n",
       "      <th>Measurement</th>\n",
       "    </tr>\n",
       "  </thead>\n",
       "  <tbody>\n",
       "    <tr>\n",
       "      <th>0</th>\n",
       "      <td>2022-11-28</td>\n",
       "      <td>1</td>\n",
       "    </tr>\n",
       "    <tr>\n",
       "      <th>1</th>\n",
       "      <td>2022-11-29</td>\n",
       "      <td>10</td>\n",
       "    </tr>\n",
       "    <tr>\n",
       "      <th>2</th>\n",
       "      <td>2022-11-30</td>\n",
       "      <td>25</td>\n",
       "    </tr>\n",
       "    <tr>\n",
       "      <th>3</th>\n",
       "      <td>2022-12-01</td>\n",
       "      <td>7</td>\n",
       "    </tr>\n",
       "    <tr>\n",
       "      <th>4</th>\n",
       "      <td>2022-12-02</td>\n",
       "      <td>12</td>\n",
       "    </tr>\n",
       "  </tbody>\n",
       "</table>\n",
       "</div>"
      ],
      "text/plain": [
       "        Date  Measurement\n",
       "0 2022-11-28            1\n",
       "1 2022-11-29           10\n",
       "2 2022-11-30           25\n",
       "3 2022-12-01            7\n",
       "4 2022-12-02           12"
      ]
     },
     "execution_count": 59,
     "metadata": {},
     "output_type": "execute_result"
    }
   ],
   "source": [
    "df = pd.DataFrame({\n",
    "    \n",
    "    \"Date\": pd.date_range(start=\"2022-11-28\", periods=5, freq=\"D\"),\n",
    "    \"Measurement\": [1, 10, 25, 7, 12]\n",
    "    \n",
    "})\n",
    "\n",
    "df"
   ]
  },
  {
   "cell_type": "markdown",
   "id": "905a57fb",
   "metadata": {},
   "source": [
    "## 30. The date_range function - 2"
   ]
  },
  {
   "cell_type": "code",
   "execution_count": 60,
   "id": "b9f5d498",
   "metadata": {},
   "outputs": [
    {
     "data": {
      "text/plain": [
       "DatetimeIndex(['2022-11-28', '2022-11-29', '2022-11-30', '2022-12-01',\n",
       "               '2022-12-02', '2022-12-03', '2022-12-04', '2022-12-05',\n",
       "               '2022-12-06', '2022-12-07', '2022-12-08', '2022-12-09',\n",
       "               '2022-12-10'],\n",
       "              dtype='datetime64[ns]', freq='D')"
      ]
     },
     "execution_count": 60,
     "metadata": {},
     "output_type": "execute_result"
    }
   ],
   "source": [
    "pd.date_range(start=\"2022-11-28\", end=\"2022-12-10\", freq=\"D\")"
   ]
  },
  {
   "cell_type": "code",
   "execution_count": 61,
   "id": "85645f9e",
   "metadata": {},
   "outputs": [
    {
     "data": {
      "text/plain": [
       "DatetimeIndex(['2022-11-28', '2022-11-30', '2022-12-02', '2022-12-04',\n",
       "               '2022-12-06', '2022-12-08', '2022-12-10'],\n",
       "              dtype='datetime64[ns]', freq='2D')"
      ]
     },
     "execution_count": 61,
     "metadata": {},
     "output_type": "execute_result"
    }
   ],
   "source": [
    "pd.date_range(start=\"2022-11-28\", end=\"2022-12-10\", freq=\"2D\")"
   ]
  }
 ],
 "metadata": {
  "kernelspec": {
   "display_name": "Python 3 (ipykernel)",
   "language": "python",
   "name": "python3"
  },
  "language_info": {
   "codemirror_mode": {
    "name": "ipython",
    "version": 3
   },
   "file_extension": ".py",
   "mimetype": "text/x-python",
   "name": "python",
   "nbconvert_exporter": "python",
   "pygments_lexer": "ipython3",
   "version": "3.10.8"
  }
 },
 "nbformat": 4,
 "nbformat_minor": 5
}
