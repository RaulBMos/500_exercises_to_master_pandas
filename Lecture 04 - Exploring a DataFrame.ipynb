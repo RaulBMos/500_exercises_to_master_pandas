{
 "cells": [
  {
   "cell_type": "markdown",
   "id": "b4fe044a",
   "metadata": {},
   "source": [
    "## Exploring a DataFrame"
   ]
  },
  {
   "cell_type": "code",
   "execution_count": 1,
   "id": "22053142",
   "metadata": {},
   "outputs": [],
   "source": [
    "import numpy as np\n",
    "import pandas as pd\n",
    "\n",
    "df = pd.read_csv(\"Data/sales_data_with_stores.csv\")"
   ]
  },
  {
   "cell_type": "markdown",
   "id": "c400eb98",
   "metadata": {},
   "source": [
    "## Exercise 1 - display first n rows"
   ]
  },
  {
   "cell_type": "code",
   "execution_count": 2,
   "id": "0ce75ef6",
   "metadata": {},
   "outputs": [
    {
     "data": {
      "text/html": [
       "<div>\n",
       "<style scoped>\n",
       "    .dataframe tbody tr th:only-of-type {\n",
       "        vertical-align: middle;\n",
       "    }\n",
       "\n",
       "    .dataframe tbody tr th {\n",
       "        vertical-align: top;\n",
       "    }\n",
       "\n",
       "    .dataframe thead th {\n",
       "        text-align: right;\n",
       "    }\n",
       "</style>\n",
       "<table border=\"1\" class=\"dataframe\">\n",
       "  <thead>\n",
       "    <tr style=\"text-align: right;\">\n",
       "      <th></th>\n",
       "      <th>store</th>\n",
       "      <th>product_group</th>\n",
       "      <th>product_code</th>\n",
       "      <th>stock_qty</th>\n",
       "      <th>cost</th>\n",
       "      <th>price</th>\n",
       "      <th>last_week_sales</th>\n",
       "      <th>last_month_sales</th>\n",
       "    </tr>\n",
       "  </thead>\n",
       "  <tbody>\n",
       "    <tr>\n",
       "      <th>0</th>\n",
       "      <td>Violet</td>\n",
       "      <td>PG2</td>\n",
       "      <td>4187</td>\n",
       "      <td>498</td>\n",
       "      <td>420.76</td>\n",
       "      <td>569.91</td>\n",
       "      <td>13</td>\n",
       "      <td>58</td>\n",
       "    </tr>\n",
       "    <tr>\n",
       "      <th>1</th>\n",
       "      <td>Rose</td>\n",
       "      <td>PG2</td>\n",
       "      <td>4195</td>\n",
       "      <td>473</td>\n",
       "      <td>545.64</td>\n",
       "      <td>712.41</td>\n",
       "      <td>16</td>\n",
       "      <td>58</td>\n",
       "    </tr>\n",
       "    <tr>\n",
       "      <th>2</th>\n",
       "      <td>Violet</td>\n",
       "      <td>PG2</td>\n",
       "      <td>4204</td>\n",
       "      <td>968</td>\n",
       "      <td>640.42</td>\n",
       "      <td>854.91</td>\n",
       "      <td>22</td>\n",
       "      <td>88</td>\n",
       "    </tr>\n",
       "    <tr>\n",
       "      <th>3</th>\n",
       "      <td>Daisy</td>\n",
       "      <td>PG2</td>\n",
       "      <td>4219</td>\n",
       "      <td>241</td>\n",
       "      <td>869.69</td>\n",
       "      <td>1034.55</td>\n",
       "      <td>14</td>\n",
       "      <td>45</td>\n",
       "    </tr>\n",
       "    <tr>\n",
       "      <th>4</th>\n",
       "      <td>Daisy</td>\n",
       "      <td>PG2</td>\n",
       "      <td>4718</td>\n",
       "      <td>1401</td>\n",
       "      <td>12.54</td>\n",
       "      <td>26.59</td>\n",
       "      <td>50</td>\n",
       "      <td>285</td>\n",
       "    </tr>\n",
       "  </tbody>\n",
       "</table>\n",
       "</div>"
      ],
      "text/plain": [
       "    store product_group  product_code  stock_qty    cost    price  \\\n",
       "0  Violet           PG2          4187        498  420.76   569.91   \n",
       "1    Rose           PG2          4195        473  545.64   712.41   \n",
       "2  Violet           PG2          4204        968  640.42   854.91   \n",
       "3   Daisy           PG2          4219        241  869.69  1034.55   \n",
       "4   Daisy           PG2          4718       1401   12.54    26.59   \n",
       "\n",
       "   last_week_sales  last_month_sales  \n",
       "0               13                58  \n",
       "1               16                58  \n",
       "2               22                88  \n",
       "3               14                45  \n",
       "4               50               285  "
      ]
     },
     "execution_count": 2,
     "metadata": {},
     "output_type": "execute_result"
    }
   ],
   "source": [
    "df.head()"
   ]
  },
  {
   "cell_type": "code",
   "execution_count": 3,
   "id": "733dacac",
   "metadata": {},
   "outputs": [
    {
     "data": {
      "text/html": [
       "<div>\n",
       "<style scoped>\n",
       "    .dataframe tbody tr th:only-of-type {\n",
       "        vertical-align: middle;\n",
       "    }\n",
       "\n",
       "    .dataframe tbody tr th {\n",
       "        vertical-align: top;\n",
       "    }\n",
       "\n",
       "    .dataframe thead th {\n",
       "        text-align: right;\n",
       "    }\n",
       "</style>\n",
       "<table border=\"1\" class=\"dataframe\">\n",
       "  <thead>\n",
       "    <tr style=\"text-align: right;\">\n",
       "      <th></th>\n",
       "      <th>store</th>\n",
       "      <th>product_group</th>\n",
       "      <th>product_code</th>\n",
       "      <th>stock_qty</th>\n",
       "      <th>cost</th>\n",
       "      <th>price</th>\n",
       "      <th>last_week_sales</th>\n",
       "      <th>last_month_sales</th>\n",
       "    </tr>\n",
       "  </thead>\n",
       "  <tbody>\n",
       "    <tr>\n",
       "      <th>0</th>\n",
       "      <td>Violet</td>\n",
       "      <td>PG2</td>\n",
       "      <td>4187</td>\n",
       "      <td>498</td>\n",
       "      <td>420.76</td>\n",
       "      <td>569.91</td>\n",
       "      <td>13</td>\n",
       "      <td>58</td>\n",
       "    </tr>\n",
       "    <tr>\n",
       "      <th>1</th>\n",
       "      <td>Rose</td>\n",
       "      <td>PG2</td>\n",
       "      <td>4195</td>\n",
       "      <td>473</td>\n",
       "      <td>545.64</td>\n",
       "      <td>712.41</td>\n",
       "      <td>16</td>\n",
       "      <td>58</td>\n",
       "    </tr>\n",
       "    <tr>\n",
       "      <th>2</th>\n",
       "      <td>Violet</td>\n",
       "      <td>PG2</td>\n",
       "      <td>4204</td>\n",
       "      <td>968</td>\n",
       "      <td>640.42</td>\n",
       "      <td>854.91</td>\n",
       "      <td>22</td>\n",
       "      <td>88</td>\n",
       "    </tr>\n",
       "  </tbody>\n",
       "</table>\n",
       "</div>"
      ],
      "text/plain": [
       "    store product_group  product_code  stock_qty    cost   price  \\\n",
       "0  Violet           PG2          4187        498  420.76  569.91   \n",
       "1    Rose           PG2          4195        473  545.64  712.41   \n",
       "2  Violet           PG2          4204        968  640.42  854.91   \n",
       "\n",
       "   last_week_sales  last_month_sales  \n",
       "0               13                58  \n",
       "1               16                58  \n",
       "2               22                88  "
      ]
     },
     "execution_count": 3,
     "metadata": {},
     "output_type": "execute_result"
    }
   ],
   "source": [
    "df.head(3)"
   ]
  },
  {
   "cell_type": "markdown",
   "id": "9f1dad7e",
   "metadata": {},
   "source": [
    "## Exercise 2 - display last n rows"
   ]
  },
  {
   "cell_type": "code",
   "execution_count": 4,
   "id": "6558153a",
   "metadata": {},
   "outputs": [
    {
     "data": {
      "text/html": [
       "<div>\n",
       "<style scoped>\n",
       "    .dataframe tbody tr th:only-of-type {\n",
       "        vertical-align: middle;\n",
       "    }\n",
       "\n",
       "    .dataframe tbody tr th {\n",
       "        vertical-align: top;\n",
       "    }\n",
       "\n",
       "    .dataframe thead th {\n",
       "        text-align: right;\n",
       "    }\n",
       "</style>\n",
       "<table border=\"1\" class=\"dataframe\">\n",
       "  <thead>\n",
       "    <tr style=\"text-align: right;\">\n",
       "      <th></th>\n",
       "      <th>store</th>\n",
       "      <th>product_group</th>\n",
       "      <th>product_code</th>\n",
       "      <th>stock_qty</th>\n",
       "      <th>cost</th>\n",
       "      <th>price</th>\n",
       "      <th>last_week_sales</th>\n",
       "      <th>last_month_sales</th>\n",
       "    </tr>\n",
       "  </thead>\n",
       "  <tbody>\n",
       "    <tr>\n",
       "      <th>995</th>\n",
       "      <td>Daisy</td>\n",
       "      <td>PG4</td>\n",
       "      <td>8048</td>\n",
       "      <td>415</td>\n",
       "      <td>11.99</td>\n",
       "      <td>11.39</td>\n",
       "      <td>28</td>\n",
       "      <td>60</td>\n",
       "    </tr>\n",
       "    <tr>\n",
       "      <th>996</th>\n",
       "      <td>Daisy</td>\n",
       "      <td>PG4</td>\n",
       "      <td>8050</td>\n",
       "      <td>-10</td>\n",
       "      <td>1.32</td>\n",
       "      <td>3.32</td>\n",
       "      <td>14</td>\n",
       "      <td>11</td>\n",
       "    </tr>\n",
       "    <tr>\n",
       "      <th>997</th>\n",
       "      <td>Violet</td>\n",
       "      <td>PG2</td>\n",
       "      <td>952</td>\n",
       "      <td>5388</td>\n",
       "      <td>37.71</td>\n",
       "      <td>61.74</td>\n",
       "      <td>331</td>\n",
       "      <td>1041</td>\n",
       "    </tr>\n",
       "    <tr>\n",
       "      <th>998</th>\n",
       "      <td>Violet</td>\n",
       "      <td>PG2</td>\n",
       "      <td>1307</td>\n",
       "      <td>44996</td>\n",
       "      <td>31.44</td>\n",
       "      <td>42.74</td>\n",
       "      <td>1772</td>\n",
       "      <td>6394</td>\n",
       "    </tr>\n",
       "    <tr>\n",
       "      <th>999</th>\n",
       "      <td>Violet</td>\n",
       "      <td>PG5</td>\n",
       "      <td>3018</td>\n",
       "      <td>1697</td>\n",
       "      <td>4.68</td>\n",
       "      <td>18.99</td>\n",
       "      <td>19</td>\n",
       "      <td>52</td>\n",
       "    </tr>\n",
       "  </tbody>\n",
       "</table>\n",
       "</div>"
      ],
      "text/plain": [
       "      store product_group  product_code  stock_qty   cost  price  \\\n",
       "995   Daisy           PG4          8048        415  11.99  11.39   \n",
       "996   Daisy           PG4          8050        -10   1.32   3.32   \n",
       "997  Violet           PG2           952       5388  37.71  61.74   \n",
       "998  Violet           PG2          1307      44996  31.44  42.74   \n",
       "999  Violet           PG5          3018       1697   4.68  18.99   \n",
       "\n",
       "     last_week_sales  last_month_sales  \n",
       "995               28                60  \n",
       "996               14                11  \n",
       "997              331              1041  \n",
       "998             1772              6394  \n",
       "999               19                52  "
      ]
     },
     "execution_count": 4,
     "metadata": {},
     "output_type": "execute_result"
    }
   ],
   "source": [
    "df.tail()"
   ]
  },
  {
   "cell_type": "code",
   "execution_count": 5,
   "id": "d213332e",
   "metadata": {},
   "outputs": [
    {
     "data": {
      "text/html": [
       "<div>\n",
       "<style scoped>\n",
       "    .dataframe tbody tr th:only-of-type {\n",
       "        vertical-align: middle;\n",
       "    }\n",
       "\n",
       "    .dataframe tbody tr th {\n",
       "        vertical-align: top;\n",
       "    }\n",
       "\n",
       "    .dataframe thead th {\n",
       "        text-align: right;\n",
       "    }\n",
       "</style>\n",
       "<table border=\"1\" class=\"dataframe\">\n",
       "  <thead>\n",
       "    <tr style=\"text-align: right;\">\n",
       "      <th></th>\n",
       "      <th>store</th>\n",
       "      <th>product_group</th>\n",
       "      <th>product_code</th>\n",
       "      <th>stock_qty</th>\n",
       "      <th>cost</th>\n",
       "      <th>price</th>\n",
       "      <th>last_week_sales</th>\n",
       "      <th>last_month_sales</th>\n",
       "    </tr>\n",
       "  </thead>\n",
       "  <tbody>\n",
       "    <tr>\n",
       "      <th>996</th>\n",
       "      <td>Daisy</td>\n",
       "      <td>PG4</td>\n",
       "      <td>8050</td>\n",
       "      <td>-10</td>\n",
       "      <td>1.32</td>\n",
       "      <td>3.32</td>\n",
       "      <td>14</td>\n",
       "      <td>11</td>\n",
       "    </tr>\n",
       "    <tr>\n",
       "      <th>997</th>\n",
       "      <td>Violet</td>\n",
       "      <td>PG2</td>\n",
       "      <td>952</td>\n",
       "      <td>5388</td>\n",
       "      <td>37.71</td>\n",
       "      <td>61.74</td>\n",
       "      <td>331</td>\n",
       "      <td>1041</td>\n",
       "    </tr>\n",
       "    <tr>\n",
       "      <th>998</th>\n",
       "      <td>Violet</td>\n",
       "      <td>PG2</td>\n",
       "      <td>1307</td>\n",
       "      <td>44996</td>\n",
       "      <td>31.44</td>\n",
       "      <td>42.74</td>\n",
       "      <td>1772</td>\n",
       "      <td>6394</td>\n",
       "    </tr>\n",
       "    <tr>\n",
       "      <th>999</th>\n",
       "      <td>Violet</td>\n",
       "      <td>PG5</td>\n",
       "      <td>3018</td>\n",
       "      <td>1697</td>\n",
       "      <td>4.68</td>\n",
       "      <td>18.99</td>\n",
       "      <td>19</td>\n",
       "      <td>52</td>\n",
       "    </tr>\n",
       "  </tbody>\n",
       "</table>\n",
       "</div>"
      ],
      "text/plain": [
       "      store product_group  product_code  stock_qty   cost  price  \\\n",
       "996   Daisy           PG4          8050        -10   1.32   3.32   \n",
       "997  Violet           PG2           952       5388  37.71  61.74   \n",
       "998  Violet           PG2          1307      44996  31.44  42.74   \n",
       "999  Violet           PG5          3018       1697   4.68  18.99   \n",
       "\n",
       "     last_week_sales  last_month_sales  \n",
       "996               14                11  \n",
       "997              331              1041  \n",
       "998             1772              6394  \n",
       "999               19                52  "
      ]
     },
     "execution_count": 5,
     "metadata": {},
     "output_type": "execute_result"
    }
   ],
   "source": [
    "df.tail(4)"
   ]
  },
  {
   "cell_type": "markdown",
   "id": "0cfd13d7",
   "metadata": {},
   "source": [
    "## Exercise 3 - size"
   ]
  },
  {
   "cell_type": "code",
   "execution_count": 6,
   "id": "f37726ca",
   "metadata": {},
   "outputs": [
    {
     "data": {
      "text/plain": [
       "(1000, 8)"
      ]
     },
     "execution_count": 6,
     "metadata": {},
     "output_type": "execute_result"
    }
   ],
   "source": [
    "df.shape"
   ]
  },
  {
   "cell_type": "code",
   "execution_count": 7,
   "id": "beae07eb",
   "metadata": {},
   "outputs": [
    {
     "data": {
      "text/plain": [
       "8000"
      ]
     },
     "execution_count": 7,
     "metadata": {},
     "output_type": "execute_result"
    }
   ],
   "source": [
    "df.size"
   ]
  },
  {
   "cell_type": "code",
   "execution_count": 8,
   "id": "ba9ca335",
   "metadata": {},
   "outputs": [
    {
     "data": {
      "text/plain": [
       "1000"
      ]
     },
     "execution_count": 8,
     "metadata": {},
     "output_type": "execute_result"
    }
   ],
   "source": [
    "len(df)"
   ]
  },
  {
   "cell_type": "markdown",
   "id": "664f4e90",
   "metadata": {},
   "source": [
    "## Exercise 4 - columns"
   ]
  },
  {
   "cell_type": "code",
   "execution_count": 9,
   "id": "b15b7ccf",
   "metadata": {},
   "outputs": [
    {
     "data": {
      "text/plain": [
       "Index(['store', 'product_group', 'product_code', 'stock_qty', 'cost', 'price',\n",
       "       'last_week_sales', 'last_month_sales'],\n",
       "      dtype='object')"
      ]
     },
     "execution_count": 9,
     "metadata": {},
     "output_type": "execute_result"
    }
   ],
   "source": [
    "df.columns"
   ]
  },
  {
   "cell_type": "code",
   "execution_count": 10,
   "id": "a31fd85a",
   "metadata": {},
   "outputs": [
    {
     "data": {
      "text/plain": [
       "['store',\n",
       " 'product_group',\n",
       " 'product_code',\n",
       " 'stock_qty',\n",
       " 'cost',\n",
       " 'price',\n",
       " 'last_week_sales',\n",
       " 'last_month_sales']"
      ]
     },
     "execution_count": 10,
     "metadata": {},
     "output_type": "execute_result"
    }
   ],
   "source": [
    "list(df.columns)"
   ]
  },
  {
   "cell_type": "markdown",
   "id": "25c46e7f",
   "metadata": {},
   "source": [
    "## Exercise 5 - index"
   ]
  },
  {
   "cell_type": "code",
   "execution_count": 11,
   "id": "21bb783d",
   "metadata": {},
   "outputs": [
    {
     "data": {
      "text/plain": [
       "RangeIndex(start=0, stop=1000, step=1)"
      ]
     },
     "execution_count": 11,
     "metadata": {},
     "output_type": "execute_result"
    }
   ],
   "source": [
    "df.index"
   ]
  },
  {
   "cell_type": "markdown",
   "id": "549b1b62",
   "metadata": {},
   "source": [
    "## Exercise 6 - data types"
   ]
  },
  {
   "cell_type": "code",
   "execution_count": 12,
   "id": "2321c746",
   "metadata": {},
   "outputs": [
    {
     "data": {
      "text/plain": [
       "store                object\n",
       "product_group        object\n",
       "product_code          int64\n",
       "stock_qty             int64\n",
       "cost                float64\n",
       "price               float64\n",
       "last_week_sales       int64\n",
       "last_month_sales      int64\n",
       "dtype: object"
      ]
     },
     "execution_count": 12,
     "metadata": {},
     "output_type": "execute_result"
    }
   ],
   "source": [
    "df.dtypes"
   ]
  },
  {
   "cell_type": "markdown",
   "id": "0300d1d7",
   "metadata": {},
   "source": [
    "## Exercise 7 - describe function"
   ]
  },
  {
   "cell_type": "code",
   "execution_count": 13,
   "id": "609366e1",
   "metadata": {},
   "outputs": [
    {
     "data": {
      "text/html": [
       "<div>\n",
       "<style scoped>\n",
       "    .dataframe tbody tr th:only-of-type {\n",
       "        vertical-align: middle;\n",
       "    }\n",
       "\n",
       "    .dataframe tbody tr th {\n",
       "        vertical-align: top;\n",
       "    }\n",
       "\n",
       "    .dataframe thead th {\n",
       "        text-align: right;\n",
       "    }\n",
       "</style>\n",
       "<table border=\"1\" class=\"dataframe\">\n",
       "  <thead>\n",
       "    <tr style=\"text-align: right;\">\n",
       "      <th></th>\n",
       "      <th>product_code</th>\n",
       "      <th>stock_qty</th>\n",
       "      <th>cost</th>\n",
       "      <th>price</th>\n",
       "      <th>last_week_sales</th>\n",
       "      <th>last_month_sales</th>\n",
       "    </tr>\n",
       "  </thead>\n",
       "  <tbody>\n",
       "    <tr>\n",
       "      <th>count</th>\n",
       "      <td>1000.000000</td>\n",
       "      <td>1.000000e+03</td>\n",
       "      <td>1000.000000</td>\n",
       "      <td>1000.000000</td>\n",
       "      <td>1000.00000</td>\n",
       "      <td>1000.000000</td>\n",
       "    </tr>\n",
       "    <tr>\n",
       "      <th>mean</th>\n",
       "      <td>5095.086000</td>\n",
       "      <td>6.012505e+03</td>\n",
       "      <td>45.952070</td>\n",
       "      <td>67.063510</td>\n",
       "      <td>76.91800</td>\n",
       "      <td>282.000000</td>\n",
       "    </tr>\n",
       "    <tr>\n",
       "      <th>std</th>\n",
       "      <td>2801.119752</td>\n",
       "      <td>1.297892e+05</td>\n",
       "      <td>114.169658</td>\n",
       "      <td>144.104975</td>\n",
       "      <td>197.39394</td>\n",
       "      <td>741.959041</td>\n",
       "    </tr>\n",
       "    <tr>\n",
       "      <th>min</th>\n",
       "      <td>16.000000</td>\n",
       "      <td>-1.230000e+02</td>\n",
       "      <td>0.540000</td>\n",
       "      <td>0.660000</td>\n",
       "      <td>12.00000</td>\n",
       "      <td>11.000000</td>\n",
       "    </tr>\n",
       "    <tr>\n",
       "      <th>25%</th>\n",
       "      <td>2647.750000</td>\n",
       "      <td>4.760000e+02</td>\n",
       "      <td>6.585000</td>\n",
       "      <td>13.290000</td>\n",
       "      <td>18.75000</td>\n",
       "      <td>61.000000</td>\n",
       "    </tr>\n",
       "    <tr>\n",
       "      <th>50%</th>\n",
       "      <td>4969.500000</td>\n",
       "      <td>1.007500e+03</td>\n",
       "      <td>13.090000</td>\n",
       "      <td>23.740000</td>\n",
       "      <td>31.00000</td>\n",
       "      <td>110.500000</td>\n",
       "    </tr>\n",
       "    <tr>\n",
       "      <th>75%</th>\n",
       "      <td>7653.250000</td>\n",
       "      <td>2.105250e+03</td>\n",
       "      <td>33.567500</td>\n",
       "      <td>56.990000</td>\n",
       "      <td>64.00000</td>\n",
       "      <td>242.000000</td>\n",
       "    </tr>\n",
       "    <tr>\n",
       "      <th>max</th>\n",
       "      <td>9972.000000</td>\n",
       "      <td>4.104542e+06</td>\n",
       "      <td>1243.000000</td>\n",
       "      <td>1500.050000</td>\n",
       "      <td>3222.00000</td>\n",
       "      <td>12353.000000</td>\n",
       "    </tr>\n",
       "  </tbody>\n",
       "</table>\n",
       "</div>"
      ],
      "text/plain": [
       "       product_code     stock_qty         cost        price  last_week_sales  \\\n",
       "count   1000.000000  1.000000e+03  1000.000000  1000.000000       1000.00000   \n",
       "mean    5095.086000  6.012505e+03    45.952070    67.063510         76.91800   \n",
       "std     2801.119752  1.297892e+05   114.169658   144.104975        197.39394   \n",
       "min       16.000000 -1.230000e+02     0.540000     0.660000         12.00000   \n",
       "25%     2647.750000  4.760000e+02     6.585000    13.290000         18.75000   \n",
       "50%     4969.500000  1.007500e+03    13.090000    23.740000         31.00000   \n",
       "75%     7653.250000  2.105250e+03    33.567500    56.990000         64.00000   \n",
       "max     9972.000000  4.104542e+06  1243.000000  1500.050000       3222.00000   \n",
       "\n",
       "       last_month_sales  \n",
       "count       1000.000000  \n",
       "mean         282.000000  \n",
       "std          741.959041  \n",
       "min           11.000000  \n",
       "25%           61.000000  \n",
       "50%          110.500000  \n",
       "75%          242.000000  \n",
       "max        12353.000000  "
      ]
     },
     "execution_count": 13,
     "metadata": {},
     "output_type": "execute_result"
    }
   ],
   "source": [
    "df.describe()"
   ]
  },
  {
   "cell_type": "markdown",
   "id": "52edec6c",
   "metadata": {},
   "source": [
    "## Exercise 8 - describe function\n",
    "\n",
    "* Customize percentiles"
   ]
  },
  {
   "cell_type": "code",
   "execution_count": 14,
   "id": "b5447c04",
   "metadata": {},
   "outputs": [
    {
     "data": {
      "text/html": [
       "<div>\n",
       "<style scoped>\n",
       "    .dataframe tbody tr th:only-of-type {\n",
       "        vertical-align: middle;\n",
       "    }\n",
       "\n",
       "    .dataframe tbody tr th {\n",
       "        vertical-align: top;\n",
       "    }\n",
       "\n",
       "    .dataframe thead th {\n",
       "        text-align: right;\n",
       "    }\n",
       "</style>\n",
       "<table border=\"1\" class=\"dataframe\">\n",
       "  <thead>\n",
       "    <tr style=\"text-align: right;\">\n",
       "      <th></th>\n",
       "      <th>product_code</th>\n",
       "      <th>stock_qty</th>\n",
       "      <th>cost</th>\n",
       "      <th>price</th>\n",
       "      <th>last_week_sales</th>\n",
       "      <th>last_month_sales</th>\n",
       "    </tr>\n",
       "  </thead>\n",
       "  <tbody>\n",
       "    <tr>\n",
       "      <th>count</th>\n",
       "      <td>1000.000000</td>\n",
       "      <td>1.000000e+03</td>\n",
       "      <td>1000.000000</td>\n",
       "      <td>1000.000000</td>\n",
       "      <td>1000.00000</td>\n",
       "      <td>1000.000000</td>\n",
       "    </tr>\n",
       "    <tr>\n",
       "      <th>mean</th>\n",
       "      <td>5095.086000</td>\n",
       "      <td>6.012505e+03</td>\n",
       "      <td>45.952070</td>\n",
       "      <td>67.063510</td>\n",
       "      <td>76.91800</td>\n",
       "      <td>282.000000</td>\n",
       "    </tr>\n",
       "    <tr>\n",
       "      <th>std</th>\n",
       "      <td>2801.119752</td>\n",
       "      <td>1.297892e+05</td>\n",
       "      <td>114.169658</td>\n",
       "      <td>144.104975</td>\n",
       "      <td>197.39394</td>\n",
       "      <td>741.959041</td>\n",
       "    </tr>\n",
       "    <tr>\n",
       "      <th>min</th>\n",
       "      <td>16.000000</td>\n",
       "      <td>-1.230000e+02</td>\n",
       "      <td>0.540000</td>\n",
       "      <td>0.660000</td>\n",
       "      <td>12.00000</td>\n",
       "      <td>11.000000</td>\n",
       "    </tr>\n",
       "    <tr>\n",
       "      <th>10%</th>\n",
       "      <td>1677.900000</td>\n",
       "      <td>2.656000e+02</td>\n",
       "      <td>3.149000</td>\n",
       "      <td>7.120000</td>\n",
       "      <td>14.00000</td>\n",
       "      <td>38.900000</td>\n",
       "    </tr>\n",
       "    <tr>\n",
       "      <th>50%</th>\n",
       "      <td>4969.500000</td>\n",
       "      <td>1.007500e+03</td>\n",
       "      <td>13.090000</td>\n",
       "      <td>23.740000</td>\n",
       "      <td>31.00000</td>\n",
       "      <td>110.500000</td>\n",
       "    </tr>\n",
       "    <tr>\n",
       "      <th>90%</th>\n",
       "      <td>9148.500000</td>\n",
       "      <td>3.947200e+03</td>\n",
       "      <td>89.570000</td>\n",
       "      <td>132.910000</td>\n",
       "      <td>155.00000</td>\n",
       "      <td>555.800000</td>\n",
       "    </tr>\n",
       "    <tr>\n",
       "      <th>max</th>\n",
       "      <td>9972.000000</td>\n",
       "      <td>4.104542e+06</td>\n",
       "      <td>1243.000000</td>\n",
       "      <td>1500.050000</td>\n",
       "      <td>3222.00000</td>\n",
       "      <td>12353.000000</td>\n",
       "    </tr>\n",
       "  </tbody>\n",
       "</table>\n",
       "</div>"
      ],
      "text/plain": [
       "       product_code     stock_qty         cost        price  last_week_sales  \\\n",
       "count   1000.000000  1.000000e+03  1000.000000  1000.000000       1000.00000   \n",
       "mean    5095.086000  6.012505e+03    45.952070    67.063510         76.91800   \n",
       "std     2801.119752  1.297892e+05   114.169658   144.104975        197.39394   \n",
       "min       16.000000 -1.230000e+02     0.540000     0.660000         12.00000   \n",
       "10%     1677.900000  2.656000e+02     3.149000     7.120000         14.00000   \n",
       "50%     4969.500000  1.007500e+03    13.090000    23.740000         31.00000   \n",
       "90%     9148.500000  3.947200e+03    89.570000   132.910000        155.00000   \n",
       "max     9972.000000  4.104542e+06  1243.000000  1500.050000       3222.00000   \n",
       "\n",
       "       last_month_sales  \n",
       "count       1000.000000  \n",
       "mean         282.000000  \n",
       "std          741.959041  \n",
       "min           11.000000  \n",
       "10%           38.900000  \n",
       "50%          110.500000  \n",
       "90%          555.800000  \n",
       "max        12353.000000  "
      ]
     },
     "execution_count": 14,
     "metadata": {},
     "output_type": "execute_result"
    }
   ],
   "source": [
    "df.describe(percentiles=[0.1, 0.9])"
   ]
  },
  {
   "cell_type": "markdown",
   "id": "575c1c84",
   "metadata": {},
   "source": [
    "## Exercise 9 - describe function\n",
    "\n",
    "* For columns with object data type"
   ]
  },
  {
   "cell_type": "code",
   "execution_count": 15,
   "id": "eb5b2eb3",
   "metadata": {},
   "outputs": [
    {
     "data": {
      "text/html": [
       "<div>\n",
       "<style scoped>\n",
       "    .dataframe tbody tr th:only-of-type {\n",
       "        vertical-align: middle;\n",
       "    }\n",
       "\n",
       "    .dataframe tbody tr th {\n",
       "        vertical-align: top;\n",
       "    }\n",
       "\n",
       "    .dataframe thead th {\n",
       "        text-align: right;\n",
       "    }\n",
       "</style>\n",
       "<table border=\"1\" class=\"dataframe\">\n",
       "  <thead>\n",
       "    <tr style=\"text-align: right;\">\n",
       "      <th></th>\n",
       "      <th>store</th>\n",
       "      <th>product_group</th>\n",
       "    </tr>\n",
       "  </thead>\n",
       "  <tbody>\n",
       "    <tr>\n",
       "      <th>count</th>\n",
       "      <td>1000</td>\n",
       "      <td>1000</td>\n",
       "    </tr>\n",
       "    <tr>\n",
       "      <th>unique</th>\n",
       "      <td>3</td>\n",
       "      <td>6</td>\n",
       "    </tr>\n",
       "    <tr>\n",
       "      <th>top</th>\n",
       "      <td>Daisy</td>\n",
       "      <td>PG4</td>\n",
       "    </tr>\n",
       "    <tr>\n",
       "      <th>freq</th>\n",
       "      <td>470</td>\n",
       "      <td>349</td>\n",
       "    </tr>\n",
       "  </tbody>\n",
       "</table>\n",
       "</div>"
      ],
      "text/plain": [
       "        store product_group\n",
       "count    1000          1000\n",
       "unique      3             6\n",
       "top     Daisy           PG4\n",
       "freq      470           349"
      ]
     },
     "execution_count": 15,
     "metadata": {},
     "output_type": "execute_result"
    }
   ],
   "source": [
    "df.describe(include=[object])"
   ]
  },
  {
   "cell_type": "markdown",
   "id": "205a9ce6",
   "metadata": {},
   "source": [
    "## Exercise 10 - describe function\n",
    "\n",
    "* Include only floats"
   ]
  },
  {
   "cell_type": "code",
   "execution_count": 16,
   "id": "b5825c92",
   "metadata": {},
   "outputs": [
    {
     "data": {
      "text/html": [
       "<div>\n",
       "<style scoped>\n",
       "    .dataframe tbody tr th:only-of-type {\n",
       "        vertical-align: middle;\n",
       "    }\n",
       "\n",
       "    .dataframe tbody tr th {\n",
       "        vertical-align: top;\n",
       "    }\n",
       "\n",
       "    .dataframe thead th {\n",
       "        text-align: right;\n",
       "    }\n",
       "</style>\n",
       "<table border=\"1\" class=\"dataframe\">\n",
       "  <thead>\n",
       "    <tr style=\"text-align: right;\">\n",
       "      <th></th>\n",
       "      <th>cost</th>\n",
       "      <th>price</th>\n",
       "    </tr>\n",
       "  </thead>\n",
       "  <tbody>\n",
       "    <tr>\n",
       "      <th>count</th>\n",
       "      <td>1000.000000</td>\n",
       "      <td>1000.000000</td>\n",
       "    </tr>\n",
       "    <tr>\n",
       "      <th>mean</th>\n",
       "      <td>45.952070</td>\n",
       "      <td>67.063510</td>\n",
       "    </tr>\n",
       "    <tr>\n",
       "      <th>std</th>\n",
       "      <td>114.169658</td>\n",
       "      <td>144.104975</td>\n",
       "    </tr>\n",
       "    <tr>\n",
       "      <th>min</th>\n",
       "      <td>0.540000</td>\n",
       "      <td>0.660000</td>\n",
       "    </tr>\n",
       "    <tr>\n",
       "      <th>40%</th>\n",
       "      <td>9.938000</td>\n",
       "      <td>18.990000</td>\n",
       "    </tr>\n",
       "    <tr>\n",
       "      <th>50%</th>\n",
       "      <td>13.090000</td>\n",
       "      <td>23.740000</td>\n",
       "    </tr>\n",
       "    <tr>\n",
       "      <th>70%</th>\n",
       "      <td>25.223000</td>\n",
       "      <td>44.640000</td>\n",
       "    </tr>\n",
       "    <tr>\n",
       "      <th>max</th>\n",
       "      <td>1243.000000</td>\n",
       "      <td>1500.050000</td>\n",
       "    </tr>\n",
       "  </tbody>\n",
       "</table>\n",
       "</div>"
      ],
      "text/plain": [
       "              cost        price\n",
       "count  1000.000000  1000.000000\n",
       "mean     45.952070    67.063510\n",
       "std     114.169658   144.104975\n",
       "min       0.540000     0.660000\n",
       "40%       9.938000    18.990000\n",
       "50%      13.090000    23.740000\n",
       "70%      25.223000    44.640000\n",
       "max    1243.000000  1500.050000"
      ]
     },
     "execution_count": 16,
     "metadata": {},
     "output_type": "execute_result"
    }
   ],
   "source": [
    "df.describe(percentiles=[.4, .7], include=float)"
   ]
  },
  {
   "cell_type": "markdown",
   "id": "6483632c",
   "metadata": {},
   "source": [
    "## Exercise 11 - memory usage\n",
    "\n",
    "* The memory_usage function returns memory usage in bytes"
   ]
  },
  {
   "cell_type": "code",
   "execution_count": 17,
   "id": "f38a2ab6",
   "metadata": {},
   "outputs": [
    {
     "data": {
      "text/plain": [
       "Index                128\n",
       "store               8000\n",
       "product_group       8000\n",
       "product_code        8000\n",
       "stock_qty           8000\n",
       "cost                8000\n",
       "price               8000\n",
       "last_week_sales     8000\n",
       "last_month_sales    8000\n",
       "dtype: int64"
      ]
     },
     "execution_count": 17,
     "metadata": {},
     "output_type": "execute_result"
    }
   ],
   "source": [
    "df.memory_usage()"
   ]
  },
  {
   "cell_type": "code",
   "execution_count": 18,
   "id": "d74c9ca5",
   "metadata": {},
   "outputs": [
    {
     "data": {
      "text/plain": [
       "64128"
      ]
     },
     "execution_count": 18,
     "metadata": {},
     "output_type": "execute_result"
    }
   ],
   "source": [
    "df.memory_usage().sum()"
   ]
  },
  {
   "cell_type": "code",
   "execution_count": 19,
   "id": "acc3bd4e",
   "metadata": {},
   "outputs": [
    {
     "data": {
      "text/plain": [
       "RangeIndex(start=0, stop=1000, step=1)"
      ]
     },
     "execution_count": 19,
     "metadata": {},
     "output_type": "execute_result"
    }
   ],
   "source": [
    "df.index"
   ]
  },
  {
   "cell_type": "markdown",
   "id": "12968814",
   "metadata": {},
   "source": [
    "## Conclusion\n",
    "\n",
    "Exploring a DataFrame in terms of:\n",
    "\n",
    "* How it looks (i.e. first n rows)\n",
    "* Columns and row index\n",
    "* Shape and size\n",
    "* Data types\n",
    "* Basic statistics\n",
    "* Memory usage"
   ]
  }
 ],
 "metadata": {
  "kernelspec": {
   "display_name": "Python 3 (ipykernel)",
   "language": "python",
   "name": "python3"
  },
  "language_info": {
   "codemirror_mode": {
    "name": "ipython",
    "version": 3
   },
   "file_extension": ".py",
   "mimetype": "text/x-python",
   "name": "python",
   "nbconvert_exporter": "python",
   "pygments_lexer": "ipython3",
   "version": "3.10.8"
  }
 },
 "nbformat": 4,
 "nbformat_minor": 5
}
