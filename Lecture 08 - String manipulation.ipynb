{
 "cells": [
  {
   "cell_type": "markdown",
   "id": "32014956",
   "metadata": {},
   "source": [
    "* Textual data, lots of it!\n",
    "* Requires cleaning and preprocessing\n",
    "* Textual to numeric"
   ]
  },
  {
   "cell_type": "code",
   "execution_count": 1,
   "id": "25290961",
   "metadata": {},
   "outputs": [
    {
     "data": {
      "text/html": [
       "<div>\n",
       "<style scoped>\n",
       "    .dataframe tbody tr th:only-of-type {\n",
       "        vertical-align: middle;\n",
       "    }\n",
       "\n",
       "    .dataframe tbody tr th {\n",
       "        vertical-align: top;\n",
       "    }\n",
       "\n",
       "    .dataframe thead th {\n",
       "        text-align: right;\n",
       "    }\n",
       "</style>\n",
       "<table border=\"1\" class=\"dataframe\">\n",
       "  <thead>\n",
       "    <tr style=\"text-align: right;\">\n",
       "      <th></th>\n",
       "      <th>Name</th>\n",
       "      <th>Address</th>\n",
       "      <th>Salary</th>\n",
       "      <th>Group</th>\n",
       "      <th>Category</th>\n",
       "    </tr>\n",
       "  </thead>\n",
       "  <tbody>\n",
       "    <tr>\n",
       "      <th>0</th>\n",
       "      <td>jane</td>\n",
       "      <td>Houston,TX</td>\n",
       "      <td>64K-72K</td>\n",
       "      <td>A-1-B-F</td>\n",
       "      <td>1x</td>\n",
       "    </tr>\n",
       "    <tr>\n",
       "      <th>1</th>\n",
       "      <td>james</td>\n",
       "      <td>Dallas,TX</td>\n",
       "      <td>62K-70K</td>\n",
       "      <td>B-2-B-F</td>\n",
       "      <td>1y</td>\n",
       "    </tr>\n",
       "    <tr>\n",
       "      <th>2</th>\n",
       "      <td>matt</td>\n",
       "      <td>Chicago,IL</td>\n",
       "      <td>69K-76K</td>\n",
       "      <td>A-2-B-F</td>\n",
       "      <td>2x</td>\n",
       "    </tr>\n",
       "    <tr>\n",
       "      <th>3</th>\n",
       "      <td>emily</td>\n",
       "      <td>Phoenix,AZ</td>\n",
       "      <td>62K-72K</td>\n",
       "      <td>B-1-C-D</td>\n",
       "      <td>1x</td>\n",
       "    </tr>\n",
       "    <tr>\n",
       "      <th>4</th>\n",
       "      <td>john</td>\n",
       "      <td>San Diego,CA</td>\n",
       "      <td>71K-78K</td>\n",
       "      <td>A-1-1-D</td>\n",
       "      <td>1y</td>\n",
       "    </tr>\n",
       "  </tbody>\n",
       "</table>\n",
       "</div>"
      ],
      "text/plain": [
       "    Name       Address   Salary    Group Category\n",
       "0   jane    Houston,TX  64K-72K  A-1-B-F       1x\n",
       "1  james     Dallas,TX  62K-70K  B-2-B-F       1y\n",
       "2   matt    Chicago,IL  69K-76K  A-2-B-F     2x  \n",
       "3  emily    Phoenix,AZ  62K-72K  B-1-C-D       1x\n",
       "4   john  San Diego,CA  71K-78K  A-1-1-D     1y  "
      ]
     },
     "execution_count": 1,
     "metadata": {},
     "output_type": "execute_result"
    }
   ],
   "source": [
    "import pandas as pd\n",
    "\n",
    "df = pd.DataFrame(\n",
    "    \n",
    "    {\n",
    "        \"Name\": [\"jane\", \"james\", \"matt\", \"emily\", \"john\"],\n",
    "        \"Address\": [\"Houston,TX\", \"Dallas,TX\", \"Chicago,IL\", \"Phoenix,AZ\", \"San Diego,CA\"],\n",
    "        \"Salary\": [\"64K-72K\", \"62K-70K\", \"69K-76K\", \"62K-72K\", \"71K-78K\"],\n",
    "        \"Group\": [\"A-1-B-F\",\"B-2-B-F\",\"A-2-B-F\",\"B-1-C-D\",\"A-1-1-D\"],\n",
    "        \"Category\": [\"  1x\", \" 1y\", \"2x  \", \"1x\", \"1y  \"]\n",
    "\n",
    "    }\n",
    ")\n",
    "\n",
    "df"
   ]
  },
  {
   "cell_type": "markdown",
   "id": "b6aecfa9",
   "metadata": {},
   "source": [
    "## 1. Data type - 1"
   ]
  },
  {
   "cell_type": "markdown",
   "id": "5bbc26ab",
   "metadata": {},
   "source": [
    "* Before pandas 1.0, only “object” datatype was used to store strings.\n",
    "* Cause some drawbacks because non-string data can also be stored using “object” data type. \n",
    "* Pandas 1.0 introduces a new data type specific to string data which is StringDtype.\n",
    "* As of now, we can still use object or StringDtype to store strings but in the future, we may be required to only use StringDtype.\n",
    "* Object is still the default data type for strings."
   ]
  },
  {
   "cell_type": "code",
   "execution_count": 2,
   "id": "13d2cd28",
   "metadata": {},
   "outputs": [
    {
     "data": {
      "text/plain": [
       "Name        object\n",
       "Address     object\n",
       "Salary      object\n",
       "Group       object\n",
       "Category    object\n",
       "dtype: object"
      ]
     },
     "execution_count": 2,
     "metadata": {},
     "output_type": "execute_result"
    }
   ],
   "source": [
    "df.dtypes"
   ]
  },
  {
   "cell_type": "markdown",
   "id": "b50f8b9b",
   "metadata": {},
   "source": [
    "## 2. Data type - 2"
   ]
  },
  {
   "cell_type": "markdown",
   "id": "5d108775",
   "metadata": {},
   "source": [
    "* Object is still the default data type for strings. To use StringDtype, we need to explicitly state it.\n",
    "\n",
    "* We can pass “string” or pd.StringDtype() argument to dtype parameter to select string datatype."
   ]
  },
  {
   "cell_type": "code",
   "execution_count": 3,
   "id": "1ea9ce79",
   "metadata": {},
   "outputs": [
    {
     "data": {
      "text/plain": [
       "Name                object\n",
       "Address     string[python]\n",
       "Salary              object\n",
       "Group               object\n",
       "Category            object\n",
       "dtype: object"
      ]
     },
     "execution_count": 3,
     "metadata": {},
     "output_type": "execute_result"
    }
   ],
   "source": [
    "df[\"Address\"] = df[\"Address\"].astype(pd.StringDtype())\n",
    "\n",
    "df.dtypes"
   ]
  },
  {
   "cell_type": "code",
   "execution_count": 4,
   "id": "d0e4db08",
   "metadata": {
    "scrolled": true
   },
   "outputs": [
    {
     "data": {
      "text/plain": [
       "Name                object\n",
       "Address     string[python]\n",
       "Salary      string[python]\n",
       "Group               object\n",
       "Category            object\n",
       "dtype: object"
      ]
     },
     "execution_count": 4,
     "metadata": {},
     "output_type": "execute_result"
    }
   ],
   "source": [
    "df[\"Salary\"] = df[\"Salary\"].astype(\"string\")\n",
    "\n",
    "df.dtypes"
   ]
  },
  {
   "cell_type": "markdown",
   "id": "efa3b817",
   "metadata": {},
   "source": [
    "## 3. Data type - 3"
   ]
  },
  {
   "cell_type": "code",
   "execution_count": 5,
   "id": "9330d769",
   "metadata": {},
   "outputs": [
    {
     "data": {
      "text/html": [
       "<div>\n",
       "<style scoped>\n",
       "    .dataframe tbody tr th:only-of-type {\n",
       "        vertical-align: middle;\n",
       "    }\n",
       "\n",
       "    .dataframe tbody tr th {\n",
       "        vertical-align: top;\n",
       "    }\n",
       "\n",
       "    .dataframe thead th {\n",
       "        text-align: right;\n",
       "    }\n",
       "</style>\n",
       "<table border=\"1\" class=\"dataframe\">\n",
       "  <thead>\n",
       "    <tr style=\"text-align: right;\">\n",
       "      <th></th>\n",
       "      <th>Name</th>\n",
       "      <th>Address</th>\n",
       "      <th>Salary</th>\n",
       "      <th>Group</th>\n",
       "      <th>Category</th>\n",
       "    </tr>\n",
       "  </thead>\n",
       "  <tbody>\n",
       "    <tr>\n",
       "      <th>0</th>\n",
       "      <td>jane</td>\n",
       "      <td>Houston,TX</td>\n",
       "      <td>64K-72K</td>\n",
       "      <td>A-1-B-F</td>\n",
       "      <td>1x</td>\n",
       "    </tr>\n",
       "    <tr>\n",
       "      <th>1</th>\n",
       "      <td>james</td>\n",
       "      <td>Dallas,TX</td>\n",
       "      <td>62K-70K</td>\n",
       "      <td>B-2-B-F</td>\n",
       "      <td>1y</td>\n",
       "    </tr>\n",
       "    <tr>\n",
       "      <th>2</th>\n",
       "      <td>matt</td>\n",
       "      <td>Chicago,IL</td>\n",
       "      <td>69K-76K</td>\n",
       "      <td>A-2-B-F</td>\n",
       "      <td>2x</td>\n",
       "    </tr>\n",
       "    <tr>\n",
       "      <th>3</th>\n",
       "      <td>emily</td>\n",
       "      <td>Phoenix,AZ</td>\n",
       "      <td>62K-72K</td>\n",
       "      <td>B-1-C-D</td>\n",
       "      <td>1x</td>\n",
       "    </tr>\n",
       "    <tr>\n",
       "      <th>4</th>\n",
       "      <td>john</td>\n",
       "      <td>San Diego,CA</td>\n",
       "      <td>71K-78K</td>\n",
       "      <td>A-1-1-D</td>\n",
       "      <td>1y</td>\n",
       "    </tr>\n",
       "  </tbody>\n",
       "</table>\n",
       "</div>"
      ],
      "text/plain": [
       "    Name       Address   Salary    Group Category\n",
       "0   jane    Houston,TX  64K-72K  A-1-B-F       1x\n",
       "1  james     Dallas,TX  62K-70K  B-2-B-F       1y\n",
       "2   matt    Chicago,IL  69K-76K  A-2-B-F     2x  \n",
       "3  emily    Phoenix,AZ  62K-72K  B-1-C-D       1x\n",
       "4   john  San Diego,CA  71K-78K  A-1-1-D     1y  "
      ]
     },
     "execution_count": 5,
     "metadata": {},
     "output_type": "execute_result"
    }
   ],
   "source": [
    "df = pd.DataFrame(\n",
    "    \n",
    "    {\n",
    "        \"Name\": [\"jane\", \"james\", \"matt\", \"emily\", \"john\"],\n",
    "        \"Address\": [\"Houston,TX\", \"Dallas,TX\", \"Chicago,IL\", \"Phoenix,AZ\", \"San Diego,CA\"],\n",
    "        \"Salary\": [\"64K-72K\", \"62K-70K\", \"69K-76K\", \"62K-72K\", \"71K-78K\"],\n",
    "        \"Group\": [\"A-1-B-F\",\"B-2-B-F\",\"A-2-B-F\",\"B-1-C-D\",\"A-1-1-D\"],\n",
    "        \"Category\": [\"  1x\", \" 1y\", \"2x  \", \"1x\", \"1y  \"]\n",
    "\n",
    "    },\n",
    "    \n",
    "    dtype=\"string\"\n",
    ")\n",
    "\n",
    "df"
   ]
  },
  {
   "cell_type": "code",
   "execution_count": 6,
   "id": "4f024125",
   "metadata": {},
   "outputs": [
    {
     "data": {
      "text/plain": [
       "Name        string[python]\n",
       "Address     string[python]\n",
       "Salary      string[python]\n",
       "Group       string[python]\n",
       "Category    string[python]\n",
       "dtype: object"
      ]
     },
     "execution_count": 6,
     "metadata": {},
     "output_type": "execute_result"
    }
   ],
   "source": [
    "df.dtypes"
   ]
  },
  {
   "cell_type": "markdown",
   "id": "acb0d439",
   "metadata": {},
   "source": [
    "## 4. Uppercase and lowercase"
   ]
  },
  {
   "cell_type": "markdown",
   "id": "fff56e74",
   "metadata": {},
   "source": [
    "* String methods are available via the str accessor"
   ]
  },
  {
   "cell_type": "code",
   "execution_count": 7,
   "id": "1a89103e",
   "metadata": {},
   "outputs": [
    {
     "data": {
      "text/html": [
       "<div>\n",
       "<style scoped>\n",
       "    .dataframe tbody tr th:only-of-type {\n",
       "        vertical-align: middle;\n",
       "    }\n",
       "\n",
       "    .dataframe tbody tr th {\n",
       "        vertical-align: top;\n",
       "    }\n",
       "\n",
       "    .dataframe thead th {\n",
       "        text-align: right;\n",
       "    }\n",
       "</style>\n",
       "<table border=\"1\" class=\"dataframe\">\n",
       "  <thead>\n",
       "    <tr style=\"text-align: right;\">\n",
       "      <th></th>\n",
       "      <th>Name</th>\n",
       "      <th>Address</th>\n",
       "      <th>Salary</th>\n",
       "      <th>Group</th>\n",
       "      <th>Category</th>\n",
       "    </tr>\n",
       "  </thead>\n",
       "  <tbody>\n",
       "    <tr>\n",
       "      <th>0</th>\n",
       "      <td>JANE</td>\n",
       "      <td>Houston,TX</td>\n",
       "      <td>64K-72K</td>\n",
       "      <td>A-1-B-F</td>\n",
       "      <td>1x</td>\n",
       "    </tr>\n",
       "    <tr>\n",
       "      <th>1</th>\n",
       "      <td>JAMES</td>\n",
       "      <td>Dallas,TX</td>\n",
       "      <td>62K-70K</td>\n",
       "      <td>B-2-B-F</td>\n",
       "      <td>1y</td>\n",
       "    </tr>\n",
       "    <tr>\n",
       "      <th>2</th>\n",
       "      <td>MATT</td>\n",
       "      <td>Chicago,IL</td>\n",
       "      <td>69K-76K</td>\n",
       "      <td>A-2-B-F</td>\n",
       "      <td>2x</td>\n",
       "    </tr>\n",
       "    <tr>\n",
       "      <th>3</th>\n",
       "      <td>EMILY</td>\n",
       "      <td>Phoenix,AZ</td>\n",
       "      <td>62K-72K</td>\n",
       "      <td>B-1-C-D</td>\n",
       "      <td>1x</td>\n",
       "    </tr>\n",
       "    <tr>\n",
       "      <th>4</th>\n",
       "      <td>JOHN</td>\n",
       "      <td>San Diego,CA</td>\n",
       "      <td>71K-78K</td>\n",
       "      <td>A-1-1-D</td>\n",
       "      <td>1y</td>\n",
       "    </tr>\n",
       "  </tbody>\n",
       "</table>\n",
       "</div>"
      ],
      "text/plain": [
       "    Name       Address   Salary    Group Category\n",
       "0   JANE    Houston,TX  64K-72K  A-1-B-F       1x\n",
       "1  JAMES     Dallas,TX  62K-70K  B-2-B-F       1y\n",
       "2   MATT    Chicago,IL  69K-76K  A-2-B-F     2x  \n",
       "3  EMILY    Phoenix,AZ  62K-72K  B-1-C-D       1x\n",
       "4   JOHN  San Diego,CA  71K-78K  A-1-1-D     1y  "
      ]
     },
     "execution_count": 7,
     "metadata": {},
     "output_type": "execute_result"
    }
   ],
   "source": [
    "df[\"Name\"] = df[\"Name\"].str.upper()\n",
    "\n",
    "df"
   ]
  },
  {
   "cell_type": "code",
   "execution_count": 8,
   "id": "76669902",
   "metadata": {},
   "outputs": [
    {
     "data": {
      "text/html": [
       "<div>\n",
       "<style scoped>\n",
       "    .dataframe tbody tr th:only-of-type {\n",
       "        vertical-align: middle;\n",
       "    }\n",
       "\n",
       "    .dataframe tbody tr th {\n",
       "        vertical-align: top;\n",
       "    }\n",
       "\n",
       "    .dataframe thead th {\n",
       "        text-align: right;\n",
       "    }\n",
       "</style>\n",
       "<table border=\"1\" class=\"dataframe\">\n",
       "  <thead>\n",
       "    <tr style=\"text-align: right;\">\n",
       "      <th></th>\n",
       "      <th>Name</th>\n",
       "      <th>Address</th>\n",
       "      <th>Salary</th>\n",
       "      <th>Group</th>\n",
       "      <th>Category</th>\n",
       "    </tr>\n",
       "  </thead>\n",
       "  <tbody>\n",
       "    <tr>\n",
       "      <th>0</th>\n",
       "      <td>jane</td>\n",
       "      <td>Houston,TX</td>\n",
       "      <td>64K-72K</td>\n",
       "      <td>A-1-B-F</td>\n",
       "      <td>1x</td>\n",
       "    </tr>\n",
       "    <tr>\n",
       "      <th>1</th>\n",
       "      <td>james</td>\n",
       "      <td>Dallas,TX</td>\n",
       "      <td>62K-70K</td>\n",
       "      <td>B-2-B-F</td>\n",
       "      <td>1y</td>\n",
       "    </tr>\n",
       "    <tr>\n",
       "      <th>2</th>\n",
       "      <td>matt</td>\n",
       "      <td>Chicago,IL</td>\n",
       "      <td>69K-76K</td>\n",
       "      <td>A-2-B-F</td>\n",
       "      <td>2x</td>\n",
       "    </tr>\n",
       "    <tr>\n",
       "      <th>3</th>\n",
       "      <td>emily</td>\n",
       "      <td>Phoenix,AZ</td>\n",
       "      <td>62K-72K</td>\n",
       "      <td>B-1-C-D</td>\n",
       "      <td>1x</td>\n",
       "    </tr>\n",
       "    <tr>\n",
       "      <th>4</th>\n",
       "      <td>john</td>\n",
       "      <td>San Diego,CA</td>\n",
       "      <td>71K-78K</td>\n",
       "      <td>A-1-1-D</td>\n",
       "      <td>1y</td>\n",
       "    </tr>\n",
       "  </tbody>\n",
       "</table>\n",
       "</div>"
      ],
      "text/plain": [
       "    Name       Address   Salary    Group Category\n",
       "0   jane    Houston,TX  64K-72K  A-1-B-F       1x\n",
       "1  james     Dallas,TX  62K-70K  B-2-B-F       1y\n",
       "2   matt    Chicago,IL  69K-76K  A-2-B-F     2x  \n",
       "3  emily    Phoenix,AZ  62K-72K  B-1-C-D       1x\n",
       "4   john  San Diego,CA  71K-78K  A-1-1-D     1y  "
      ]
     },
     "execution_count": 8,
     "metadata": {},
     "output_type": "execute_result"
    }
   ],
   "source": [
    "df[\"Name\"] = df[\"Name\"].str.lower()\n",
    "\n",
    "df"
   ]
  },
  {
   "cell_type": "markdown",
   "id": "37335cd1",
   "metadata": {},
   "source": [
    "## 5. Capitalize"
   ]
  },
  {
   "cell_type": "code",
   "execution_count": 9,
   "id": "16f3274b",
   "metadata": {},
   "outputs": [
    {
     "data": {
      "text/html": [
       "<div>\n",
       "<style scoped>\n",
       "    .dataframe tbody tr th:only-of-type {\n",
       "        vertical-align: middle;\n",
       "    }\n",
       "\n",
       "    .dataframe tbody tr th {\n",
       "        vertical-align: top;\n",
       "    }\n",
       "\n",
       "    .dataframe thead th {\n",
       "        text-align: right;\n",
       "    }\n",
       "</style>\n",
       "<table border=\"1\" class=\"dataframe\">\n",
       "  <thead>\n",
       "    <tr style=\"text-align: right;\">\n",
       "      <th></th>\n",
       "      <th>Name</th>\n",
       "      <th>Address</th>\n",
       "      <th>Salary</th>\n",
       "      <th>Group</th>\n",
       "      <th>Category</th>\n",
       "    </tr>\n",
       "  </thead>\n",
       "  <tbody>\n",
       "    <tr>\n",
       "      <th>0</th>\n",
       "      <td>Jane</td>\n",
       "      <td>Houston,TX</td>\n",
       "      <td>64K-72K</td>\n",
       "      <td>A-1-B-F</td>\n",
       "      <td>1x</td>\n",
       "    </tr>\n",
       "    <tr>\n",
       "      <th>1</th>\n",
       "      <td>James</td>\n",
       "      <td>Dallas,TX</td>\n",
       "      <td>62K-70K</td>\n",
       "      <td>B-2-B-F</td>\n",
       "      <td>1y</td>\n",
       "    </tr>\n",
       "    <tr>\n",
       "      <th>2</th>\n",
       "      <td>Matt</td>\n",
       "      <td>Chicago,IL</td>\n",
       "      <td>69K-76K</td>\n",
       "      <td>A-2-B-F</td>\n",
       "      <td>2x</td>\n",
       "    </tr>\n",
       "    <tr>\n",
       "      <th>3</th>\n",
       "      <td>Emily</td>\n",
       "      <td>Phoenix,AZ</td>\n",
       "      <td>62K-72K</td>\n",
       "      <td>B-1-C-D</td>\n",
       "      <td>1x</td>\n",
       "    </tr>\n",
       "    <tr>\n",
       "      <th>4</th>\n",
       "      <td>John</td>\n",
       "      <td>San Diego,CA</td>\n",
       "      <td>71K-78K</td>\n",
       "      <td>A-1-1-D</td>\n",
       "      <td>1y</td>\n",
       "    </tr>\n",
       "  </tbody>\n",
       "</table>\n",
       "</div>"
      ],
      "text/plain": [
       "    Name       Address   Salary    Group Category\n",
       "0   Jane    Houston,TX  64K-72K  A-1-B-F       1x\n",
       "1  James     Dallas,TX  62K-70K  B-2-B-F       1y\n",
       "2   Matt    Chicago,IL  69K-76K  A-2-B-F     2x  \n",
       "3  Emily    Phoenix,AZ  62K-72K  B-1-C-D       1x\n",
       "4   John  San Diego,CA  71K-78K  A-1-1-D     1y  "
      ]
     },
     "execution_count": 9,
     "metadata": {},
     "output_type": "execute_result"
    }
   ],
   "source": [
    "df[\"Name\"] = df[\"Name\"].str.capitalize()\n",
    "\n",
    "df"
   ]
  },
  {
   "cell_type": "markdown",
   "id": "db378192",
   "metadata": {},
   "source": [
    "## 6. Split"
   ]
  },
  {
   "cell_type": "markdown",
   "id": "b0cda9bf",
   "metadata": {},
   "source": [
    "* A string may carry more than one piece of information and we may need to use them separately."
   ]
  },
  {
   "cell_type": "code",
   "execution_count": 10,
   "id": "08258100",
   "metadata": {},
   "outputs": [
    {
     "data": {
      "text/plain": [
       "0      [Houston, TX]\n",
       "1       [Dallas, TX]\n",
       "2      [Chicago, IL]\n",
       "3      [Phoenix, AZ]\n",
       "4    [San Diego, CA]\n",
       "Name: Address, dtype: object"
      ]
     },
     "execution_count": 10,
     "metadata": {},
     "output_type": "execute_result"
    }
   ],
   "source": [
    "df[\"Address\"].str.split(\",\")"
   ]
  },
  {
   "cell_type": "markdown",
   "id": "6c309abc",
   "metadata": {},
   "source": [
    "## 7. Extract after split"
   ]
  },
  {
   "cell_type": "code",
   "execution_count": 11,
   "id": "0034a840",
   "metadata": {},
   "outputs": [
    {
     "data": {
      "text/plain": [
       "0      Houston\n",
       "1       Dallas\n",
       "2      Chicago\n",
       "3      Phoenix\n",
       "4    San Diego\n",
       "Name: Address, dtype: object"
      ]
     },
     "execution_count": 11,
     "metadata": {},
     "output_type": "execute_result"
    }
   ],
   "source": [
    "df[\"Address\"].str.split(\",\").str[0]"
   ]
  },
  {
   "cell_type": "markdown",
   "id": "d7ff38f2",
   "metadata": {},
   "source": [
    "* Subscript ([1]) must be applied with str keyword"
   ]
  },
  {
   "cell_type": "code",
   "execution_count": 12,
   "id": "765575ba",
   "metadata": {},
   "outputs": [
    {
     "data": {
      "text/plain": [
       "['Houston', 'TX']"
      ]
     },
     "execution_count": 12,
     "metadata": {},
     "output_type": "execute_result"
    }
   ],
   "source": [
    "df[\"Address\"].str.split(\",\")[0]"
   ]
  },
  {
   "cell_type": "markdown",
   "id": "3b0e6ef9",
   "metadata": {},
   "source": [
    "## 8. Create column after split"
   ]
  },
  {
   "cell_type": "code",
   "execution_count": 13,
   "id": "a3ebb61d",
   "metadata": {},
   "outputs": [
    {
     "data": {
      "text/html": [
       "<div>\n",
       "<style scoped>\n",
       "    .dataframe tbody tr th:only-of-type {\n",
       "        vertical-align: middle;\n",
       "    }\n",
       "\n",
       "    .dataframe tbody tr th {\n",
       "        vertical-align: top;\n",
       "    }\n",
       "\n",
       "    .dataframe thead th {\n",
       "        text-align: right;\n",
       "    }\n",
       "</style>\n",
       "<table border=\"1\" class=\"dataframe\">\n",
       "  <thead>\n",
       "    <tr style=\"text-align: right;\">\n",
       "      <th></th>\n",
       "      <th>Name</th>\n",
       "      <th>Address</th>\n",
       "      <th>Salary</th>\n",
       "      <th>Group</th>\n",
       "      <th>Category</th>\n",
       "      <th>State</th>\n",
       "    </tr>\n",
       "  </thead>\n",
       "  <tbody>\n",
       "    <tr>\n",
       "      <th>0</th>\n",
       "      <td>Jane</td>\n",
       "      <td>Houston,TX</td>\n",
       "      <td>64K-72K</td>\n",
       "      <td>A-1-B-F</td>\n",
       "      <td>1x</td>\n",
       "      <td>TX</td>\n",
       "    </tr>\n",
       "    <tr>\n",
       "      <th>1</th>\n",
       "      <td>James</td>\n",
       "      <td>Dallas,TX</td>\n",
       "      <td>62K-70K</td>\n",
       "      <td>B-2-B-F</td>\n",
       "      <td>1y</td>\n",
       "      <td>TX</td>\n",
       "    </tr>\n",
       "    <tr>\n",
       "      <th>2</th>\n",
       "      <td>Matt</td>\n",
       "      <td>Chicago,IL</td>\n",
       "      <td>69K-76K</td>\n",
       "      <td>A-2-B-F</td>\n",
       "      <td>2x</td>\n",
       "      <td>IL</td>\n",
       "    </tr>\n",
       "    <tr>\n",
       "      <th>3</th>\n",
       "      <td>Emily</td>\n",
       "      <td>Phoenix,AZ</td>\n",
       "      <td>62K-72K</td>\n",
       "      <td>B-1-C-D</td>\n",
       "      <td>1x</td>\n",
       "      <td>AZ</td>\n",
       "    </tr>\n",
       "    <tr>\n",
       "      <th>4</th>\n",
       "      <td>John</td>\n",
       "      <td>San Diego,CA</td>\n",
       "      <td>71K-78K</td>\n",
       "      <td>A-1-1-D</td>\n",
       "      <td>1y</td>\n",
       "      <td>CA</td>\n",
       "    </tr>\n",
       "  </tbody>\n",
       "</table>\n",
       "</div>"
      ],
      "text/plain": [
       "    Name       Address   Salary    Group Category State\n",
       "0   Jane    Houston,TX  64K-72K  A-1-B-F       1x    TX\n",
       "1  James     Dallas,TX  62K-70K  B-2-B-F       1y    TX\n",
       "2   Matt    Chicago,IL  69K-76K  A-2-B-F     2x      IL\n",
       "3  Emily    Phoenix,AZ  62K-72K  B-1-C-D       1x    AZ\n",
       "4   John  San Diego,CA  71K-78K  A-1-1-D     1y      CA"
      ]
     },
     "execution_count": 13,
     "metadata": {},
     "output_type": "execute_result"
    }
   ],
   "source": [
    "df[\"State\"] = df[\"Address\"].str.split(\",\").str[1]\n",
    "\n",
    "df"
   ]
  },
  {
   "cell_type": "markdown",
   "id": "f2f5276b",
   "metadata": {},
   "source": [
    "## 9. Split - expand parameter"
   ]
  },
  {
   "cell_type": "code",
   "execution_count": 14,
   "id": "540baa06",
   "metadata": {},
   "outputs": [
    {
     "data": {
      "text/html": [
       "<div>\n",
       "<style scoped>\n",
       "    .dataframe tbody tr th:only-of-type {\n",
       "        vertical-align: middle;\n",
       "    }\n",
       "\n",
       "    .dataframe tbody tr th {\n",
       "        vertical-align: top;\n",
       "    }\n",
       "\n",
       "    .dataframe thead th {\n",
       "        text-align: right;\n",
       "    }\n",
       "</style>\n",
       "<table border=\"1\" class=\"dataframe\">\n",
       "  <thead>\n",
       "    <tr style=\"text-align: right;\">\n",
       "      <th></th>\n",
       "      <th>0</th>\n",
       "      <th>1</th>\n",
       "    </tr>\n",
       "  </thead>\n",
       "  <tbody>\n",
       "    <tr>\n",
       "      <th>0</th>\n",
       "      <td>Houston</td>\n",
       "      <td>TX</td>\n",
       "    </tr>\n",
       "    <tr>\n",
       "      <th>1</th>\n",
       "      <td>Dallas</td>\n",
       "      <td>TX</td>\n",
       "    </tr>\n",
       "    <tr>\n",
       "      <th>2</th>\n",
       "      <td>Chicago</td>\n",
       "      <td>IL</td>\n",
       "    </tr>\n",
       "    <tr>\n",
       "      <th>3</th>\n",
       "      <td>Phoenix</td>\n",
       "      <td>AZ</td>\n",
       "    </tr>\n",
       "    <tr>\n",
       "      <th>4</th>\n",
       "      <td>San Diego</td>\n",
       "      <td>CA</td>\n",
       "    </tr>\n",
       "  </tbody>\n",
       "</table>\n",
       "</div>"
      ],
      "text/plain": [
       "           0   1\n",
       "0    Houston  TX\n",
       "1     Dallas  TX\n",
       "2    Chicago  IL\n",
       "3    Phoenix  AZ\n",
       "4  San Diego  CA"
      ]
     },
     "execution_count": 14,
     "metadata": {},
     "output_type": "execute_result"
    }
   ],
   "source": [
    "df[\"Address\"].str.split(\",\", expand=True)"
   ]
  },
  {
   "cell_type": "code",
   "execution_count": 15,
   "id": "e28a3bdf",
   "metadata": {},
   "outputs": [
    {
     "data": {
      "text/html": [
       "<div>\n",
       "<style scoped>\n",
       "    .dataframe tbody tr th:only-of-type {\n",
       "        vertical-align: middle;\n",
       "    }\n",
       "\n",
       "    .dataframe tbody tr th {\n",
       "        vertical-align: top;\n",
       "    }\n",
       "\n",
       "    .dataframe thead th {\n",
       "        text-align: right;\n",
       "    }\n",
       "</style>\n",
       "<table border=\"1\" class=\"dataframe\">\n",
       "  <thead>\n",
       "    <tr style=\"text-align: right;\">\n",
       "      <th></th>\n",
       "      <th>Name</th>\n",
       "      <th>Address</th>\n",
       "      <th>Salary</th>\n",
       "      <th>Group</th>\n",
       "      <th>Category</th>\n",
       "      <th>State</th>\n",
       "      <th>City</th>\n",
       "    </tr>\n",
       "  </thead>\n",
       "  <tbody>\n",
       "    <tr>\n",
       "      <th>0</th>\n",
       "      <td>Jane</td>\n",
       "      <td>Houston,TX</td>\n",
       "      <td>64K-72K</td>\n",
       "      <td>A-1-B-F</td>\n",
       "      <td>1x</td>\n",
       "      <td>TX</td>\n",
       "      <td>Houston</td>\n",
       "    </tr>\n",
       "    <tr>\n",
       "      <th>1</th>\n",
       "      <td>James</td>\n",
       "      <td>Dallas,TX</td>\n",
       "      <td>62K-70K</td>\n",
       "      <td>B-2-B-F</td>\n",
       "      <td>1y</td>\n",
       "      <td>TX</td>\n",
       "      <td>Dallas</td>\n",
       "    </tr>\n",
       "    <tr>\n",
       "      <th>2</th>\n",
       "      <td>Matt</td>\n",
       "      <td>Chicago,IL</td>\n",
       "      <td>69K-76K</td>\n",
       "      <td>A-2-B-F</td>\n",
       "      <td>2x</td>\n",
       "      <td>IL</td>\n",
       "      <td>Chicago</td>\n",
       "    </tr>\n",
       "    <tr>\n",
       "      <th>3</th>\n",
       "      <td>Emily</td>\n",
       "      <td>Phoenix,AZ</td>\n",
       "      <td>62K-72K</td>\n",
       "      <td>B-1-C-D</td>\n",
       "      <td>1x</td>\n",
       "      <td>AZ</td>\n",
       "      <td>Phoenix</td>\n",
       "    </tr>\n",
       "    <tr>\n",
       "      <th>4</th>\n",
       "      <td>John</td>\n",
       "      <td>San Diego,CA</td>\n",
       "      <td>71K-78K</td>\n",
       "      <td>A-1-1-D</td>\n",
       "      <td>1y</td>\n",
       "      <td>CA</td>\n",
       "      <td>San Diego</td>\n",
       "    </tr>\n",
       "  </tbody>\n",
       "</table>\n",
       "</div>"
      ],
      "text/plain": [
       "    Name       Address   Salary    Group Category State       City\n",
       "0   Jane    Houston,TX  64K-72K  A-1-B-F       1x    TX    Houston\n",
       "1  James     Dallas,TX  62K-70K  B-2-B-F       1y    TX     Dallas\n",
       "2   Matt    Chicago,IL  69K-76K  A-2-B-F     2x      IL    Chicago\n",
       "3  Emily    Phoenix,AZ  62K-72K  B-1-C-D       1x    AZ    Phoenix\n",
       "4   John  San Diego,CA  71K-78K  A-1-1-D     1y      CA  San Diego"
      ]
     },
     "execution_count": 15,
     "metadata": {},
     "output_type": "execute_result"
    }
   ],
   "source": [
    "df[[\"City\", \"State\"]] = df[\"Address\"].str.split(\",\", expand=True)\n",
    "\n",
    "df"
   ]
  },
  {
   "cell_type": "markdown",
   "id": "9e9fe96f",
   "metadata": {},
   "source": [
    "## 10. Split - n parameter"
   ]
  },
  {
   "cell_type": "code",
   "execution_count": 16,
   "id": "c5c91943",
   "metadata": {},
   "outputs": [
    {
     "data": {
      "text/html": [
       "<div>\n",
       "<style scoped>\n",
       "    .dataframe tbody tr th:only-of-type {\n",
       "        vertical-align: middle;\n",
       "    }\n",
       "\n",
       "    .dataframe tbody tr th {\n",
       "        vertical-align: top;\n",
       "    }\n",
       "\n",
       "    .dataframe thead th {\n",
       "        text-align: right;\n",
       "    }\n",
       "</style>\n",
       "<table border=\"1\" class=\"dataframe\">\n",
       "  <thead>\n",
       "    <tr style=\"text-align: right;\">\n",
       "      <th></th>\n",
       "      <th>0</th>\n",
       "      <th>1</th>\n",
       "      <th>2</th>\n",
       "      <th>3</th>\n",
       "    </tr>\n",
       "  </thead>\n",
       "  <tbody>\n",
       "    <tr>\n",
       "      <th>0</th>\n",
       "      <td>A</td>\n",
       "      <td>1</td>\n",
       "      <td>B</td>\n",
       "      <td>F</td>\n",
       "    </tr>\n",
       "    <tr>\n",
       "      <th>1</th>\n",
       "      <td>B</td>\n",
       "      <td>2</td>\n",
       "      <td>B</td>\n",
       "      <td>F</td>\n",
       "    </tr>\n",
       "    <tr>\n",
       "      <th>2</th>\n",
       "      <td>A</td>\n",
       "      <td>2</td>\n",
       "      <td>B</td>\n",
       "      <td>F</td>\n",
       "    </tr>\n",
       "    <tr>\n",
       "      <th>3</th>\n",
       "      <td>B</td>\n",
       "      <td>1</td>\n",
       "      <td>C</td>\n",
       "      <td>D</td>\n",
       "    </tr>\n",
       "    <tr>\n",
       "      <th>4</th>\n",
       "      <td>A</td>\n",
       "      <td>1</td>\n",
       "      <td>1</td>\n",
       "      <td>D</td>\n",
       "    </tr>\n",
       "  </tbody>\n",
       "</table>\n",
       "</div>"
      ],
      "text/plain": [
       "   0  1  2  3\n",
       "0  A  1  B  F\n",
       "1  B  2  B  F\n",
       "2  A  2  B  F\n",
       "3  B  1  C  D\n",
       "4  A  1  1  D"
      ]
     },
     "execution_count": 16,
     "metadata": {},
     "output_type": "execute_result"
    }
   ],
   "source": [
    "df[\"Group\"].str.split(\"-\", expand=True)"
   ]
  },
  {
   "cell_type": "code",
   "execution_count": 17,
   "id": "5d4c54f8",
   "metadata": {},
   "outputs": [
    {
     "data": {
      "text/html": [
       "<div>\n",
       "<style scoped>\n",
       "    .dataframe tbody tr th:only-of-type {\n",
       "        vertical-align: middle;\n",
       "    }\n",
       "\n",
       "    .dataframe tbody tr th {\n",
       "        vertical-align: top;\n",
       "    }\n",
       "\n",
       "    .dataframe thead th {\n",
       "        text-align: right;\n",
       "    }\n",
       "</style>\n",
       "<table border=\"1\" class=\"dataframe\">\n",
       "  <thead>\n",
       "    <tr style=\"text-align: right;\">\n",
       "      <th></th>\n",
       "      <th>0</th>\n",
       "      <th>1</th>\n",
       "      <th>2</th>\n",
       "    </tr>\n",
       "  </thead>\n",
       "  <tbody>\n",
       "    <tr>\n",
       "      <th>0</th>\n",
       "      <td>A</td>\n",
       "      <td>1</td>\n",
       "      <td>B-F</td>\n",
       "    </tr>\n",
       "    <tr>\n",
       "      <th>1</th>\n",
       "      <td>B</td>\n",
       "      <td>2</td>\n",
       "      <td>B-F</td>\n",
       "    </tr>\n",
       "    <tr>\n",
       "      <th>2</th>\n",
       "      <td>A</td>\n",
       "      <td>2</td>\n",
       "      <td>B-F</td>\n",
       "    </tr>\n",
       "    <tr>\n",
       "      <th>3</th>\n",
       "      <td>B</td>\n",
       "      <td>1</td>\n",
       "      <td>C-D</td>\n",
       "    </tr>\n",
       "    <tr>\n",
       "      <th>4</th>\n",
       "      <td>A</td>\n",
       "      <td>1</td>\n",
       "      <td>1-D</td>\n",
       "    </tr>\n",
       "  </tbody>\n",
       "</table>\n",
       "</div>"
      ],
      "text/plain": [
       "   0  1    2\n",
       "0  A  1  B-F\n",
       "1  B  2  B-F\n",
       "2  A  2  B-F\n",
       "3  B  1  C-D\n",
       "4  A  1  1-D"
      ]
     },
     "execution_count": 17,
     "metadata": {},
     "output_type": "execute_result"
    }
   ],
   "source": [
    "df[\"Group\"].str.split(\"-\", expand=True, n=2)"
   ]
  },
  {
   "cell_type": "code",
   "execution_count": 18,
   "id": "d2b278c1",
   "metadata": {},
   "outputs": [
    {
     "data": {
      "text/html": [
       "<div>\n",
       "<style scoped>\n",
       "    .dataframe tbody tr th:only-of-type {\n",
       "        vertical-align: middle;\n",
       "    }\n",
       "\n",
       "    .dataframe tbody tr th {\n",
       "        vertical-align: top;\n",
       "    }\n",
       "\n",
       "    .dataframe thead th {\n",
       "        text-align: right;\n",
       "    }\n",
       "</style>\n",
       "<table border=\"1\" class=\"dataframe\">\n",
       "  <thead>\n",
       "    <tr style=\"text-align: right;\">\n",
       "      <th></th>\n",
       "      <th>0</th>\n",
       "      <th>1</th>\n",
       "    </tr>\n",
       "  </thead>\n",
       "  <tbody>\n",
       "    <tr>\n",
       "      <th>0</th>\n",
       "      <td>A</td>\n",
       "      <td>1-B-F</td>\n",
       "    </tr>\n",
       "    <tr>\n",
       "      <th>1</th>\n",
       "      <td>B</td>\n",
       "      <td>2-B-F</td>\n",
       "    </tr>\n",
       "    <tr>\n",
       "      <th>2</th>\n",
       "      <td>A</td>\n",
       "      <td>2-B-F</td>\n",
       "    </tr>\n",
       "    <tr>\n",
       "      <th>3</th>\n",
       "      <td>B</td>\n",
       "      <td>1-C-D</td>\n",
       "    </tr>\n",
       "    <tr>\n",
       "      <th>4</th>\n",
       "      <td>A</td>\n",
       "      <td>1-1-D</td>\n",
       "    </tr>\n",
       "  </tbody>\n",
       "</table>\n",
       "</div>"
      ],
      "text/plain": [
       "   0      1\n",
       "0  A  1-B-F\n",
       "1  B  2-B-F\n",
       "2  A  2-B-F\n",
       "3  B  1-C-D\n",
       "4  A  1-1-D"
      ]
     },
     "execution_count": 18,
     "metadata": {},
     "output_type": "execute_result"
    }
   ],
   "source": [
    "df[\"Group\"].str.split(\"-\", expand=True, n=1)"
   ]
  },
  {
   "cell_type": "markdown",
   "id": "47ce3dd6",
   "metadata": {},
   "source": [
    "## 11. Split from right"
   ]
  },
  {
   "cell_type": "markdown",
   "id": "c6a32ea2",
   "metadata": {},
   "source": [
    "* By default, splitting is done from the left. To do splitting from the right, use rsplit."
   ]
  },
  {
   "cell_type": "code",
   "execution_count": 19,
   "id": "11c58c65",
   "metadata": {},
   "outputs": [
    {
     "data": {
      "text/html": [
       "<div>\n",
       "<style scoped>\n",
       "    .dataframe tbody tr th:only-of-type {\n",
       "        vertical-align: middle;\n",
       "    }\n",
       "\n",
       "    .dataframe tbody tr th {\n",
       "        vertical-align: top;\n",
       "    }\n",
       "\n",
       "    .dataframe thead th {\n",
       "        text-align: right;\n",
       "    }\n",
       "</style>\n",
       "<table border=\"1\" class=\"dataframe\">\n",
       "  <thead>\n",
       "    <tr style=\"text-align: right;\">\n",
       "      <th></th>\n",
       "      <th>0</th>\n",
       "      <th>1</th>\n",
       "      <th>2</th>\n",
       "    </tr>\n",
       "  </thead>\n",
       "  <tbody>\n",
       "    <tr>\n",
       "      <th>0</th>\n",
       "      <td>A</td>\n",
       "      <td>1</td>\n",
       "      <td>B-F</td>\n",
       "    </tr>\n",
       "    <tr>\n",
       "      <th>1</th>\n",
       "      <td>B</td>\n",
       "      <td>2</td>\n",
       "      <td>B-F</td>\n",
       "    </tr>\n",
       "    <tr>\n",
       "      <th>2</th>\n",
       "      <td>A</td>\n",
       "      <td>2</td>\n",
       "      <td>B-F</td>\n",
       "    </tr>\n",
       "    <tr>\n",
       "      <th>3</th>\n",
       "      <td>B</td>\n",
       "      <td>1</td>\n",
       "      <td>C-D</td>\n",
       "    </tr>\n",
       "    <tr>\n",
       "      <th>4</th>\n",
       "      <td>A</td>\n",
       "      <td>1</td>\n",
       "      <td>1-D</td>\n",
       "    </tr>\n",
       "  </tbody>\n",
       "</table>\n",
       "</div>"
      ],
      "text/plain": [
       "   0  1    2\n",
       "0  A  1  B-F\n",
       "1  B  2  B-F\n",
       "2  A  2  B-F\n",
       "3  B  1  C-D\n",
       "4  A  1  1-D"
      ]
     },
     "execution_count": 19,
     "metadata": {},
     "output_type": "execute_result"
    }
   ],
   "source": [
    "df[\"Group\"].str.split(\"-\", expand=True, n=2)"
   ]
  },
  {
   "cell_type": "code",
   "execution_count": 20,
   "id": "72b6a33e",
   "metadata": {},
   "outputs": [
    {
     "data": {
      "text/html": [
       "<div>\n",
       "<style scoped>\n",
       "    .dataframe tbody tr th:only-of-type {\n",
       "        vertical-align: middle;\n",
       "    }\n",
       "\n",
       "    .dataframe tbody tr th {\n",
       "        vertical-align: top;\n",
       "    }\n",
       "\n",
       "    .dataframe thead th {\n",
       "        text-align: right;\n",
       "    }\n",
       "</style>\n",
       "<table border=\"1\" class=\"dataframe\">\n",
       "  <thead>\n",
       "    <tr style=\"text-align: right;\">\n",
       "      <th></th>\n",
       "      <th>0</th>\n",
       "      <th>1</th>\n",
       "      <th>2</th>\n",
       "    </tr>\n",
       "  </thead>\n",
       "  <tbody>\n",
       "    <tr>\n",
       "      <th>0</th>\n",
       "      <td>A-1</td>\n",
       "      <td>B</td>\n",
       "      <td>F</td>\n",
       "    </tr>\n",
       "    <tr>\n",
       "      <th>1</th>\n",
       "      <td>B-2</td>\n",
       "      <td>B</td>\n",
       "      <td>F</td>\n",
       "    </tr>\n",
       "    <tr>\n",
       "      <th>2</th>\n",
       "      <td>A-2</td>\n",
       "      <td>B</td>\n",
       "      <td>F</td>\n",
       "    </tr>\n",
       "    <tr>\n",
       "      <th>3</th>\n",
       "      <td>B-1</td>\n",
       "      <td>C</td>\n",
       "      <td>D</td>\n",
       "    </tr>\n",
       "    <tr>\n",
       "      <th>4</th>\n",
       "      <td>A-1</td>\n",
       "      <td>1</td>\n",
       "      <td>D</td>\n",
       "    </tr>\n",
       "  </tbody>\n",
       "</table>\n",
       "</div>"
      ],
      "text/plain": [
       "     0  1  2\n",
       "0  A-1  B  F\n",
       "1  B-2  B  F\n",
       "2  A-2  B  F\n",
       "3  B-1  C  D\n",
       "4  A-1  1  D"
      ]
     },
     "execution_count": 20,
     "metadata": {},
     "output_type": "execute_result"
    }
   ],
   "source": [
    "df[\"Group\"].str.rsplit(\"-\", expand=True, n=2)"
   ]
  },
  {
   "cell_type": "markdown",
   "id": "95b3e24f",
   "metadata": {},
   "source": [
    "## 12. Combining - 1"
   ]
  },
  {
   "cell_type": "code",
   "execution_count": 21,
   "id": "242c1f24",
   "metadata": {},
   "outputs": [
    {
     "data": {
      "text/html": [
       "<div>\n",
       "<style scoped>\n",
       "    .dataframe tbody tr th:only-of-type {\n",
       "        vertical-align: middle;\n",
       "    }\n",
       "\n",
       "    .dataframe tbody tr th {\n",
       "        vertical-align: top;\n",
       "    }\n",
       "\n",
       "    .dataframe thead th {\n",
       "        text-align: right;\n",
       "    }\n",
       "</style>\n",
       "<table border=\"1\" class=\"dataframe\">\n",
       "  <thead>\n",
       "    <tr style=\"text-align: right;\">\n",
       "      <th></th>\n",
       "      <th>Name</th>\n",
       "      <th>Address</th>\n",
       "      <th>Salary</th>\n",
       "      <th>Group</th>\n",
       "      <th>Category</th>\n",
       "      <th>State</th>\n",
       "      <th>City</th>\n",
       "    </tr>\n",
       "  </thead>\n",
       "  <tbody>\n",
       "    <tr>\n",
       "      <th>0</th>\n",
       "      <td>Jane</td>\n",
       "      <td>Houston,TX</td>\n",
       "      <td>64K-72K</td>\n",
       "      <td>A-1-B-F</td>\n",
       "      <td>1x</td>\n",
       "      <td>TX</td>\n",
       "      <td>Houston</td>\n",
       "    </tr>\n",
       "    <tr>\n",
       "      <th>1</th>\n",
       "      <td>James</td>\n",
       "      <td>Dallas,TX</td>\n",
       "      <td>62K-70K</td>\n",
       "      <td>B-2-B-F</td>\n",
       "      <td>1y</td>\n",
       "      <td>TX</td>\n",
       "      <td>Dallas</td>\n",
       "    </tr>\n",
       "    <tr>\n",
       "      <th>2</th>\n",
       "      <td>Matt</td>\n",
       "      <td>Chicago,IL</td>\n",
       "      <td>69K-76K</td>\n",
       "      <td>A-2-B-F</td>\n",
       "      <td>2x</td>\n",
       "      <td>IL</td>\n",
       "      <td>Chicago</td>\n",
       "    </tr>\n",
       "    <tr>\n",
       "      <th>3</th>\n",
       "      <td>Emily</td>\n",
       "      <td>Phoenix,AZ</td>\n",
       "      <td>62K-72K</td>\n",
       "      <td>B-1-C-D</td>\n",
       "      <td>1x</td>\n",
       "      <td>AZ</td>\n",
       "      <td>Phoenix</td>\n",
       "    </tr>\n",
       "    <tr>\n",
       "      <th>4</th>\n",
       "      <td>John</td>\n",
       "      <td>San Diego,CA</td>\n",
       "      <td>71K-78K</td>\n",
       "      <td>A-1-1-D</td>\n",
       "      <td>1y</td>\n",
       "      <td>CA</td>\n",
       "      <td>San Diego</td>\n",
       "    </tr>\n",
       "  </tbody>\n",
       "</table>\n",
       "</div>"
      ],
      "text/plain": [
       "    Name       Address   Salary    Group Category State       City\n",
       "0   Jane    Houston,TX  64K-72K  A-1-B-F       1x    TX    Houston\n",
       "1  James     Dallas,TX  62K-70K  B-2-B-F       1y    TX     Dallas\n",
       "2   Matt    Chicago,IL  69K-76K  A-2-B-F     2x      IL    Chicago\n",
       "3  Emily    Phoenix,AZ  62K-72K  B-1-C-D       1x    AZ    Phoenix\n",
       "4   John  San Diego,CA  71K-78K  A-1-1-D     1y      CA  San Diego"
      ]
     },
     "execution_count": 21,
     "metadata": {},
     "output_type": "execute_result"
    }
   ],
   "source": [
    "df"
   ]
  },
  {
   "cell_type": "code",
   "execution_count": 22,
   "id": "6946bf67",
   "metadata": {},
   "outputs": [
    {
     "data": {
      "text/plain": [
       "0      Houston,TX\n",
       "1       Dallas,TX\n",
       "2      Chicago,IL\n",
       "3      Phoenix,AZ\n",
       "4    San Diego,CA\n",
       "Name: City, dtype: string"
      ]
     },
     "execution_count": 22,
     "metadata": {},
     "output_type": "execute_result"
    }
   ],
   "source": [
    "df[\"City\"].str.cat(df[\"State\"], sep=\",\")"
   ]
  },
  {
   "cell_type": "markdown",
   "id": "41e47b6e",
   "metadata": {},
   "source": [
    "## 13. Combining - 2"
   ]
  },
  {
   "cell_type": "code",
   "execution_count": 23,
   "id": "2688aabc",
   "metadata": {},
   "outputs": [
    {
     "data": {
      "text/plain": [
       "0      Houston,TX\n",
       "1       Dallas,TX\n",
       "2      Chicago,IL\n",
       "3      Phoenix,AZ\n",
       "4    San Diego,CA\n",
       "dtype: string"
      ]
     },
     "execution_count": 23,
     "metadata": {},
     "output_type": "execute_result"
    }
   ],
   "source": [
    "df[\"City\"] + \",\" + df[\"State\"]"
   ]
  },
  {
   "cell_type": "markdown",
   "id": "26443c74",
   "metadata": {},
   "source": [
    "## 14. Indexing"
   ]
  },
  {
   "cell_type": "code",
   "execution_count": 24,
   "id": "90c640fd",
   "metadata": {},
   "outputs": [
    {
     "data": {
      "text/html": [
       "<div>\n",
       "<style scoped>\n",
       "    .dataframe tbody tr th:only-of-type {\n",
       "        vertical-align: middle;\n",
       "    }\n",
       "\n",
       "    .dataframe tbody tr th {\n",
       "        vertical-align: top;\n",
       "    }\n",
       "\n",
       "    .dataframe thead th {\n",
       "        text-align: right;\n",
       "    }\n",
       "</style>\n",
       "<table border=\"1\" class=\"dataframe\">\n",
       "  <thead>\n",
       "    <tr style=\"text-align: right;\">\n",
       "      <th></th>\n",
       "      <th>Name</th>\n",
       "      <th>Address</th>\n",
       "      <th>Salary</th>\n",
       "      <th>Group</th>\n",
       "      <th>Category</th>\n",
       "      <th>State</th>\n",
       "      <th>City</th>\n",
       "    </tr>\n",
       "  </thead>\n",
       "  <tbody>\n",
       "    <tr>\n",
       "      <th>0</th>\n",
       "      <td>Jane</td>\n",
       "      <td>Houston,TX</td>\n",
       "      <td>64K-72K</td>\n",
       "      <td>A-1-B-F</td>\n",
       "      <td>1x</td>\n",
       "      <td>TX</td>\n",
       "      <td>Houston</td>\n",
       "    </tr>\n",
       "    <tr>\n",
       "      <th>1</th>\n",
       "      <td>James</td>\n",
       "      <td>Dallas,TX</td>\n",
       "      <td>62K-70K</td>\n",
       "      <td>B-2-B-F</td>\n",
       "      <td>1y</td>\n",
       "      <td>TX</td>\n",
       "      <td>Dallas</td>\n",
       "    </tr>\n",
       "    <tr>\n",
       "      <th>2</th>\n",
       "      <td>Matt</td>\n",
       "      <td>Chicago,IL</td>\n",
       "      <td>69K-76K</td>\n",
       "      <td>A-2-B-F</td>\n",
       "      <td>2x</td>\n",
       "      <td>IL</td>\n",
       "      <td>Chicago</td>\n",
       "    </tr>\n",
       "    <tr>\n",
       "      <th>3</th>\n",
       "      <td>Emily</td>\n",
       "      <td>Phoenix,AZ</td>\n",
       "      <td>62K-72K</td>\n",
       "      <td>B-1-C-D</td>\n",
       "      <td>1x</td>\n",
       "      <td>AZ</td>\n",
       "      <td>Phoenix</td>\n",
       "    </tr>\n",
       "    <tr>\n",
       "      <th>4</th>\n",
       "      <td>John</td>\n",
       "      <td>San Diego,CA</td>\n",
       "      <td>71K-78K</td>\n",
       "      <td>A-1-1-D</td>\n",
       "      <td>1y</td>\n",
       "      <td>CA</td>\n",
       "      <td>San Diego</td>\n",
       "    </tr>\n",
       "  </tbody>\n",
       "</table>\n",
       "</div>"
      ],
      "text/plain": [
       "    Name       Address   Salary    Group Category State       City\n",
       "0   Jane    Houston,TX  64K-72K  A-1-B-F       1x    TX    Houston\n",
       "1  James     Dallas,TX  62K-70K  B-2-B-F       1y    TX     Dallas\n",
       "2   Matt    Chicago,IL  69K-76K  A-2-B-F     2x      IL    Chicago\n",
       "3  Emily    Phoenix,AZ  62K-72K  B-1-C-D       1x    AZ    Phoenix\n",
       "4   John  San Diego,CA  71K-78K  A-1-1-D     1y      CA  San Diego"
      ]
     },
     "execution_count": 24,
     "metadata": {},
     "output_type": "execute_result"
    }
   ],
   "source": [
    "df"
   ]
  },
  {
   "cell_type": "code",
   "execution_count": 25,
   "id": "e1a55aa6",
   "metadata": {},
   "outputs": [
    {
     "data": {
      "text/plain": [
       "0    64K\n",
       "1    62K\n",
       "2    69K\n",
       "3    62K\n",
       "4    71K\n",
       "Name: Salary, dtype: string"
      ]
     },
     "execution_count": 25,
     "metadata": {},
     "output_type": "execute_result"
    }
   ],
   "source": [
    "df[\"Salary\"].str[:3]"
   ]
  },
  {
   "cell_type": "markdown",
   "id": "5e8c667e",
   "metadata": {},
   "source": [
    "## 15. Indexing structure"
   ]
  },
  {
   "cell_type": "markdown",
   "id": "2fc7abdd",
   "metadata": {},
   "source": [
    "<img src=\"Assets/string_1.png\" class=\"juno_ui_theme_light\" style=\"width:500px\">"
   ]
  },
  {
   "cell_type": "markdown",
   "id": "b59d1375",
   "metadata": {},
   "source": [
    "* Default start value is the index of the first character.\n",
    "* Default end value is the index of the last character.\n",
    "* Default step size is 1."
   ]
  },
  {
   "cell_type": "code",
   "execution_count": 26,
   "id": "90c2fc42",
   "metadata": {},
   "outputs": [
    {
     "data": {
      "text/plain": [
       "0     Jane\n",
       "1    James\n",
       "2     Matt\n",
       "3    Emily\n",
       "4     John\n",
       "Name: Name, dtype: string"
      ]
     },
     "execution_count": 26,
     "metadata": {},
     "output_type": "execute_result"
    }
   ],
   "source": [
    "df[\"Name\"]"
   ]
  },
  {
   "cell_type": "code",
   "execution_count": 27,
   "id": "cca121bd",
   "metadata": {},
   "outputs": [
    {
     "data": {
      "text/plain": [
       "0    Jan\n",
       "1    Jam\n",
       "2    Mat\n",
       "3    Emi\n",
       "4    Joh\n",
       "Name: Name, dtype: string"
      ]
     },
     "execution_count": 27,
     "metadata": {},
     "output_type": "execute_result"
    }
   ],
   "source": [
    "df[\"Name\"].str[0:3] # index starts from 0 and upper bound is exclusive"
   ]
  },
  {
   "cell_type": "code",
   "execution_count": 28,
   "id": "d5612ee6",
   "metadata": {},
   "outputs": [
    {
     "data": {
      "text/plain": [
       "0    an\n",
       "1    am\n",
       "2    at\n",
       "3    mi\n",
       "4    oh\n",
       "Name: Name, dtype: string"
      ]
     },
     "execution_count": 28,
     "metadata": {},
     "output_type": "execute_result"
    }
   ],
   "source": [
    "df[\"Name\"].str[1:3]"
   ]
  },
  {
   "cell_type": "markdown",
   "id": "50a3d100",
   "metadata": {},
   "source": [
    "## 16. Step size - 1"
   ]
  },
  {
   "cell_type": "markdown",
   "id": "8bffe144",
   "metadata": {},
   "source": [
    "* Defaul step size is 1."
   ]
  },
  {
   "cell_type": "code",
   "execution_count": 29,
   "id": "ee942037",
   "metadata": {},
   "outputs": [
    {
     "data": {
      "text/plain": [
       "0     Jane\n",
       "1    James\n",
       "2     Matt\n",
       "3    Emily\n",
       "4     John\n",
       "Name: Name, dtype: string"
      ]
     },
     "execution_count": 29,
     "metadata": {},
     "output_type": "execute_result"
    }
   ],
   "source": [
    "df[\"Name\"]"
   ]
  },
  {
   "cell_type": "code",
   "execution_count": 30,
   "id": "69dc9f48",
   "metadata": {},
   "outputs": [
    {
     "data": {
      "text/plain": [
       "0     Jn\n",
       "1    Jms\n",
       "2     Mt\n",
       "3    Eiy\n",
       "4     Jh\n",
       "Name: Name, dtype: string"
      ]
     },
     "execution_count": 30,
     "metadata": {},
     "output_type": "execute_result"
    }
   ],
   "source": [
    "df[\"Name\"].str[::2]"
   ]
  },
  {
   "cell_type": "markdown",
   "id": "1398be10",
   "metadata": {},
   "source": [
    "## 17. Step size - 2"
   ]
  },
  {
   "cell_type": "code",
   "execution_count": 31,
   "id": "299678b4",
   "metadata": {},
   "outputs": [
    {
     "data": {
      "text/plain": [
       "0     enaJ\n",
       "1    semaJ\n",
       "2     ttaM\n",
       "3    ylimE\n",
       "4     nhoJ\n",
       "Name: Name, dtype: string"
      ]
     },
     "execution_count": 31,
     "metadata": {},
     "output_type": "execute_result"
    }
   ],
   "source": [
    "df[\"Name\"].str[::-1]"
   ]
  },
  {
   "cell_type": "markdown",
   "id": "21380457",
   "metadata": {},
   "source": [
    "## 18. Stripping \n",
    "\n",
    "* Remove spaces or any other characters at the beginning or end of a string."
   ]
  },
  {
   "cell_type": "code",
   "execution_count": 32,
   "id": "cc753ff7",
   "metadata": {},
   "outputs": [
    {
     "data": {
      "text/plain": [
       "0      1x\n",
       "1      1y\n",
       "2    2x  \n",
       "3      1x\n",
       "4    1y  \n",
       "Name: Category, dtype: string"
      ]
     },
     "execution_count": 32,
     "metadata": {},
     "output_type": "execute_result"
    }
   ],
   "source": [
    "df[\"Category\"]"
   ]
  },
  {
   "cell_type": "code",
   "execution_count": 33,
   "id": "580d8638",
   "metadata": {},
   "outputs": [
    {
     "data": {
      "text/plain": [
       "0    1x\n",
       "1    1y\n",
       "2    2x\n",
       "3    1x\n",
       "4    1y\n",
       "Name: Category, dtype: string"
      ]
     },
     "execution_count": 33,
     "metadata": {},
     "output_type": "execute_result"
    }
   ],
   "source": [
    "df[\"Category\"].str.strip()"
   ]
  },
  {
   "cell_type": "markdown",
   "id": "b7e7c321",
   "metadata": {},
   "source": [
    "## 19. Left strip"
   ]
  },
  {
   "cell_type": "code",
   "execution_count": 34,
   "id": "6ac25386",
   "metadata": {},
   "outputs": [
    {
     "data": {
      "text/plain": [
       "0      1x\n",
       "1      1y\n",
       "2      2x\n",
       "3      1x\n",
       "4      1y\n",
       "Name: Category, dtype: string"
      ]
     },
     "execution_count": 34,
     "metadata": {},
     "output_type": "execute_result"
    }
   ],
   "source": [
    "df[\"Category\"].str.rstrip()"
   ]
  },
  {
   "cell_type": "markdown",
   "id": "7922b0f2",
   "metadata": {},
   "source": [
    "## 20. Right strip"
   ]
  },
  {
   "cell_type": "code",
   "execution_count": 35,
   "id": "2df86eeb",
   "metadata": {},
   "outputs": [
    {
     "data": {
      "text/plain": [
       "0    64K-72\n",
       "1    62K-70\n",
       "2    69K-76\n",
       "3    62K-72\n",
       "4    71K-78\n",
       "Name: Salary, dtype: string"
      ]
     },
     "execution_count": 35,
     "metadata": {},
     "output_type": "execute_result"
    }
   ],
   "source": [
    "df[\"Salary\"].str.rstrip(\"K\")"
   ]
  },
  {
   "cell_type": "markdown",
   "id": "3e4af884",
   "metadata": {},
   "source": [
    "## 21. Replacing - 1\n",
    "\n",
    "* Replace a character or a sequence of characters in strings"
   ]
  },
  {
   "cell_type": "code",
   "execution_count": 36,
   "id": "835247b8",
   "metadata": {},
   "outputs": [
    {
     "data": {
      "text/plain": [
       "0    64-72\n",
       "1    62-70\n",
       "2    69-76\n",
       "3    62-72\n",
       "4    71-78\n",
       "Name: Salary, dtype: string"
      ]
     },
     "execution_count": 36,
     "metadata": {},
     "output_type": "execute_result"
    }
   ],
   "source": [
    "df[\"Salary\"].str.replace(\"K\", \"\")"
   ]
  },
  {
   "cell_type": "markdown",
   "id": "13362eea",
   "metadata": {},
   "source": [
    "## 22. Replacing - 2"
   ]
  },
  {
   "cell_type": "code",
   "execution_count": 37,
   "id": "fe5d874c",
   "metadata": {},
   "outputs": [
    {
     "data": {
      "text/html": [
       "<div>\n",
       "<style scoped>\n",
       "    .dataframe tbody tr th:only-of-type {\n",
       "        vertical-align: middle;\n",
       "    }\n",
       "\n",
       "    .dataframe tbody tr th {\n",
       "        vertical-align: top;\n",
       "    }\n",
       "\n",
       "    .dataframe thead th {\n",
       "        text-align: right;\n",
       "    }\n",
       "</style>\n",
       "<table border=\"1\" class=\"dataframe\">\n",
       "  <thead>\n",
       "    <tr style=\"text-align: right;\">\n",
       "      <th></th>\n",
       "      <th>Name</th>\n",
       "      <th>Address</th>\n",
       "      <th>Salary</th>\n",
       "      <th>Group</th>\n",
       "      <th>Category</th>\n",
       "      <th>State</th>\n",
       "      <th>City</th>\n",
       "      <th>Profession</th>\n",
       "    </tr>\n",
       "  </thead>\n",
       "  <tbody>\n",
       "    <tr>\n",
       "      <th>0</th>\n",
       "      <td>Jane</td>\n",
       "      <td>Houston,TX</td>\n",
       "      <td>64K-72K</td>\n",
       "      <td>A-1-B-F</td>\n",
       "      <td>1x</td>\n",
       "      <td>TX</td>\n",
       "      <td>Houston</td>\n",
       "      <td>dr</td>\n",
       "    </tr>\n",
       "    <tr>\n",
       "      <th>1</th>\n",
       "      <td>James</td>\n",
       "      <td>Dallas,TX</td>\n",
       "      <td>62K-70K</td>\n",
       "      <td>B-2-B-F</td>\n",
       "      <td>1y</td>\n",
       "      <td>TX</td>\n",
       "      <td>Dallas</td>\n",
       "      <td>doctor</td>\n",
       "    </tr>\n",
       "    <tr>\n",
       "      <th>2</th>\n",
       "      <td>Matt</td>\n",
       "      <td>Chicago,IL</td>\n",
       "      <td>69K-76K</td>\n",
       "      <td>A-2-B-F</td>\n",
       "      <td>2x</td>\n",
       "      <td>IL</td>\n",
       "      <td>Chicago</td>\n",
       "      <td>Dr</td>\n",
       "    </tr>\n",
       "    <tr>\n",
       "      <th>3</th>\n",
       "      <td>Emily</td>\n",
       "      <td>Phoenix,AZ</td>\n",
       "      <td>62K-72K</td>\n",
       "      <td>B-1-C-D</td>\n",
       "      <td>1x</td>\n",
       "      <td>AZ</td>\n",
       "      <td>Phoenix</td>\n",
       "      <td>engineer</td>\n",
       "    </tr>\n",
       "    <tr>\n",
       "      <th>4</th>\n",
       "      <td>John</td>\n",
       "      <td>San Diego,CA</td>\n",
       "      <td>71K-78K</td>\n",
       "      <td>A-1-1-D</td>\n",
       "      <td>1y</td>\n",
       "      <td>CA</td>\n",
       "      <td>San Diego</td>\n",
       "      <td>nurse</td>\n",
       "    </tr>\n",
       "  </tbody>\n",
       "</table>\n",
       "</div>"
      ],
      "text/plain": [
       "    Name       Address   Salary    Group Category State       City Profession\n",
       "0   Jane    Houston,TX  64K-72K  A-1-B-F       1x    TX    Houston         dr\n",
       "1  James     Dallas,TX  62K-70K  B-2-B-F       1y    TX     Dallas     doctor\n",
       "2   Matt    Chicago,IL  69K-76K  A-2-B-F     2x      IL    Chicago         Dr\n",
       "3  Emily    Phoenix,AZ  62K-72K  B-1-C-D       1x    AZ    Phoenix   engineer\n",
       "4   John  San Diego,CA  71K-78K  A-1-1-D     1y      CA  San Diego      nurse"
      ]
     },
     "execution_count": 37,
     "metadata": {},
     "output_type": "execute_result"
    }
   ],
   "source": [
    "df[\"Profession\"] = [\"dr\", \"doctor\", \"Dr\", \"engineer\", \"nurse\"]\n",
    "\n",
    "df"
   ]
  },
  {
   "cell_type": "code",
   "execution_count": 38,
   "id": "cdeb92d5",
   "metadata": {},
   "outputs": [
    {
     "data": {
      "text/plain": [
       "0      doctor\n",
       "1      doctor\n",
       "2          Dr\n",
       "3    engineer\n",
       "4       nurse\n",
       "Name: Profession, dtype: object"
      ]
     },
     "execution_count": 38,
     "metadata": {},
     "output_type": "execute_result"
    }
   ],
   "source": [
    "df[\"Profession\"].str.replace(pat=\"dr\", repl=\"doctor\")"
   ]
  },
  {
   "cell_type": "markdown",
   "id": "2448e454",
   "metadata": {},
   "source": [
    "## 23. Replacing - 3"
   ]
  },
  {
   "cell_type": "code",
   "execution_count": 39,
   "id": "fc86ad44",
   "metadata": {},
   "outputs": [
    {
     "data": {
      "text/plain": [
       "0      doctor\n",
       "1      doctor\n",
       "2      doctor\n",
       "3    engineer\n",
       "4       nurse\n",
       "Name: Profession, dtype: object"
      ]
     },
     "execution_count": 39,
     "metadata": {},
     "output_type": "execute_result"
    }
   ],
   "source": [
    "df[\"Profession\"].str.replace(pat=\"dr\", repl=\"doctor\", case=False)"
   ]
  },
  {
   "cell_type": "code",
   "execution_count": 40,
   "id": "22008e62",
   "metadata": {},
   "outputs": [
    {
     "data": {
      "text/html": [
       "<div>\n",
       "<style scoped>\n",
       "    .dataframe tbody tr th:only-of-type {\n",
       "        vertical-align: middle;\n",
       "    }\n",
       "\n",
       "    .dataframe tbody tr th {\n",
       "        vertical-align: top;\n",
       "    }\n",
       "\n",
       "    .dataframe thead th {\n",
       "        text-align: right;\n",
       "    }\n",
       "</style>\n",
       "<table border=\"1\" class=\"dataframe\">\n",
       "  <thead>\n",
       "    <tr style=\"text-align: right;\">\n",
       "      <th></th>\n",
       "      <th>Name</th>\n",
       "      <th>Address</th>\n",
       "      <th>Salary</th>\n",
       "      <th>Group</th>\n",
       "      <th>Category</th>\n",
       "      <th>State</th>\n",
       "      <th>City</th>\n",
       "      <th>Profession</th>\n",
       "    </tr>\n",
       "  </thead>\n",
       "  <tbody>\n",
       "    <tr>\n",
       "      <th>0</th>\n",
       "      <td>Jane</td>\n",
       "      <td>Houston,TX</td>\n",
       "      <td>64K-72K</td>\n",
       "      <td>A-1-B-F</td>\n",
       "      <td>1x</td>\n",
       "      <td>TX</td>\n",
       "      <td>Houston</td>\n",
       "      <td>doctor</td>\n",
       "    </tr>\n",
       "    <tr>\n",
       "      <th>1</th>\n",
       "      <td>James</td>\n",
       "      <td>Dallas,TX</td>\n",
       "      <td>62K-70K</td>\n",
       "      <td>B-2-B-F</td>\n",
       "      <td>1y</td>\n",
       "      <td>TX</td>\n",
       "      <td>Dallas</td>\n",
       "      <td>doctor</td>\n",
       "    </tr>\n",
       "    <tr>\n",
       "      <th>2</th>\n",
       "      <td>Matt</td>\n",
       "      <td>Chicago,IL</td>\n",
       "      <td>69K-76K</td>\n",
       "      <td>A-2-B-F</td>\n",
       "      <td>2x</td>\n",
       "      <td>IL</td>\n",
       "      <td>Chicago</td>\n",
       "      <td>doctor</td>\n",
       "    </tr>\n",
       "    <tr>\n",
       "      <th>3</th>\n",
       "      <td>Emily</td>\n",
       "      <td>Phoenix,AZ</td>\n",
       "      <td>62K-72K</td>\n",
       "      <td>B-1-C-D</td>\n",
       "      <td>1x</td>\n",
       "      <td>AZ</td>\n",
       "      <td>Phoenix</td>\n",
       "      <td>engineer</td>\n",
       "    </tr>\n",
       "    <tr>\n",
       "      <th>4</th>\n",
       "      <td>John</td>\n",
       "      <td>San Diego,CA</td>\n",
       "      <td>71K-78K</td>\n",
       "      <td>A-1-1-D</td>\n",
       "      <td>1y</td>\n",
       "      <td>CA</td>\n",
       "      <td>San Diego</td>\n",
       "      <td>nurse</td>\n",
       "    </tr>\n",
       "  </tbody>\n",
       "</table>\n",
       "</div>"
      ],
      "text/plain": [
       "    Name       Address   Salary    Group Category State       City Profession\n",
       "0   Jane    Houston,TX  64K-72K  A-1-B-F       1x    TX    Houston     doctor\n",
       "1  James     Dallas,TX  62K-70K  B-2-B-F       1y    TX     Dallas     doctor\n",
       "2   Matt    Chicago,IL  69K-76K  A-2-B-F     2x      IL    Chicago     doctor\n",
       "3  Emily    Phoenix,AZ  62K-72K  B-1-C-D       1x    AZ    Phoenix   engineer\n",
       "4   John  San Diego,CA  71K-78K  A-1-1-D     1y      CA  San Diego      nurse"
      ]
     },
     "execution_count": 40,
     "metadata": {},
     "output_type": "execute_result"
    }
   ],
   "source": [
    "df[\"Profession\"] = df[\"Profession\"].str.replace(pat=\"dr\", repl=\"doctor\", case=False)\n",
    "\n",
    "df"
   ]
  },
  {
   "cell_type": "markdown",
   "id": "c7f60281",
   "metadata": {},
   "source": [
    "## 24. Pandas replace - 1\n",
    "\n",
    "* The replace function of Pandas"
   ]
  },
  {
   "cell_type": "code",
   "execution_count": 41,
   "id": "8407c178",
   "metadata": {},
   "outputs": [
    {
     "data": {
      "text/plain": [
       "0         doc\n",
       "1         doc\n",
       "2         doc\n",
       "3    engineer\n",
       "4       nurse\n",
       "Name: Profession, dtype: object"
      ]
     },
     "execution_count": 41,
     "metadata": {},
     "output_type": "execute_result"
    }
   ],
   "source": [
    "df[\"Profession\"].replace(to_replace=\"doctor\", value=\"doc\")"
   ]
  },
  {
   "cell_type": "markdown",
   "id": "df6e0fae",
   "metadata": {},
   "source": [
    "## 25. Pandas replace - 2"
   ]
  },
  {
   "cell_type": "code",
   "execution_count": 42,
   "id": "95a6bf95",
   "metadata": {},
   "outputs": [
    {
     "data": {
      "text/plain": [
       "0      doc\n",
       "1      doc\n",
       "2      doc\n",
       "3      eng\n",
       "4    nurse\n",
       "Name: Profession, dtype: object"
      ]
     },
     "execution_count": 42,
     "metadata": {},
     "output_type": "execute_result"
    }
   ],
   "source": [
    "df[\"Profession\"].replace(\n",
    "    to_replace={\"doctor\": \"doc\", \"engineer\": \"eng\"}\n",
    ")"
   ]
  },
  {
   "cell_type": "markdown",
   "id": "c2544220",
   "metadata": {},
   "source": [
    "## 26. Filtering - startswith - 1"
   ]
  },
  {
   "cell_type": "code",
   "execution_count": 43,
   "id": "fc6472eb",
   "metadata": {},
   "outputs": [
    {
     "data": {
      "text/html": [
       "<div>\n",
       "<style scoped>\n",
       "    .dataframe tbody tr th:only-of-type {\n",
       "        vertical-align: middle;\n",
       "    }\n",
       "\n",
       "    .dataframe tbody tr th {\n",
       "        vertical-align: top;\n",
       "    }\n",
       "\n",
       "    .dataframe thead th {\n",
       "        text-align: right;\n",
       "    }\n",
       "</style>\n",
       "<table border=\"1\" class=\"dataframe\">\n",
       "  <thead>\n",
       "    <tr style=\"text-align: right;\">\n",
       "      <th></th>\n",
       "      <th>Name</th>\n",
       "      <th>Address</th>\n",
       "      <th>Salary</th>\n",
       "      <th>Group</th>\n",
       "      <th>Category</th>\n",
       "      <th>State</th>\n",
       "      <th>City</th>\n",
       "      <th>Profession</th>\n",
       "    </tr>\n",
       "  </thead>\n",
       "  <tbody>\n",
       "    <tr>\n",
       "      <th>0</th>\n",
       "      <td>Jane</td>\n",
       "      <td>Houston,TX</td>\n",
       "      <td>64K-72K</td>\n",
       "      <td>A-1-B-F</td>\n",
       "      <td>1x</td>\n",
       "      <td>TX</td>\n",
       "      <td>Houston</td>\n",
       "      <td>doctor</td>\n",
       "    </tr>\n",
       "    <tr>\n",
       "      <th>1</th>\n",
       "      <td>James</td>\n",
       "      <td>Dallas,TX</td>\n",
       "      <td>62K-70K</td>\n",
       "      <td>B-2-B-F</td>\n",
       "      <td>1y</td>\n",
       "      <td>TX</td>\n",
       "      <td>Dallas</td>\n",
       "      <td>doctor</td>\n",
       "    </tr>\n",
       "    <tr>\n",
       "      <th>2</th>\n",
       "      <td>Matt</td>\n",
       "      <td>Chicago,IL</td>\n",
       "      <td>69K-76K</td>\n",
       "      <td>A-2-B-F</td>\n",
       "      <td>2x</td>\n",
       "      <td>IL</td>\n",
       "      <td>Chicago</td>\n",
       "      <td>doctor</td>\n",
       "    </tr>\n",
       "    <tr>\n",
       "      <th>3</th>\n",
       "      <td>Emily</td>\n",
       "      <td>Phoenix,AZ</td>\n",
       "      <td>62K-72K</td>\n",
       "      <td>B-1-C-D</td>\n",
       "      <td>1x</td>\n",
       "      <td>AZ</td>\n",
       "      <td>Phoenix</td>\n",
       "      <td>engineer</td>\n",
       "    </tr>\n",
       "    <tr>\n",
       "      <th>4</th>\n",
       "      <td>John</td>\n",
       "      <td>San Diego,CA</td>\n",
       "      <td>71K-78K</td>\n",
       "      <td>A-1-1-D</td>\n",
       "      <td>1y</td>\n",
       "      <td>CA</td>\n",
       "      <td>San Diego</td>\n",
       "      <td>nurse</td>\n",
       "    </tr>\n",
       "  </tbody>\n",
       "</table>\n",
       "</div>"
      ],
      "text/plain": [
       "    Name       Address   Salary    Group Category State       City Profession\n",
       "0   Jane    Houston,TX  64K-72K  A-1-B-F       1x    TX    Houston     doctor\n",
       "1  James     Dallas,TX  62K-70K  B-2-B-F       1y    TX     Dallas     doctor\n",
       "2   Matt    Chicago,IL  69K-76K  A-2-B-F     2x      IL    Chicago     doctor\n",
       "3  Emily    Phoenix,AZ  62K-72K  B-1-C-D       1x    AZ    Phoenix   engineer\n",
       "4   John  San Diego,CA  71K-78K  A-1-1-D     1y      CA  San Diego      nurse"
      ]
     },
     "execution_count": 43,
     "metadata": {},
     "output_type": "execute_result"
    }
   ],
   "source": [
    "df"
   ]
  },
  {
   "cell_type": "code",
   "execution_count": 44,
   "id": "3b414ce9",
   "metadata": {},
   "outputs": [
    {
     "data": {
      "text/plain": [
       "0     True\n",
       "1     True\n",
       "2    False\n",
       "3    False\n",
       "4     True\n",
       "Name: Name, dtype: boolean"
      ]
     },
     "execution_count": 44,
     "metadata": {},
     "output_type": "execute_result"
    }
   ],
   "source": [
    "df[\"Name\"].str.startswith(\"J\")"
   ]
  },
  {
   "cell_type": "code",
   "execution_count": 45,
   "id": "2fd10912",
   "metadata": {},
   "outputs": [
    {
     "data": {
      "text/html": [
       "<div>\n",
       "<style scoped>\n",
       "    .dataframe tbody tr th:only-of-type {\n",
       "        vertical-align: middle;\n",
       "    }\n",
       "\n",
       "    .dataframe tbody tr th {\n",
       "        vertical-align: top;\n",
       "    }\n",
       "\n",
       "    .dataframe thead th {\n",
       "        text-align: right;\n",
       "    }\n",
       "</style>\n",
       "<table border=\"1\" class=\"dataframe\">\n",
       "  <thead>\n",
       "    <tr style=\"text-align: right;\">\n",
       "      <th></th>\n",
       "      <th>Name</th>\n",
       "      <th>Address</th>\n",
       "      <th>Salary</th>\n",
       "      <th>Group</th>\n",
       "      <th>Category</th>\n",
       "      <th>State</th>\n",
       "      <th>City</th>\n",
       "      <th>Profession</th>\n",
       "    </tr>\n",
       "  </thead>\n",
       "  <tbody>\n",
       "    <tr>\n",
       "      <th>0</th>\n",
       "      <td>Jane</td>\n",
       "      <td>Houston,TX</td>\n",
       "      <td>64K-72K</td>\n",
       "      <td>A-1-B-F</td>\n",
       "      <td>1x</td>\n",
       "      <td>TX</td>\n",
       "      <td>Houston</td>\n",
       "      <td>doctor</td>\n",
       "    </tr>\n",
       "    <tr>\n",
       "      <th>1</th>\n",
       "      <td>James</td>\n",
       "      <td>Dallas,TX</td>\n",
       "      <td>62K-70K</td>\n",
       "      <td>B-2-B-F</td>\n",
       "      <td>1y</td>\n",
       "      <td>TX</td>\n",
       "      <td>Dallas</td>\n",
       "      <td>doctor</td>\n",
       "    </tr>\n",
       "    <tr>\n",
       "      <th>4</th>\n",
       "      <td>John</td>\n",
       "      <td>San Diego,CA</td>\n",
       "      <td>71K-78K</td>\n",
       "      <td>A-1-1-D</td>\n",
       "      <td>1y</td>\n",
       "      <td>CA</td>\n",
       "      <td>San Diego</td>\n",
       "      <td>nurse</td>\n",
       "    </tr>\n",
       "  </tbody>\n",
       "</table>\n",
       "</div>"
      ],
      "text/plain": [
       "    Name       Address   Salary    Group Category State       City Profession\n",
       "0   Jane    Houston,TX  64K-72K  A-1-B-F       1x    TX    Houston     doctor\n",
       "1  James     Dallas,TX  62K-70K  B-2-B-F       1y    TX     Dallas     doctor\n",
       "4   John  San Diego,CA  71K-78K  A-1-1-D     1y      CA  San Diego      nurse"
      ]
     },
     "execution_count": 45,
     "metadata": {},
     "output_type": "execute_result"
    }
   ],
   "source": [
    "df[df[\"Name\"].str.startswith(\"J\")]"
   ]
  },
  {
   "cell_type": "markdown",
   "id": "56cfa2d0",
   "metadata": {},
   "source": [
    "## 27. Filtering - startswith - 2"
   ]
  },
  {
   "cell_type": "code",
   "execution_count": 46,
   "id": "fddd6b87",
   "metadata": {},
   "outputs": [
    {
     "data": {
      "text/html": [
       "<div>\n",
       "<style scoped>\n",
       "    .dataframe tbody tr th:only-of-type {\n",
       "        vertical-align: middle;\n",
       "    }\n",
       "\n",
       "    .dataframe tbody tr th {\n",
       "        vertical-align: top;\n",
       "    }\n",
       "\n",
       "    .dataframe thead th {\n",
       "        text-align: right;\n",
       "    }\n",
       "</style>\n",
       "<table border=\"1\" class=\"dataframe\">\n",
       "  <thead>\n",
       "    <tr style=\"text-align: right;\">\n",
       "      <th></th>\n",
       "      <th>Name</th>\n",
       "      <th>Address</th>\n",
       "      <th>Salary</th>\n",
       "      <th>Group</th>\n",
       "      <th>Category</th>\n",
       "      <th>State</th>\n",
       "      <th>City</th>\n",
       "      <th>Profession</th>\n",
       "    </tr>\n",
       "  </thead>\n",
       "  <tbody>\n",
       "    <tr>\n",
       "      <th>0</th>\n",
       "      <td>Jane</td>\n",
       "      <td>Houston,TX</td>\n",
       "      <td>64K-72K</td>\n",
       "      <td>A-1-B-F</td>\n",
       "      <td>1x</td>\n",
       "      <td>TX</td>\n",
       "      <td>Houston</td>\n",
       "      <td>doctor</td>\n",
       "    </tr>\n",
       "    <tr>\n",
       "      <th>1</th>\n",
       "      <td>James</td>\n",
       "      <td>Dallas,TX</td>\n",
       "      <td>62K-70K</td>\n",
       "      <td>B-2-B-F</td>\n",
       "      <td>1y</td>\n",
       "      <td>TX</td>\n",
       "      <td>Dallas</td>\n",
       "      <td>doctor</td>\n",
       "    </tr>\n",
       "  </tbody>\n",
       "</table>\n",
       "</div>"
      ],
      "text/plain": [
       "    Name     Address   Salary    Group Category State     City Profession\n",
       "0   Jane  Houston,TX  64K-72K  A-1-B-F       1x    TX  Houston     doctor\n",
       "1  James   Dallas,TX  62K-70K  B-2-B-F       1y    TX   Dallas     doctor"
      ]
     },
     "execution_count": 46,
     "metadata": {},
     "output_type": "execute_result"
    }
   ],
   "source": [
    "df[df[\"Name\"].str.startswith(\"Ja\")]"
   ]
  },
  {
   "cell_type": "code",
   "execution_count": 47,
   "id": "015d08c0",
   "metadata": {},
   "outputs": [
    {
     "data": {
      "text/html": [
       "<div>\n",
       "<style scoped>\n",
       "    .dataframe tbody tr th:only-of-type {\n",
       "        vertical-align: middle;\n",
       "    }\n",
       "\n",
       "    .dataframe tbody tr th {\n",
       "        vertical-align: top;\n",
       "    }\n",
       "\n",
       "    .dataframe thead th {\n",
       "        text-align: right;\n",
       "    }\n",
       "</style>\n",
       "<table border=\"1\" class=\"dataframe\">\n",
       "  <thead>\n",
       "    <tr style=\"text-align: right;\">\n",
       "      <th></th>\n",
       "      <th>Name</th>\n",
       "      <th>Address</th>\n",
       "      <th>Salary</th>\n",
       "      <th>Group</th>\n",
       "      <th>Category</th>\n",
       "      <th>State</th>\n",
       "      <th>City</th>\n",
       "      <th>Profession</th>\n",
       "    </tr>\n",
       "  </thead>\n",
       "  <tbody>\n",
       "  </tbody>\n",
       "</table>\n",
       "</div>"
      ],
      "text/plain": [
       "Empty DataFrame\n",
       "Columns: [Name, Address, Salary, Group, Category, State, City, Profession]\n",
       "Index: []"
      ]
     },
     "execution_count": 47,
     "metadata": {},
     "output_type": "execute_result"
    }
   ],
   "source": [
    "df[df[\"Name\"].str.startswith(\"ja\")]"
   ]
  },
  {
   "cell_type": "markdown",
   "id": "1bcf0ebc",
   "metadata": {},
   "source": [
    "## 28. Filtering - endswith"
   ]
  },
  {
   "cell_type": "code",
   "execution_count": 48,
   "id": "a6404b76",
   "metadata": {},
   "outputs": [
    {
     "data": {
      "text/html": [
       "<div>\n",
       "<style scoped>\n",
       "    .dataframe tbody tr th:only-of-type {\n",
       "        vertical-align: middle;\n",
       "    }\n",
       "\n",
       "    .dataframe tbody tr th {\n",
       "        vertical-align: top;\n",
       "    }\n",
       "\n",
       "    .dataframe thead th {\n",
       "        text-align: right;\n",
       "    }\n",
       "</style>\n",
       "<table border=\"1\" class=\"dataframe\">\n",
       "  <thead>\n",
       "    <tr style=\"text-align: right;\">\n",
       "      <th></th>\n",
       "      <th>Name</th>\n",
       "      <th>Address</th>\n",
       "      <th>Salary</th>\n",
       "      <th>Group</th>\n",
       "      <th>Category</th>\n",
       "      <th>State</th>\n",
       "      <th>City</th>\n",
       "      <th>Profession</th>\n",
       "    </tr>\n",
       "  </thead>\n",
       "  <tbody>\n",
       "    <tr>\n",
       "      <th>0</th>\n",
       "      <td>Jane</td>\n",
       "      <td>Houston,TX</td>\n",
       "      <td>64K-72K</td>\n",
       "      <td>A-1-B-F</td>\n",
       "      <td>1x</td>\n",
       "      <td>TX</td>\n",
       "      <td>Houston</td>\n",
       "      <td>doctor</td>\n",
       "    </tr>\n",
       "  </tbody>\n",
       "</table>\n",
       "</div>"
      ],
      "text/plain": [
       "   Name     Address   Salary    Group Category State     City Profession\n",
       "0  Jane  Houston,TX  64K-72K  A-1-B-F       1x    TX  Houston     doctor"
      ]
     },
     "execution_count": 48,
     "metadata": {},
     "output_type": "execute_result"
    }
   ],
   "source": [
    "df[df[\"Name\"].str.endswith(\"e\")]"
   ]
  },
  {
   "cell_type": "markdown",
   "id": "cc3b9400",
   "metadata": {},
   "source": [
    "## 29. Chaining - 1"
   ]
  },
  {
   "cell_type": "code",
   "execution_count": 49,
   "id": "92e9d2c4",
   "metadata": {},
   "outputs": [
    {
     "data": {
      "text/html": [
       "<div>\n",
       "<style scoped>\n",
       "    .dataframe tbody tr th:only-of-type {\n",
       "        vertical-align: middle;\n",
       "    }\n",
       "\n",
       "    .dataframe tbody tr th {\n",
       "        vertical-align: top;\n",
       "    }\n",
       "\n",
       "    .dataframe thead th {\n",
       "        text-align: right;\n",
       "    }\n",
       "</style>\n",
       "<table border=\"1\" class=\"dataframe\">\n",
       "  <thead>\n",
       "    <tr style=\"text-align: right;\">\n",
       "      <th></th>\n",
       "      <th>Name</th>\n",
       "      <th>Address</th>\n",
       "      <th>Salary</th>\n",
       "      <th>Group</th>\n",
       "      <th>Category</th>\n",
       "      <th>State</th>\n",
       "      <th>City</th>\n",
       "      <th>Profession</th>\n",
       "    </tr>\n",
       "  </thead>\n",
       "  <tbody>\n",
       "    <tr>\n",
       "      <th>0</th>\n",
       "      <td>Jane</td>\n",
       "      <td>Houston,TX</td>\n",
       "      <td>64K-72K</td>\n",
       "      <td>A-1-B-F</td>\n",
       "      <td>1x</td>\n",
       "      <td>TX</td>\n",
       "      <td>Houston</td>\n",
       "      <td>doctor</td>\n",
       "    </tr>\n",
       "    <tr>\n",
       "      <th>1</th>\n",
       "      <td>James</td>\n",
       "      <td>Dallas,TX</td>\n",
       "      <td>62K-70K</td>\n",
       "      <td>B-2-B-F</td>\n",
       "      <td>1y</td>\n",
       "      <td>TX</td>\n",
       "      <td>Dallas</td>\n",
       "      <td>doctor</td>\n",
       "    </tr>\n",
       "    <tr>\n",
       "      <th>2</th>\n",
       "      <td>Matt</td>\n",
       "      <td>Chicago,IL</td>\n",
       "      <td>69K-76K</td>\n",
       "      <td>A-2-B-F</td>\n",
       "      <td>2x</td>\n",
       "      <td>IL</td>\n",
       "      <td>Chicago</td>\n",
       "      <td>doctor</td>\n",
       "    </tr>\n",
       "    <tr>\n",
       "      <th>3</th>\n",
       "      <td>Emily</td>\n",
       "      <td>Phoenix,AZ</td>\n",
       "      <td>62K-72K</td>\n",
       "      <td>B-1-C-D</td>\n",
       "      <td>1x</td>\n",
       "      <td>AZ</td>\n",
       "      <td>Phoenix</td>\n",
       "      <td>engineer</td>\n",
       "    </tr>\n",
       "    <tr>\n",
       "      <th>4</th>\n",
       "      <td>John</td>\n",
       "      <td>San Diego,CA</td>\n",
       "      <td>71K-78K</td>\n",
       "      <td>A-1-1-D</td>\n",
       "      <td>1y</td>\n",
       "      <td>CA</td>\n",
       "      <td>San Diego</td>\n",
       "      <td>nurse</td>\n",
       "    </tr>\n",
       "  </tbody>\n",
       "</table>\n",
       "</div>"
      ],
      "text/plain": [
       "    Name       Address   Salary    Group Category State       City Profession\n",
       "0   Jane    Houston,TX  64K-72K  A-1-B-F       1x    TX    Houston     doctor\n",
       "1  James     Dallas,TX  62K-70K  B-2-B-F       1y    TX     Dallas     doctor\n",
       "2   Matt    Chicago,IL  69K-76K  A-2-B-F     2x      IL    Chicago     doctor\n",
       "3  Emily    Phoenix,AZ  62K-72K  B-1-C-D       1x    AZ    Phoenix   engineer\n",
       "4   John  San Diego,CA  71K-78K  A-1-1-D     1y      CA  San Diego      nurse"
      ]
     },
     "execution_count": 49,
     "metadata": {},
     "output_type": "execute_result"
    }
   ],
   "source": [
    "df"
   ]
  },
  {
   "cell_type": "code",
   "execution_count": 50,
   "id": "5a73c15e",
   "metadata": {},
   "outputs": [
    {
     "data": {
      "text/plain": [
       "0     True\n",
       "1     True\n",
       "2    False\n",
       "3    False\n",
       "4     True\n",
       "Name: Name, dtype: boolean"
      ]
     },
     "execution_count": 50,
     "metadata": {},
     "output_type": "execute_result"
    }
   ],
   "source": [
    "df[\"Name\"].str.lower().str.startswith(\"j\")"
   ]
  },
  {
   "cell_type": "markdown",
   "id": "f1a18199",
   "metadata": {},
   "source": [
    "## 30. Chaining - 2"
   ]
  },
  {
   "cell_type": "code",
   "execution_count": 51,
   "id": "5be3f7f3",
   "metadata": {},
   "outputs": [
    {
     "data": {
      "text/plain": [
       "0    tx\n",
       "1    tx\n",
       "2    il\n",
       "3    az\n",
       "4    ca\n",
       "Name: 1, dtype: string"
      ]
     },
     "execution_count": 51,
     "metadata": {},
     "output_type": "execute_result"
    }
   ],
   "source": [
    "df[\"Address\"].str.split(\",\", expand=True)[1].str.lower()"
   ]
  }
 ],
 "metadata": {
  "kernelspec": {
   "display_name": "Python 3 (ipykernel)",
   "language": "python",
   "name": "python3"
  },
  "language_info": {
   "codemirror_mode": {
    "name": "ipython",
    "version": 3
   },
   "file_extension": ".py",
   "mimetype": "text/x-python",
   "name": "python",
   "nbconvert_exporter": "python",
   "pygments_lexer": "ipython3",
   "version": "3.10.8"
  }
 },
 "nbformat": 4,
 "nbformat_minor": 5
}
